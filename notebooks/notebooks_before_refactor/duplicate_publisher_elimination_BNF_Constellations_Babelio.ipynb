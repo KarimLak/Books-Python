{
 "cells": [
  {
   "cell_type": "markdown",
   "metadata": {},
   "source": [
    "# goal of notebook\n",
    "- eliminate duplicates of publishers in BNF + Constellations \n",
    "- done before manually matching with BTLF\n",
    "- in alignement_editeur_analyse & extractionGrapheBTLF\n",
    "\n",
    "# prerequisite\n",
    "- use latest version of BNF and Constellations files\n",
    "\n",
    "# output\n",
    "- BNF and Constellations books & publisher files without duplicate\n",
    "\n",
    "# next\n",
    "- execute alignement_editeurs_analyse.ipynb"
   ]
  },
  {
   "cell_type": "code",
   "execution_count": 9,
   "metadata": {},
   "outputs": [],
   "source": [
    "from rdflib import Graph, Namespace, Literal, URIRef\n",
    "from rdflib import RDF, RDFS, OWL, XSD\n",
    "import sys\n",
    "sys.path.append('../')\n",
    "\n",
    "sys.path.append('../andre')\n",
    "import andre.utils as utils\n",
    "from andre.utils import schema as SCHEMA\n",
    "import collections"
   ]
  },
  {
   "cell_type": "code",
   "execution_count": 3,
   "metadata": {},
   "outputs": [],
   "source": [
    "def create_duplicate_replacement(duplicates):\n",
    "    duplicate_counter = 0 \n",
    "    duplicate_replacements = {}\n",
    "    for key in duplicates:\n",
    "        duplicate_list = duplicates[key]\n",
    "        if len(duplicate_list) >= 2:\n",
    "            duplicate_counter += 1\n",
    "            print(\"\\\"\"+ key + \"\\\"\")\n",
    "            replacement = duplicate_list[0] # choosing 1st item of list because all the choices are equivalent\n",
    "            print(\"  \", duplicate_list[0].replace(\"http://schema.org/\", \" \"))\n",
    "            for i in range(1,len(duplicate_list)):\n",
    "                duplicate_replacements[duplicate_list[i]] = replacement\n",
    "                print(\"  \", duplicate_list[i].replace(\"http://schema.org/\", \" \"))\n",
    "    print(\"duplicate\", duplicate_counter)\n",
    "    return duplicate_replacements"
   ]
  },
  {
   "cell_type": "markdown",
   "metadata": {},
   "source": [
    "# duplicate elimination bnf constellations"
   ]
  },
  {
   "cell_type": "code",
   "execution_count": 4,
   "metadata": {},
   "outputs": [
    {
     "data": {
      "text/plain": [
       "2295"
      ]
     },
     "execution_count": 4,
     "metadata": {},
     "output_type": "execute_result"
    }
   ],
   "source": [
    "publishers_bnf_constellations_babelio_graph = Graph()\n",
    "publishers_bnf_constellations_babelio_graph.bind(\"schema\",\"http://schema.org/\", override=True, replace=True)\n",
    "publishers_bnf_constellations_babelio_graph.parse(\"final_datasets/intermediary_files/publishers-backup-karim.ttl\")\n",
    "len(list(publishers_bnf_constellations_babelio_graph.subjects(RDF.type, SCHEMA.Publisher)))"
   ]
  },
  {
   "cell_type": "code",
   "execution_count": 5,
   "metadata": {},
   "outputs": [
    {
     "name": "stdout",
     "output_type": "stream",
     "text": [
      "\"ankama\"\n",
      "    Ankama\n",
      "    Ankamadition\n",
      "\"bamboo\"\n",
      "    Bamboo\n",
      "    Bamboodition\n",
      "\"cadex\"\n",
      "    Cadex\n",
      "    Cadexditions\n",
      "\"delcourt\"\n",
      "    Delcourt\n",
      "    GroupeDelcourt\n",
      "\"denoel\"\n",
      "    Denoël\n",
      "    Denöel\n",
      "\"ekare\"\n",
      "    Ekaré\n",
      "    Ékaré\n",
      "\"fleurus\"\n",
      "    Fleurus\n",
      "    FleurusEditions\n",
      "\"grund\"\n",
      "    Gründ\n",
      "    Grund\n",
      "    LibrairieGrnd\n",
      "\"hugo\"\n",
      "    Hugo\n",
      "    HugoetCie\n",
      "\"lagapante\"\n",
      "    LAgapante\n",
      "    lAgapanteCie\n",
      "\"larche\"\n",
      "    LArche\n",
      "    LArcheEditeur\n",
      "\"lemeac\"\n",
      "    Leméac\n",
      "    Lmac\n",
      "\"memo\"\n",
      "    MeMo\n",
      "    MéMo\n",
      "\"palette\"\n",
      "    Palette\n",
      "    palette\n",
      "\"pika\"\n",
      "    Pika\n",
      "    Pikadition\n",
      "\"xyz\"\n",
      "    XYZ_Éditeur\n",
      "    XYZ\n",
      "\"zebulo\"\n",
      "    Zébulo\n",
      "    Zebuloditions\n",
      "\"etre\"\n",
      "    Être_Éditions\n",
      "    tre\n",
      "    Etre\n",
      "\"lansman\"\n",
      "    Lansman\n",
      "    Lansmanditeur\n",
      "\"samir\"\n",
      "    Samir\n",
      "    Samr\n",
      "\"flammarion\"\n",
      "    Flammarion\n",
      "    Flammarionditeur\n",
      "\"duchene\"\n",
      "    Éditions_du_Chêne\n",
      "    duChne\n",
      "\"123soleil\"\n",
      "    Éditions_123_Soleil\n",
      "    1_2_3_Soleil\n",
      "\"lelievredemars\"\n",
      "    Le_Lièvre_de_Mars\n",
      "    Le_lièvre_de_Mars\n",
      "\"oh\"\n",
      "    Oh_Éditions\n",
      "    Ohd\n",
      "\"petitsgenies\"\n",
      "    Petits_Génies\n",
      "    Petits_génies\n",
      "\"dupepin\"\n",
      "    Éditions_du_Pépin\n",
      "    duPpin\n",
      "\"goelette\"\n",
      "    Éditions_Goélette\n",
      "    Golette\n",
      "\"delachauxetniestle\"\n",
      "    Delachaux_et_Niestlé\n",
      "    Delachaux_et_Niestle\n",
      "\"motus\"\n",
      "    Éditions_Motus\n",
      "    Motus\n",
      "\"quatrefleuves\"\n",
      "    Quatre_Fleuves\n",
      "    Éditions_Quatre_Fleuves\n",
      "\"imav\"\n",
      "    IMAV_éditions\n",
      "    IMAVd\n",
      "\"nane\"\n",
      "    Nane_éditions\n",
      "    NANEd\n",
      "\"lapoulequipond\"\n",
      "    La_Poule_qui_pond\n",
      "    La_poule_qui_pond\n",
      "\"disneyhyperionbooks\"\n",
      "    Disney_Hyperion_Books\n",
      "    DisneyHyperion_Books\n",
      "\"ruedelechiquier\"\n",
      "    Rue_de_léchiquier\n",
      "    Rue_de_lÉchiquier\n",
      "\"northsouthbooks\"\n",
      "    North_South_Books\n",
      "    NorthSouth_Books\n",
      "\"format\"\n",
      "    Format\n",
      "    Éditions_Format\n",
      "\"alzabane\"\n",
      "    Alzabane_éditions\n",
      "    Alzabaned\n",
      "\"grenouille\"\n",
      "    Grenouille\n",
      "    Grenouilleditions\n",
      "\"lesablier\"\n",
      "    Le_Sablier\n",
      "    leSablierd\n",
      "\"1018\"\n",
      "    Éditions_1018\n",
      "    1018\n",
      "\"eyrolles\"\n",
      "    Éditions_Eyrolles\n",
      "    Eyrolles\n",
      "\"ceres\"\n",
      "    Crs\n",
      "    crsditions\n",
      "\"daralsaqi\"\n",
      "    DaralSaqi\n",
      "    DralSq\n",
      "\"tsipika\"\n",
      "    Tsipika\n",
      "    tsipikaedition\n",
      "\"ndze\"\n",
      "    NDZE\n",
      "    Ndz\n",
      "\"scutella\"\n",
      "    Scutellad\n",
      "    Scutelladitions\n",
      "\"daraladab\"\n",
      "    Draldb\n",
      "    DaralAdab\n",
      "\"duberyl\"\n",
      "    editionsdubryl\n",
      "    dubryl\n",
      "\"soline\"\n",
      "    Soline\n",
      "    Solined\n",
      "\"daralhadaiq\"\n",
      "    DaralHadaiq\n",
      "    daralhadaiq\n",
      "    DralHadiq\n",
      "\"koine\"\n",
      "    Konditions\n",
      "    Koin\n",
      "\"micmac\"\n",
      "    MicMac\n",
      "    MicMacditions\n",
      "\"ep\"\n",
      "    EPditions\n",
      "    EPd\n",
      "\"blackbox\"\n",
      "    blackboxditions\n",
      "    BlackBox\n",
      "\"edicef\"\n",
      "    EDICEF\n",
      "    dicef\n",
      "\"h2t\"\n",
      "    H2T\n",
      "    H2Tditions\n",
      "\"pemf\"\n",
      "    pemf\n",
      "    PEMF\n",
      "\"vizavi\"\n",
      "    Vizavid\n",
      "    Vizavi\n",
      "\"bartholdi\"\n",
      "    Bartholdiditions\n",
      "    Bartholdi\n",
      "\"bld\"\n",
      "    bldeditions\n",
      "    BLD\n",
      "duplicate 62\n"
     ]
    }
   ],
   "source": [
    "publishers_bnf_constellations_babelio_dict = {}\n",
    "duplicates_bnf_constellations_babelio = collections.defaultdict(lambda: [])\n",
    "for publisher in publishers_bnf_constellations_babelio_graph.subjects(RDF.type, SCHEMA.Publisher):\n",
    "    raw_name = str(publishers_bnf_constellations_babelio_graph.value(publisher, SCHEMA.name))\n",
    "    preprocessed_name = utils.preprocess_publisher_name(raw_name)\n",
    "\n",
    "    duplicates_bnf_constellations_babelio[preprocessed_name].append(publisher)\n",
    "    \n",
    "duplicates_replacements_bnf_constellations_babelio = create_duplicate_replacement(duplicates_bnf_constellations_babelio)"
   ]
  },
  {
   "cell_type": "code",
   "execution_count": 6,
   "metadata": {},
   "outputs": [],
   "source": [
    "# manual duplicates found when doing manual matches\n",
    "duplicates_replacements_bnf_constellations_babelio[URIRef('http://schema.org/MLafon')] = URIRef('http://schema.org/Michel_Lafon')\n",
    "duplicates_replacements_bnf_constellations_babelio[URIRef('http://schema.org/duSorbier')] = URIRef('http://schema.org/Le_Sorbier')\n",
    "duplicates_replacements_bnf_constellations_babelio[URIRef('http://schema.org/Les_Écrits_Des_Forges')] = URIRef('http://schema.org/Écrits_Des_Forges')"
   ]
  },
  {
   "cell_type": "code",
   "execution_count": 7,
   "metadata": {},
   "outputs": [
    {
     "data": {
      "text/plain": [
       "{rdflib.term.URIRef('http://schema.org/Ankamadition'): rdflib.term.URIRef('http://schema.org/Ankama'),\n",
       " rdflib.term.URIRef('http://schema.org/Bamboodition'): rdflib.term.URIRef('http://schema.org/Bamboo'),\n",
       " rdflib.term.URIRef('http://schema.org/Cadexditions'): rdflib.term.URIRef('http://schema.org/Cadex'),\n",
       " rdflib.term.URIRef('http://schema.org/GroupeDelcourt'): rdflib.term.URIRef('http://schema.org/Delcourt'),\n",
       " rdflib.term.URIRef('http://schema.org/Denöel'): rdflib.term.URIRef('http://schema.org/Denoël'),\n",
       " rdflib.term.URIRef('http://schema.org/Ékaré'): rdflib.term.URIRef('http://schema.org/Ekaré'),\n",
       " rdflib.term.URIRef('http://schema.org/FleurusEditions'): rdflib.term.URIRef('http://schema.org/Fleurus'),\n",
       " rdflib.term.URIRef('http://schema.org/Grund'): rdflib.term.URIRef('http://schema.org/Gründ'),\n",
       " rdflib.term.URIRef('http://schema.org/LibrairieGrnd'): rdflib.term.URIRef('http://schema.org/Gründ'),\n",
       " rdflib.term.URIRef('http://schema.org/HugoetCie'): rdflib.term.URIRef('http://schema.org/Hugo'),\n",
       " rdflib.term.URIRef('http://schema.org/lAgapanteCie'): rdflib.term.URIRef('http://schema.org/LAgapante'),\n",
       " rdflib.term.URIRef('http://schema.org/LArcheEditeur'): rdflib.term.URIRef('http://schema.org/LArche'),\n",
       " rdflib.term.URIRef('http://schema.org/Lmac'): rdflib.term.URIRef('http://schema.org/Leméac'),\n",
       " rdflib.term.URIRef('http://schema.org/MéMo'): rdflib.term.URIRef('http://schema.org/MeMo'),\n",
       " rdflib.term.URIRef('http://schema.org/palette'): rdflib.term.URIRef('http://schema.org/Palette'),\n",
       " rdflib.term.URIRef('http://schema.org/Pikadition'): rdflib.term.URIRef('http://schema.org/Pika'),\n",
       " rdflib.term.URIRef('http://schema.org/XYZ'): rdflib.term.URIRef('http://schema.org/XYZ_Éditeur'),\n",
       " rdflib.term.URIRef('http://schema.org/Zebuloditions'): rdflib.term.URIRef('http://schema.org/Zébulo'),\n",
       " rdflib.term.URIRef('http://schema.org/tre'): rdflib.term.URIRef('http://schema.org/Être_Éditions'),\n",
       " rdflib.term.URIRef('http://schema.org/Etre'): rdflib.term.URIRef('http://schema.org/Être_Éditions'),\n",
       " rdflib.term.URIRef('http://schema.org/Lansmanditeur'): rdflib.term.URIRef('http://schema.org/Lansman'),\n",
       " rdflib.term.URIRef('http://schema.org/Samr'): rdflib.term.URIRef('http://schema.org/Samir'),\n",
       " rdflib.term.URIRef('http://schema.org/Flammarionditeur'): rdflib.term.URIRef('http://schema.org/Flammarion'),\n",
       " rdflib.term.URIRef('http://schema.org/duChne'): rdflib.term.URIRef('http://schema.org/Éditions_du_Chêne'),\n",
       " rdflib.term.URIRef('http://schema.org/1_2_3_Soleil'): rdflib.term.URIRef('http://schema.org/Éditions_123_Soleil'),\n",
       " rdflib.term.URIRef('http://schema.org/Le_lièvre_de_Mars'): rdflib.term.URIRef('http://schema.org/Le_Lièvre_de_Mars'),\n",
       " rdflib.term.URIRef('http://schema.org/Ohd'): rdflib.term.URIRef('http://schema.org/Oh_Éditions'),\n",
       " rdflib.term.URIRef('http://schema.org/Petits_génies'): rdflib.term.URIRef('http://schema.org/Petits_Génies'),\n",
       " rdflib.term.URIRef('http://schema.org/duPpin'): rdflib.term.URIRef('http://schema.org/Éditions_du_Pépin'),\n",
       " rdflib.term.URIRef('http://schema.org/Golette'): rdflib.term.URIRef('http://schema.org/Éditions_Goélette'),\n",
       " rdflib.term.URIRef('http://schema.org/Delachaux_et_Niestle'): rdflib.term.URIRef('http://schema.org/Delachaux_et_Niestlé'),\n",
       " rdflib.term.URIRef('http://schema.org/Motus'): rdflib.term.URIRef('http://schema.org/Éditions_Motus'),\n",
       " rdflib.term.URIRef('http://schema.org/Éditions_Quatre_Fleuves'): rdflib.term.URIRef('http://schema.org/Quatre_Fleuves'),\n",
       " rdflib.term.URIRef('http://schema.org/IMAVd'): rdflib.term.URIRef('http://schema.org/IMAV_éditions'),\n",
       " rdflib.term.URIRef('http://schema.org/NANEd'): rdflib.term.URIRef('http://schema.org/Nane_éditions'),\n",
       " rdflib.term.URIRef('http://schema.org/La_poule_qui_pond'): rdflib.term.URIRef('http://schema.org/La_Poule_qui_pond'),\n",
       " rdflib.term.URIRef('http://schema.org/DisneyHyperion_Books'): rdflib.term.URIRef('http://schema.org/Disney_Hyperion_Books'),\n",
       " rdflib.term.URIRef('http://schema.org/Rue_de_lÉchiquier'): rdflib.term.URIRef('http://schema.org/Rue_de_léchiquier'),\n",
       " rdflib.term.URIRef('http://schema.org/NorthSouth_Books'): rdflib.term.URIRef('http://schema.org/North_South_Books'),\n",
       " rdflib.term.URIRef('http://schema.org/Éditions_Format'): rdflib.term.URIRef('http://schema.org/Format'),\n",
       " rdflib.term.URIRef('http://schema.org/Alzabaned'): rdflib.term.URIRef('http://schema.org/Alzabane_éditions'),\n",
       " rdflib.term.URIRef('http://schema.org/Grenouilleditions'): rdflib.term.URIRef('http://schema.org/Grenouille'),\n",
       " rdflib.term.URIRef('http://schema.org/leSablierd'): rdflib.term.URIRef('http://schema.org/Le_Sablier'),\n",
       " rdflib.term.URIRef('http://schema.org/1018'): rdflib.term.URIRef('http://schema.org/Éditions_1018'),\n",
       " rdflib.term.URIRef('http://schema.org/Eyrolles'): rdflib.term.URIRef('http://schema.org/Éditions_Eyrolles'),\n",
       " rdflib.term.URIRef('http://schema.org/crsditions'): rdflib.term.URIRef('http://schema.org/Crs'),\n",
       " rdflib.term.URIRef('http://schema.org/DralSq'): rdflib.term.URIRef('http://schema.org/DaralSaqi'),\n",
       " rdflib.term.URIRef('http://schema.org/tsipikaedition'): rdflib.term.URIRef('http://schema.org/Tsipika'),\n",
       " rdflib.term.URIRef('http://schema.org/Ndz'): rdflib.term.URIRef('http://schema.org/NDZE'),\n",
       " rdflib.term.URIRef('http://schema.org/Scutelladitions'): rdflib.term.URIRef('http://schema.org/Scutellad'),\n",
       " rdflib.term.URIRef('http://schema.org/DaralAdab'): rdflib.term.URIRef('http://schema.org/Draldb'),\n",
       " rdflib.term.URIRef('http://schema.org/dubryl'): rdflib.term.URIRef('http://schema.org/editionsdubryl'),\n",
       " rdflib.term.URIRef('http://schema.org/Solined'): rdflib.term.URIRef('http://schema.org/Soline'),\n",
       " rdflib.term.URIRef('http://schema.org/daralhadaiq'): rdflib.term.URIRef('http://schema.org/DaralHadaiq'),\n",
       " rdflib.term.URIRef('http://schema.org/DralHadiq'): rdflib.term.URIRef('http://schema.org/DaralHadaiq'),\n",
       " rdflib.term.URIRef('http://schema.org/Koin'): rdflib.term.URIRef('http://schema.org/Konditions'),\n",
       " rdflib.term.URIRef('http://schema.org/MicMacditions'): rdflib.term.URIRef('http://schema.org/MicMac'),\n",
       " rdflib.term.URIRef('http://schema.org/EPd'): rdflib.term.URIRef('http://schema.org/EPditions'),\n",
       " rdflib.term.URIRef('http://schema.org/BlackBox'): rdflib.term.URIRef('http://schema.org/blackboxditions'),\n",
       " rdflib.term.URIRef('http://schema.org/dicef'): rdflib.term.URIRef('http://schema.org/EDICEF'),\n",
       " rdflib.term.URIRef('http://schema.org/H2Tditions'): rdflib.term.URIRef('http://schema.org/H2T'),\n",
       " rdflib.term.URIRef('http://schema.org/PEMF'): rdflib.term.URIRef('http://schema.org/pemf'),\n",
       " rdflib.term.URIRef('http://schema.org/Vizavi'): rdflib.term.URIRef('http://schema.org/Vizavid'),\n",
       " rdflib.term.URIRef('http://schema.org/Bartholdi'): rdflib.term.URIRef('http://schema.org/Bartholdiditions'),\n",
       " rdflib.term.URIRef('http://schema.org/BLD'): rdflib.term.URIRef('http://schema.org/bldeditions'),\n",
       " rdflib.term.URIRef('http://schema.org/MLafon'): rdflib.term.URIRef('http://schema.org/Michel_Lafon'),\n",
       " rdflib.term.URIRef('http://schema.org/duSorbier'): rdflib.term.URIRef('http://schema.org/Le_Sorbier'),\n",
       " rdflib.term.URIRef('http://schema.org/Les_Écrits_Des_Forges'): rdflib.term.URIRef('http://schema.org/Écrits_Des_Forges')}"
      ]
     },
     "execution_count": 7,
     "metadata": {},
     "output_type": "execute_result"
    }
   ],
   "source": [
    "duplicates_replacements_bnf_constellations_babelio"
   ]
  },
  {
   "cell_type": "code",
   "execution_count": 8,
   "metadata": {},
   "outputs": [
    {
     "ename": "KeyboardInterrupt",
     "evalue": "",
     "output_type": "error",
     "traceback": [
      "\u001b[1;31m---------------------------------------------------------------------------\u001b[0m",
      "\u001b[1;31mKeyboardInterrupt\u001b[0m                         Traceback (most recent call last)",
      "Cell \u001b[1;32mIn[8], line 2\u001b[0m\n\u001b[0;32m      1\u001b[0m graph_bnf \u001b[38;5;241m=\u001b[39m Graph()\n\u001b[1;32m----> 2\u001b[0m \u001b[43mgraph_bnf\u001b[49m\u001b[38;5;241;43m.\u001b[39;49m\u001b[43mparse\u001b[49m\u001b[43m(\u001b[49m\u001b[38;5;124;43m\"\u001b[39;49m\u001b[38;5;124;43mfinal_datasets/bnf_auteursURI.ttl\u001b[39;49m\u001b[38;5;124;43m\"\u001b[39;49m\u001b[43m,\u001b[49m\u001b[43m \u001b[49m\u001b[38;5;28;43mformat\u001b[39;49m\u001b[38;5;241;43m=\u001b[39;49m\u001b[38;5;124;43m\"\u001b[39;49m\u001b[38;5;124;43mturtle\u001b[39;49m\u001b[38;5;124;43m\"\u001b[39;49m\u001b[43m)\u001b[49m\n",
      "File \u001b[1;32m~\\AppData\\Local\\Packages\\PythonSoftwareFoundation.Python.3.11_qbz5n2kfra8p0\\LocalCache\\local-packages\\Python311\\site-packages\\rdflib\\graph.py:1494\u001b[0m, in \u001b[0;36mGraph.parse\u001b[1;34m(self, source, publicID, format, location, file, data, **args)\u001b[0m\n\u001b[0;32m   1491\u001b[0m parser \u001b[38;5;241m=\u001b[39m plugin\u001b[38;5;241m.\u001b[39mget(\u001b[38;5;28mformat\u001b[39m, Parser)()\n\u001b[0;32m   1492\u001b[0m \u001b[38;5;28;01mtry\u001b[39;00m:\n\u001b[0;32m   1493\u001b[0m     \u001b[38;5;66;03m# TODO FIXME: Parser.parse should have **kwargs argument.\u001b[39;00m\n\u001b[1;32m-> 1494\u001b[0m     \u001b[43mparser\u001b[49m\u001b[38;5;241;43m.\u001b[39;49m\u001b[43mparse\u001b[49m\u001b[43m(\u001b[49m\u001b[43msource\u001b[49m\u001b[43m,\u001b[49m\u001b[43m \u001b[49m\u001b[38;5;28;43mself\u001b[39;49m\u001b[43m,\u001b[49m\u001b[43m \u001b[49m\u001b[38;5;241;43m*\u001b[39;49m\u001b[38;5;241;43m*\u001b[39;49m\u001b[43margs\u001b[49m\u001b[43m)\u001b[49m\n\u001b[0;32m   1495\u001b[0m \u001b[38;5;28;01mexcept\u001b[39;00m \u001b[38;5;167;01mSyntaxError\u001b[39;00m \u001b[38;5;28;01mas\u001b[39;00m se:\n\u001b[0;32m   1496\u001b[0m     \u001b[38;5;28;01mif\u001b[39;00m could_not_guess_format:\n",
      "File \u001b[1;32m~\\AppData\\Local\\Packages\\PythonSoftwareFoundation.Python.3.11_qbz5n2kfra8p0\\LocalCache\\local-packages\\Python311\\site-packages\\rdflib\\plugins\\parsers\\notation3.py:2021\u001b[0m, in \u001b[0;36mTurtleParser.parse\u001b[1;34m(self, source, graph, encoding, turtle)\u001b[0m\n\u001b[0;32m   2019\u001b[0m \u001b[38;5;28;01mif\u001b[39;00m \u001b[38;5;129;01mnot\u001b[39;00m stream:\n\u001b[0;32m   2020\u001b[0m     stream \u001b[38;5;241m=\u001b[39m source\u001b[38;5;241m.\u001b[39mgetByteStream()\n\u001b[1;32m-> 2021\u001b[0m \u001b[43mp\u001b[49m\u001b[38;5;241;43m.\u001b[39;49m\u001b[43mloadStream\u001b[49m\u001b[43m(\u001b[49m\u001b[43mstream\u001b[49m\u001b[43m)\u001b[49m\n\u001b[0;32m   2023\u001b[0m \u001b[38;5;28;01mfor\u001b[39;00m prefix, namespace \u001b[38;5;129;01min\u001b[39;00m p\u001b[38;5;241m.\u001b[39m_bindings\u001b[38;5;241m.\u001b[39mitems():\n\u001b[0;32m   2024\u001b[0m     graph\u001b[38;5;241m.\u001b[39mbind(prefix, namespace)\n",
      "File \u001b[1;32m~\\AppData\\Local\\Packages\\PythonSoftwareFoundation.Python.3.11_qbz5n2kfra8p0\\LocalCache\\local-packages\\Python311\\site-packages\\rdflib\\plugins\\parsers\\notation3.py:479\u001b[0m, in \u001b[0;36mSinkParser.loadStream\u001b[1;34m(self, stream)\u001b[0m\n\u001b[0;32m    478\u001b[0m \u001b[38;5;28;01mdef\u001b[39;00m \u001b[38;5;21mloadStream\u001b[39m(\u001b[38;5;28mself\u001b[39m, stream: Union[IO[\u001b[38;5;28mstr\u001b[39m], IO[\u001b[38;5;28mbytes\u001b[39m]]) \u001b[38;5;241m-\u001b[39m\u001b[38;5;241m>\u001b[39m Optional[\u001b[38;5;124m\"\u001b[39m\u001b[38;5;124mFormula\u001b[39m\u001b[38;5;124m\"\u001b[39m]:\n\u001b[1;32m--> 479\u001b[0m     \u001b[38;5;28;01mreturn\u001b[39;00m \u001b[38;5;28;43mself\u001b[39;49m\u001b[38;5;241;43m.\u001b[39;49m\u001b[43mloadBuf\u001b[49m\u001b[43m(\u001b[49m\u001b[43mstream\u001b[49m\u001b[38;5;241;43m.\u001b[39;49m\u001b[43mread\u001b[49m\u001b[43m(\u001b[49m\u001b[43m)\u001b[49m\u001b[43m)\u001b[49m\n",
      "File \u001b[1;32m~\\AppData\\Local\\Packages\\PythonSoftwareFoundation.Python.3.11_qbz5n2kfra8p0\\LocalCache\\local-packages\\Python311\\site-packages\\rdflib\\plugins\\parsers\\notation3.py:485\u001b[0m, in \u001b[0;36mSinkParser.loadBuf\u001b[1;34m(self, buf)\u001b[0m\n\u001b[0;32m    482\u001b[0m \u001b[38;5;250m\u001b[39m\u001b[38;5;124;03m\"\"\"Parses a buffer and returns its top level formula\"\"\"\u001b[39;00m\n\u001b[0;32m    483\u001b[0m \u001b[38;5;28mself\u001b[39m\u001b[38;5;241m.\u001b[39mstartDoc()\n\u001b[1;32m--> 485\u001b[0m \u001b[38;5;28;43mself\u001b[39;49m\u001b[38;5;241;43m.\u001b[39;49m\u001b[43mfeed\u001b[49m\u001b[43m(\u001b[49m\u001b[43mbuf\u001b[49m\u001b[43m)\u001b[49m\n\u001b[0;32m    486\u001b[0m \u001b[38;5;28;01mreturn\u001b[39;00m \u001b[38;5;28mself\u001b[39m\u001b[38;5;241m.\u001b[39mendDoc()\n",
      "File \u001b[1;32m~\\AppData\\Local\\Packages\\PythonSoftwareFoundation.Python.3.11_qbz5n2kfra8p0\\LocalCache\\local-packages\\Python311\\site-packages\\rdflib\\plugins\\parsers\\notation3.py:511\u001b[0m, in \u001b[0;36mSinkParser.feed\u001b[1;34m(self, octets)\u001b[0m\n\u001b[0;32m    508\u001b[0m \u001b[38;5;28;01mif\u001b[39;00m j \u001b[38;5;241m<\u001b[39m \u001b[38;5;241m0\u001b[39m:\n\u001b[0;32m    509\u001b[0m     \u001b[38;5;28;01mreturn\u001b[39;00m\n\u001b[1;32m--> 511\u001b[0m i \u001b[38;5;241m=\u001b[39m \u001b[38;5;28;43mself\u001b[39;49m\u001b[38;5;241;43m.\u001b[39;49m\u001b[43mdirectiveOrStatement\u001b[49m\u001b[43m(\u001b[49m\u001b[43ms\u001b[49m\u001b[43m,\u001b[49m\u001b[43m \u001b[49m\u001b[43mj\u001b[49m\u001b[43m)\u001b[49m\n\u001b[0;32m    512\u001b[0m \u001b[38;5;28;01mif\u001b[39;00m i \u001b[38;5;241m<\u001b[39m \u001b[38;5;241m0\u001b[39m:\n\u001b[0;32m    513\u001b[0m     \u001b[38;5;66;03m# print(\"# next char: %s\" % s[j])\u001b[39;00m\n\u001b[0;32m    514\u001b[0m     \u001b[38;5;28mself\u001b[39m\u001b[38;5;241m.\u001b[39mBadSyntax(s, j, \u001b[38;5;124m\"\u001b[39m\u001b[38;5;124mexpected directive or statement\u001b[39m\u001b[38;5;124m\"\u001b[39m)\n",
      "File \u001b[1;32m~\\AppData\\Local\\Packages\\PythonSoftwareFoundation.Python.3.11_qbz5n2kfra8p0\\LocalCache\\local-packages\\Python311\\site-packages\\rdflib\\plugins\\parsers\\notation3.py:530\u001b[0m, in \u001b[0;36mSinkParser.directiveOrStatement\u001b[1;34m(self, argstr, h)\u001b[0m\n\u001b[0;32m    527\u001b[0m \u001b[38;5;28;01mif\u001b[39;00m j \u001b[38;5;241m>\u001b[39m\u001b[38;5;241m=\u001b[39m \u001b[38;5;241m0\u001b[39m:\n\u001b[0;32m    528\u001b[0m     \u001b[38;5;28;01mreturn\u001b[39;00m \u001b[38;5;28mself\u001b[39m\u001b[38;5;241m.\u001b[39mcheckDot(argstr, j)\n\u001b[1;32m--> 530\u001b[0m j \u001b[38;5;241m=\u001b[39m \u001b[38;5;28;43mself\u001b[39;49m\u001b[38;5;241;43m.\u001b[39;49m\u001b[43mstatement\u001b[49m\u001b[43m(\u001b[49m\u001b[43margstr\u001b[49m\u001b[43m,\u001b[49m\u001b[43m \u001b[49m\u001b[43mi\u001b[49m\u001b[43m)\u001b[49m\n\u001b[0;32m    531\u001b[0m \u001b[38;5;28;01mif\u001b[39;00m j \u001b[38;5;241m>\u001b[39m\u001b[38;5;241m=\u001b[39m \u001b[38;5;241m0\u001b[39m:\n\u001b[0;32m    532\u001b[0m     \u001b[38;5;28;01mreturn\u001b[39;00m \u001b[38;5;28mself\u001b[39m\u001b[38;5;241m.\u001b[39mcheckDot(argstr, j)\n",
      "File \u001b[1;32m~\\AppData\\Local\\Packages\\PythonSoftwareFoundation.Python.3.11_qbz5n2kfra8p0\\LocalCache\\local-packages\\Python311\\site-packages\\rdflib\\plugins\\parsers\\notation3.py:778\u001b[0m, in \u001b[0;36mSinkParser.statement\u001b[1;34m(self, argstr, i)\u001b[0m\n\u001b[0;32m    775\u001b[0m \u001b[38;5;28;01mif\u001b[39;00m i \u001b[38;5;241m<\u001b[39m \u001b[38;5;241m0\u001b[39m:\n\u001b[0;32m    776\u001b[0m     \u001b[38;5;28;01mreturn\u001b[39;00m i\n\u001b[1;32m--> 778\u001b[0m j \u001b[38;5;241m=\u001b[39m \u001b[38;5;28;43mself\u001b[39;49m\u001b[38;5;241;43m.\u001b[39;49m\u001b[43mproperty_list\u001b[49m\u001b[43m(\u001b[49m\u001b[43margstr\u001b[49m\u001b[43m,\u001b[49m\u001b[43m \u001b[49m\u001b[43mi\u001b[49m\u001b[43m,\u001b[49m\u001b[43m \u001b[49m\u001b[43mr\u001b[49m\u001b[43m[\u001b[49m\u001b[38;5;241;43m0\u001b[39;49m\u001b[43m]\u001b[49m\u001b[43m)\u001b[49m\n\u001b[0;32m    780\u001b[0m \u001b[38;5;28;01mif\u001b[39;00m j \u001b[38;5;241m<\u001b[39m \u001b[38;5;241m0\u001b[39m:\n\u001b[0;32m    781\u001b[0m     \u001b[38;5;28mself\u001b[39m\u001b[38;5;241m.\u001b[39mBadSyntax(argstr, i, \u001b[38;5;124m\"\u001b[39m\u001b[38;5;124mexpected propertylist\u001b[39m\u001b[38;5;124m\"\u001b[39m)\n",
      "File \u001b[1;32m~\\AppData\\Local\\Packages\\PythonSoftwareFoundation.Python.3.11_qbz5n2kfra8p0\\LocalCache\\local-packages\\Python311\\site-packages\\rdflib\\plugins\\parsers\\notation3.py:1146\u001b[0m, in \u001b[0;36mSinkParser.property_list\u001b[1;34m(self, argstr, i, subj)\u001b[0m\n\u001b[0;32m   1144\u001b[0m dira, sym \u001b[38;5;241m=\u001b[39m v[\u001b[38;5;241m0\u001b[39m]\n\u001b[0;32m   1145\u001b[0m \u001b[38;5;28;01mif\u001b[39;00m dira \u001b[38;5;241m==\u001b[39m \u001b[38;5;124m\"\u001b[39m\u001b[38;5;124m->\u001b[39m\u001b[38;5;124m\"\u001b[39m:\n\u001b[1;32m-> 1146\u001b[0m     \u001b[38;5;28;43mself\u001b[39;49m\u001b[38;5;241;43m.\u001b[39;49m\u001b[43mmakeStatement\u001b[49m\u001b[43m(\u001b[49m\u001b[43m(\u001b[49m\u001b[38;5;28;43mself\u001b[39;49m\u001b[38;5;241;43m.\u001b[39;49m\u001b[43m_context\u001b[49m\u001b[43m,\u001b[49m\u001b[43m \u001b[49m\u001b[43msym\u001b[49m\u001b[43m,\u001b[49m\u001b[43m \u001b[49m\u001b[43msubj\u001b[49m\u001b[43m,\u001b[49m\u001b[43m \u001b[49m\u001b[43mobj\u001b[49m\u001b[43m)\u001b[49m\u001b[43m)\u001b[49m\n\u001b[0;32m   1147\u001b[0m \u001b[38;5;28;01melse\u001b[39;00m:\n\u001b[0;32m   1148\u001b[0m     \u001b[38;5;28mself\u001b[39m\u001b[38;5;241m.\u001b[39mmakeStatement((\u001b[38;5;28mself\u001b[39m\u001b[38;5;241m.\u001b[39m_context, sym, obj, subj))\n",
      "File \u001b[1;32m~\\AppData\\Local\\Packages\\PythonSoftwareFoundation.Python.3.11_qbz5n2kfra8p0\\LocalCache\\local-packages\\Python311\\site-packages\\rdflib\\plugins\\parsers\\notation3.py:770\u001b[0m, in \u001b[0;36mSinkParser.makeStatement\u001b[1;34m(self, quadruple)\u001b[0m\n\u001b[0;32m    767\u001b[0m \u001b[38;5;28;01mdef\u001b[39;00m \u001b[38;5;21mmakeStatement\u001b[39m(\u001b[38;5;28mself\u001b[39m, quadruple) \u001b[38;5;241m-\u001b[39m\u001b[38;5;241m>\u001b[39m \u001b[38;5;28;01mNone\u001b[39;00m:\n\u001b[0;32m    768\u001b[0m     \u001b[38;5;66;03m# $$$$$$$$$$$$$$$$$$$$$\u001b[39;00m\n\u001b[0;32m    769\u001b[0m     \u001b[38;5;66;03m# print \"# Parser output: \", `quadruple`\u001b[39;00m\n\u001b[1;32m--> 770\u001b[0m     \u001b[38;5;28;43mself\u001b[39;49m\u001b[38;5;241;43m.\u001b[39;49m\u001b[43m_store\u001b[49m\u001b[38;5;241;43m.\u001b[39;49m\u001b[43mmakeStatement\u001b[49m\u001b[43m(\u001b[49m\u001b[43mquadruple\u001b[49m\u001b[43m,\u001b[49m\u001b[43m \u001b[49m\u001b[43mwhy\u001b[49m\u001b[38;5;241;43m=\u001b[39;49m\u001b[38;5;28;43mself\u001b[39;49m\u001b[38;5;241;43m.\u001b[39;49m\u001b[43m_reason2\u001b[49m\u001b[43m)\u001b[49m\n",
      "File \u001b[1;32m~\\AppData\\Local\\Packages\\PythonSoftwareFoundation.Python.3.11_qbz5n2kfra8p0\\LocalCache\\local-packages\\Python311\\site-packages\\rdflib\\plugins\\parsers\\notation3.py:1902\u001b[0m, in \u001b[0;36mRDFSink.makeStatement\u001b[1;34m(self, quadruple, why)\u001b[0m\n\u001b[0;32m   1898\u001b[0m o \u001b[38;5;241m=\u001b[39m \u001b[38;5;28mself\u001b[39m\u001b[38;5;241m.\u001b[39mnormalise(f, o)  \u001b[38;5;66;03m# type: ignore[arg-type]\u001b[39;00m\n\u001b[0;32m   1900\u001b[0m \u001b[38;5;28;01mif\u001b[39;00m f \u001b[38;5;241m==\u001b[39m \u001b[38;5;28mself\u001b[39m\u001b[38;5;241m.\u001b[39mrootFormula:\n\u001b[0;32m   1901\u001b[0m     \u001b[38;5;66;03m# print s, p, o, '.'\u001b[39;00m\n\u001b[1;32m-> 1902\u001b[0m     \u001b[38;5;28;43mself\u001b[39;49m\u001b[38;5;241;43m.\u001b[39;49m\u001b[43mgraph\u001b[49m\u001b[38;5;241;43m.\u001b[39;49m\u001b[43madd\u001b[49m\u001b[43m(\u001b[49m\u001b[43m(\u001b[49m\u001b[43ms\u001b[49m\u001b[43m,\u001b[49m\u001b[43m \u001b[49m\u001b[43mp\u001b[49m\u001b[43m,\u001b[49m\u001b[43m \u001b[49m\u001b[43mo\u001b[49m\u001b[43m)\u001b[49m\u001b[43m)\u001b[49m\n\u001b[0;32m   1903\u001b[0m \u001b[38;5;28;01melif\u001b[39;00m \u001b[38;5;28misinstance\u001b[39m(f, Formula):\n\u001b[0;32m   1904\u001b[0m     f\u001b[38;5;241m.\u001b[39mquotedgraph\u001b[38;5;241m.\u001b[39madd((s, p, o))\n",
      "File \u001b[1;32m~\\AppData\\Local\\Packages\\PythonSoftwareFoundation.Python.3.11_qbz5n2kfra8p0\\LocalCache\\local-packages\\Python311\\site-packages\\rdflib\\graph.py:535\u001b[0m, in \u001b[0;36mGraph.add\u001b[1;34m(self, triple)\u001b[0m\n\u001b[0;32m    533\u001b[0m \u001b[38;5;28;01massert\u001b[39;00m \u001b[38;5;28misinstance\u001b[39m(p, Node), \u001b[38;5;124m\"\u001b[39m\u001b[38;5;124mPredicate \u001b[39m\u001b[38;5;132;01m%s\u001b[39;00m\u001b[38;5;124m must be an rdflib term\u001b[39m\u001b[38;5;124m\"\u001b[39m \u001b[38;5;241m%\u001b[39m (p,)\n\u001b[0;32m    534\u001b[0m \u001b[38;5;28;01massert\u001b[39;00m \u001b[38;5;28misinstance\u001b[39m(o, Node), \u001b[38;5;124m\"\u001b[39m\u001b[38;5;124mObject \u001b[39m\u001b[38;5;132;01m%s\u001b[39;00m\u001b[38;5;124m must be an rdflib term\u001b[39m\u001b[38;5;124m\"\u001b[39m \u001b[38;5;241m%\u001b[39m (o,)\n\u001b[1;32m--> 535\u001b[0m \u001b[38;5;28;43mself\u001b[39;49m\u001b[38;5;241;43m.\u001b[39;49m\u001b[43m__store\u001b[49m\u001b[38;5;241;43m.\u001b[39;49m\u001b[43madd\u001b[49m\u001b[43m(\u001b[49m\u001b[43m(\u001b[49m\u001b[43ms\u001b[49m\u001b[43m,\u001b[49m\u001b[43m \u001b[49m\u001b[43mp\u001b[49m\u001b[43m,\u001b[49m\u001b[43m \u001b[49m\u001b[43mo\u001b[49m\u001b[43m)\u001b[49m\u001b[43m,\u001b[49m\u001b[43m \u001b[49m\u001b[38;5;28;43mself\u001b[39;49m\u001b[43m,\u001b[49m\u001b[43m \u001b[49m\u001b[43mquoted\u001b[49m\u001b[38;5;241;43m=\u001b[39;49m\u001b[38;5;28;43;01mFalse\u001b[39;49;00m\u001b[43m)\u001b[49m\n\u001b[0;32m    536\u001b[0m \u001b[38;5;28;01mreturn\u001b[39;00m \u001b[38;5;28mself\u001b[39m\n",
      "File \u001b[1;32m~\\AppData\\Local\\Packages\\PythonSoftwareFoundation.Python.3.11_qbz5n2kfra8p0\\LocalCache\\local-packages\\Python311\\site-packages\\rdflib\\plugins\\stores\\memory.py:327\u001b[0m, in \u001b[0;36mMemory.add\u001b[1;34m(self, triple, context, quoted)\u001b[0m\n\u001b[0;32m    321\u001b[0m \u001b[38;5;250m\u001b[39m\u001b[38;5;124;03m\"\"\"\\\u001b[39;00m\n\u001b[0;32m    322\u001b[0m \u001b[38;5;124;03mAdd a triple to the store of triples.\u001b[39;00m\n\u001b[0;32m    323\u001b[0m \u001b[38;5;124;03m\"\"\"\u001b[39;00m\n\u001b[0;32m    324\u001b[0m \u001b[38;5;66;03m# add dictionary entries for spo[s][p][p] = 1 and pos[p][o][s]\u001b[39;00m\n\u001b[0;32m    325\u001b[0m \u001b[38;5;66;03m# = 1, creating the nested dictionaries where they do not yet\u001b[39;00m\n\u001b[0;32m    326\u001b[0m \u001b[38;5;66;03m# exits.\u001b[39;00m\n\u001b[1;32m--> 327\u001b[0m \u001b[43mStore\u001b[49m\u001b[38;5;241;43m.\u001b[39;49m\u001b[43madd\u001b[49m\u001b[43m(\u001b[49m\u001b[38;5;28;43mself\u001b[39;49m\u001b[43m,\u001b[49m\u001b[43m \u001b[49m\u001b[43mtriple\u001b[49m\u001b[43m,\u001b[49m\u001b[43m \u001b[49m\u001b[43mcontext\u001b[49m\u001b[43m,\u001b[49m\u001b[43m \u001b[49m\u001b[43mquoted\u001b[49m\u001b[38;5;241;43m=\u001b[39;49m\u001b[43mquoted\u001b[49m\u001b[43m)\u001b[49m\n\u001b[0;32m    328\u001b[0m \u001b[38;5;28;01mif\u001b[39;00m context \u001b[38;5;129;01mis\u001b[39;00m \u001b[38;5;129;01mnot\u001b[39;00m \u001b[38;5;28;01mNone\u001b[39;00m:\n\u001b[0;32m    329\u001b[0m     \u001b[38;5;28mself\u001b[39m\u001b[38;5;241m.\u001b[39m__all_contexts\u001b[38;5;241m.\u001b[39madd(context)\n",
      "File \u001b[1;32m~\\AppData\\Local\\Packages\\PythonSoftwareFoundation.Python.3.11_qbz5n2kfra8p0\\LocalCache\\local-packages\\Python311\\site-packages\\rdflib\\store.py:257\u001b[0m, in \u001b[0;36mStore.add\u001b[1;34m(self, triple, context, quoted)\u001b[0m\n\u001b[0;32m    243\u001b[0m \u001b[38;5;28;01mdef\u001b[39;00m \u001b[38;5;21madd\u001b[39m(\n\u001b[0;32m    244\u001b[0m     \u001b[38;5;28mself\u001b[39m,\n\u001b[0;32m    245\u001b[0m     triple: \u001b[38;5;124m\"\u001b[39m\u001b[38;5;124m_TripleType\u001b[39m\u001b[38;5;124m\"\u001b[39m,\n\u001b[0;32m    246\u001b[0m     context: \u001b[38;5;124m\"\u001b[39m\u001b[38;5;124m_ContextType\u001b[39m\u001b[38;5;124m\"\u001b[39m,\n\u001b[0;32m    247\u001b[0m     quoted: \u001b[38;5;28mbool\u001b[39m \u001b[38;5;241m=\u001b[39m \u001b[38;5;28;01mFalse\u001b[39;00m,\n\u001b[0;32m    248\u001b[0m ) \u001b[38;5;241m-\u001b[39m\u001b[38;5;241m>\u001b[39m \u001b[38;5;28;01mNone\u001b[39;00m:\n\u001b[0;32m    249\u001b[0m \u001b[38;5;250m    \u001b[39m\u001b[38;5;124;03m\"\"\"\u001b[39;00m\n\u001b[0;32m    250\u001b[0m \u001b[38;5;124;03m    Adds the given statement to a specific context or to the model. The\u001b[39;00m\n\u001b[0;32m    251\u001b[0m \u001b[38;5;124;03m    quoted argument is interpreted by formula-aware stores to indicate\u001b[39;00m\n\u001b[1;32m   (...)\u001b[0m\n\u001b[0;32m    255\u001b[0m \u001b[38;5;124;03m    formula-aware.\u001b[39;00m\n\u001b[0;32m    256\u001b[0m \u001b[38;5;124;03m    \"\"\"\u001b[39;00m\n\u001b[1;32m--> 257\u001b[0m     \u001b[38;5;28mself\u001b[39m\u001b[38;5;241m.\u001b[39mdispatcher\u001b[38;5;241m.\u001b[39mdispatch(\u001b[43mTripleAddedEvent\u001b[49m\u001b[43m(\u001b[49m\u001b[43mtriple\u001b[49m\u001b[38;5;241;43m=\u001b[39;49m\u001b[43mtriple\u001b[49m\u001b[43m,\u001b[49m\u001b[43m \u001b[49m\u001b[43mcontext\u001b[49m\u001b[38;5;241;43m=\u001b[39;49m\u001b[43mcontext\u001b[49m\u001b[43m)\u001b[49m)\n",
      "File \u001b[1;32m~\\AppData\\Local\\Packages\\PythonSoftwareFoundation.Python.3.11_qbz5n2kfra8p0\\LocalCache\\local-packages\\Python311\\site-packages\\rdflib\\events.py:43\u001b[0m, in \u001b[0;36mEvent.__init__\u001b[1;34m(self, **kw)\u001b[0m\n\u001b[0;32m     42\u001b[0m \u001b[38;5;28;01mdef\u001b[39;00m \u001b[38;5;21m__init__\u001b[39m(\u001b[38;5;28mself\u001b[39m, \u001b[38;5;241m*\u001b[39m\u001b[38;5;241m*\u001b[39mkw):\n\u001b[1;32m---> 43\u001b[0m     \u001b[38;5;28;43mself\u001b[39;49m\u001b[38;5;241;43m.\u001b[39;49m\u001b[38;5;18;43m__dict__\u001b[39;49m\u001b[38;5;241;43m.\u001b[39;49m\u001b[43mupdate\u001b[49m\u001b[43m(\u001b[49m\u001b[43mkw\u001b[49m\u001b[43m)\u001b[49m\n",
      "\u001b[1;31mKeyboardInterrupt\u001b[0m: "
     ]
    }
   ],
   "source": [
    "graph_bnf = Graph()\n",
    "graph_bnf.parse(\"final_datasets/bnf_auteursURI.ttl\", format=\"turtle\")"
   ]
  },
  {
   "cell_type": "code",
   "execution_count": null,
   "metadata": {},
   "outputs": [
    {
     "data": {
      "text/plain": [
       "<Graph identifier=Nfd61a4dbf66b433a84b98d5fce818316 (<class 'rdflib.graph.Graph'>)>"
      ]
     },
     "execution_count": 8,
     "metadata": {},
     "output_type": "execute_result"
    }
   ],
   "source": [
    "graph_constellations = Graph()\n",
    "graph_constellations.parse(\"final_datasets/constellations_auteursURI.ttl\", format=\"turtle\")"
   ]
  },
  {
   "cell_type": "code",
   "execution_count": null,
   "metadata": {},
   "outputs": [
    {
     "data": {
      "text/plain": [
       "<Graph identifier=N15a24f9ae3834589ac757315f9c88a67 (<class 'rdflib.graph.Graph'>)>"
      ]
     },
     "execution_count": 9,
     "metadata": {},
     "output_type": "execute_result"
    }
   ],
   "source": [
    "graph_babelio = Graph()\n",
    "graph_babelio.parse(\"final_datasets/babelio_auteursURI.ttl\", format=\"turtle\")"
   ]
  },
  {
   "cell_type": "code",
   "execution_count": null,
   "metadata": {},
   "outputs": [
    {
     "data": {
      "text/plain": [
       "68"
      ]
     },
     "execution_count": 10,
     "metadata": {},
     "output_type": "execute_result"
    }
   ],
   "source": [
    "len(duplicates_replacements_bnf_constellations_babelio)"
   ]
  },
  {
   "cell_type": "code",
   "execution_count": null,
   "metadata": {},
   "outputs": [],
   "source": [
    "for duplicate_publisher in duplicates_replacements_bnf_constellations_babelio:\n",
    "\n",
    "    replacement_publisher = duplicates_replacements_bnf_constellations_babelio[duplicate_publisher]\n",
    "\n",
    "    for publisher in publishers_bnf_constellations_babelio_graph.subjects(RDF.type, SCHEMA.Publisher):\n",
    "        if publisher == duplicate_publisher:\n",
    "            publishers_bnf_constellations_babelio_graph.remove((publisher, SCHEMA.name, None)) # remove attributes before reference so reference doesn't become orphan in graph\n",
    "            publishers_bnf_constellations_babelio_graph.remove((publisher, RDF.type, None))\n",
    "            # print(publisher)\n",
    "\n",
    "    for bnf_book in graph_bnf.subjects(RDF.type, utils.schema.Book):\n",
    "        book_data = utils.extract_data_bnf(graph_bnf, bnf_book)\n",
    "        book_publisher = book_data.publisher\n",
    "        if book_publisher == str(duplicate_publisher):\n",
    "            graph_bnf.remove((bnf_book, SCHEMA.publisher, None))\n",
    "            graph_bnf.add((bnf_book, SCHEMA.publisher, replacement_publisher))\n",
    "\n",
    "    for constellations_book in graph_constellations.subjects(RDF.type, utils.schema.Book):\n",
    "        book_data = utils.extract_data_constellations(graph_constellations, constellations_book)\n",
    "        book_publisher = book_data.publisher   \n",
    "        if book_publisher == str(duplicate_publisher):\n",
    "            # print(book_publisher)\n",
    "            graph_constellations.remove((constellations_book, SCHEMA.publisher, None))\n",
    "            graph_constellations.add((constellations_book, SCHEMA.publisher, replacement_publisher))\n",
    "\n",
    "    for babelio_book in graph_babelio.subjects(RDF.type, utils.schema.Book):\n",
    "        book_data = utils.extract_data_babelio(graph_babelio, babelio_book)\n",
    "        book_publisher = book_data.publisher\n",
    "        if book_publisher == str(duplicate_publisher):\n",
    "            graph_babelio.remove((babelio_book, SCHEMA.publisher, None))\n",
    "            graph_babelio.add((babelio_book, SCHEMA.publisher, replacement_publisher))"
   ]
  },
  {
   "cell_type": "code",
   "execution_count": null,
   "metadata": {},
   "outputs": [],
   "source": [
    "fichier = open(\"../final_datasets/bnf_NoDuplicatePublisher.ttl\",\"wb\")\n",
    "graph_bnf.serialize(fichier) \n",
    "fichier.close()"
   ]
  },
  {
   "cell_type": "code",
   "execution_count": null,
   "metadata": {},
   "outputs": [],
   "source": [
    "fichier = open(\"../final_datasets/constellations_NoDuplicatePublisher.ttl\",\"wb\")\n",
    "graph_constellations.serialize(fichier) \n",
    "fichier.close()"
   ]
  },
  {
   "cell_type": "code",
   "execution_count": null,
   "metadata": {},
   "outputs": [],
   "source": [
    "fichier = open(\"../final_datasets/babelio_NoDuplicatePublisher.ttl\",\"wb\")\n",
    "graph_babelio.serialize(fichier) \n",
    "fichier.close()"
   ]
  },
  {
   "cell_type": "code",
   "execution_count": null,
   "metadata": {},
   "outputs": [],
   "source": [
    "fichier = open(\"../final_datasets/publisher_BNF_Constellation_Babelio_NoDuplicate.ttl\",\"wb\")\n",
    "publishers_bnf_constellations_babelio_graph.serialize(fichier) \n",
    "fichier.close()"
   ]
  },
  {
   "cell_type": "markdown",
   "metadata": {},
   "source": [
    "# duplicate ANALYSIS btlf publishers (not eliminated because only 7 duplicate over 1000)"
   ]
  },
  {
   "cell_type": "code",
   "execution_count": 10,
   "metadata": {},
   "outputs": [
    {
     "data": {
      "text/plain": [
       "2092"
      ]
     },
     "execution_count": 10,
     "metadata": {},
     "output_type": "execute_result"
    }
   ],
   "source": [
    "publishers_btlf_graph = Graph()\n",
    "publishers_btlf_graph.bind(\"schema\",\"http://schema.org/\", override=True, replace=True)\n",
    "publishers_btlf_graph.parse(\"../final_datasets/btlf_books/Graphes/grapheEditeurs_new_data_Imprint_andre.ttl\")\n",
    "len(list(publishers_btlf_graph))"
   ]
  },
  {
   "cell_type": "code",
   "execution_count": 13,
   "metadata": {},
   "outputs": [
    {
     "data": {
      "text/plain": [
       "<Graph identifier=N00052919ac304defacb21181fbeb65d5 (<class 'rdflib.graph.Graph'>)>"
      ]
     },
     "execution_count": 13,
     "metadata": {},
     "output_type": "execute_result"
    }
   ],
   "source": [
    "book_btlf_graph = Graph()\n",
    "book_btlf_graph.bind(\"schema\",\"http://schema.org/\", override=True, replace=True)\n",
    "book_btlf_graph.parse(\"final_datasets/btlf_books/Graphes/grapheLivres_new_data_BTLF_Imprints.ttl\", format=\"turtle\")"
   ]
  },
  {
   "cell_type": "code",
   "execution_count": 14,
   "metadata": {},
   "outputs": [
    {
     "name": "stdout",
     "output_type": "stream",
     "text": [
      "\"lux\"\n",
      "    Publisher1004\n",
      "    Publisher946\n",
      "\"lesallusifs\"\n",
      "    Publisher1023\n",
      "    Publisher225\n",
      "\"prisedeparole\"\n",
      "    Publisher1042\n",
      "    Publisher926\n",
      "\"lemeac\"\n",
      "    Publisher107\n",
      "    Publisher479\n",
      "\"nordsud\"\n",
      "    Publisher131\n",
      "    Publisher917\n",
      "\"les400coups\"\n",
      "    Publisher184\n",
      "    Publisher240\n",
      "    Publisher513\n",
      "\"arte\"\n",
      "    Publisher236\n",
      "    Publisher778\n",
      "\"ventsdouest\"\n",
      "    Publisher27\n",
      "    Publisher950\n",
      "\"delabagnole\"\n",
      "    Publisher318\n",
      "    Publisher319\n",
      "\"marchanddefeuilles\"\n",
      "    Publisher477\n",
      "    Publisher906\n",
      "\"scholastic\"\n",
      "    Publisher478\n",
      "    Publisher646\n",
      "    Publisher896\n",
      "\"pierretisseyre\"\n",
      "    Publisher481\n",
      "    Publisher888\n",
      "\"lesmalins\"\n",
      "    Publisher604\n",
      "    Publisher913\n",
      "\"xyz\"\n",
      "    Publisher767\n",
      "    Publisher923\n",
      "\"hannenorak\"\n",
      "    Publisher879\n",
      "    Publisher961\n",
      "\"desplaines\"\n",
      "    Publisher887\n",
      "    Publisher932\n",
      "\"album\"\n",
      "    Publisher891\n",
      "    Publisher942\n",
      "\"typo\"\n",
      "    Publisher924\n",
      "    Publisher940\n",
      "duplicate 18\n"
     ]
    },
    {
     "data": {
      "text/plain": [
       "{rdflib.term.URIRef('http://schema.org/Publisher946'): rdflib.term.URIRef('http://schema.org/Publisher1004'),\n",
       " rdflib.term.URIRef('http://schema.org/Publisher225'): rdflib.term.URIRef('http://schema.org/Publisher1023'),\n",
       " rdflib.term.URIRef('http://schema.org/Publisher926'): rdflib.term.URIRef('http://schema.org/Publisher1042'),\n",
       " rdflib.term.URIRef('http://schema.org/Publisher479'): rdflib.term.URIRef('http://schema.org/Publisher107'),\n",
       " rdflib.term.URIRef('http://schema.org/Publisher917'): rdflib.term.URIRef('http://schema.org/Publisher131'),\n",
       " rdflib.term.URIRef('http://schema.org/Publisher240'): rdflib.term.URIRef('http://schema.org/Publisher184'),\n",
       " rdflib.term.URIRef('http://schema.org/Publisher513'): rdflib.term.URIRef('http://schema.org/Publisher184'),\n",
       " rdflib.term.URIRef('http://schema.org/Publisher778'): rdflib.term.URIRef('http://schema.org/Publisher236'),\n",
       " rdflib.term.URIRef('http://schema.org/Publisher950'): rdflib.term.URIRef('http://schema.org/Publisher27'),\n",
       " rdflib.term.URIRef('http://schema.org/Publisher319'): rdflib.term.URIRef('http://schema.org/Publisher318'),\n",
       " rdflib.term.URIRef('http://schema.org/Publisher906'): rdflib.term.URIRef('http://schema.org/Publisher477'),\n",
       " rdflib.term.URIRef('http://schema.org/Publisher646'): rdflib.term.URIRef('http://schema.org/Publisher478'),\n",
       " rdflib.term.URIRef('http://schema.org/Publisher896'): rdflib.term.URIRef('http://schema.org/Publisher478'),\n",
       " rdflib.term.URIRef('http://schema.org/Publisher888'): rdflib.term.URIRef('http://schema.org/Publisher481'),\n",
       " rdflib.term.URIRef('http://schema.org/Publisher913'): rdflib.term.URIRef('http://schema.org/Publisher604'),\n",
       " rdflib.term.URIRef('http://schema.org/Publisher923'): rdflib.term.URIRef('http://schema.org/Publisher767'),\n",
       " rdflib.term.URIRef('http://schema.org/Publisher961'): rdflib.term.URIRef('http://schema.org/Publisher879'),\n",
       " rdflib.term.URIRef('http://schema.org/Publisher932'): rdflib.term.URIRef('http://schema.org/Publisher887'),\n",
       " rdflib.term.URIRef('http://schema.org/Publisher942'): rdflib.term.URIRef('http://schema.org/Publisher891'),\n",
       " rdflib.term.URIRef('http://schema.org/Publisher940'): rdflib.term.URIRef('http://schema.org/Publisher924')}"
      ]
     },
     "execution_count": 14,
     "metadata": {},
     "output_type": "execute_result"
    }
   ],
   "source": [
    "publishers_btlf_dict = {}\n",
    "duplicates_btlf = collections.defaultdict(lambda: [])\n",
    "for publisher in publishers_btlf_graph.subjects(RDF.type, SCHEMA.Publisher):\n",
    "    raw_name = str(publishers_btlf_graph.value(publisher, SCHEMA.name))\n",
    "    preprocessed_name = utils.preprocess_publisher_name(raw_name)\n",
    "\n",
    "    duplicates_btlf[preprocessed_name].append(publisher)\n",
    "    \n",
    "duplicates_replacements_btlf = create_duplicate_replacement(duplicates_btlf)\n",
    "duplicates_replacements_btlf"
   ]
  },
  {
   "cell_type": "code",
   "execution_count": null,
   "metadata": {},
   "outputs": [],
   "source": [
    "for duplicate_publisher in duplicates_replacements_btlf:\n",
    "\n",
    "    replacement_publisher = duplicates_replacements_btlf[duplicate_publisher]\n",
    "\n",
    "    for publisher in publishers_btlf_graph.subjects(RDF.type, SCHEMA.Publisher):\n",
    "        if publisher == duplicate_publisher:\n",
    "            publishers_btlf_graph.remove((publisher, SCHEMA.name, None)) # remove attributes before reference so reference doesn't become orphan in graph\n",
    "            publishers_btlf_graph.remove((publisher, RDF.type, None))\n",
    "            # print(publisher)\n",
    "\n",
    "    for btlf_book in book_btlf_graph.subjects(RDF.type, utils.schema.Book):\n",
    "        book_data = utils.extract_data_btlf(book_btlf_graph, btlf_book)\n",
    "        book_publisher = book_data.publisher\n",
    "        if book_publisher == str(duplicate_publisher):\n",
    "            book_btlf_graph.remove((btlf_book, SCHEMA.publisher, None))\n",
    "            book_btlf_graph.add((btlf_book, SCHEMA.publisher, replacement_publisher))"
   ]
  }
 ],
 "metadata": {
  "kernelspec": {
   "display_name": "Python 3",
   "language": "python",
   "name": "python3"
  },
  "language_info": {
   "codemirror_mode": {
    "name": "ipython",
    "version": 3
   },
   "file_extension": ".py",
   "mimetype": "text/x-python",
   "name": "python",
   "nbconvert_exporter": "python",
   "pygments_lexer": "ipython3",
   "version": "3.11.7"
  }
 },
 "nbformat": 4,
 "nbformat_minor": 2
}
