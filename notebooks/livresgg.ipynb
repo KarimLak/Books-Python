{
 "cells": [
  {
   "cell_type": "code",
   "execution_count": 1,
   "metadata": {},
   "outputs": [
    {
     "ename": "BadSyntax",
     "evalue": "at line 6 of <>:\nBad syntax (expected '.' or '}' or ']' at end of statement) at ^ in:\n\"...b'refix rdf: <http://www.w3.org/1999/02/22-rdf-syntax-ns#>\\r\\n\\r\\n'^b'schema:Book01e3c32a-a367-4534-b57d-e2cc531918e6 a ns1:Book ;'...\"",
     "output_type": "error",
     "traceback": [
      "Traceback \u001b[1;36m(most recent call last)\u001b[0m:\n",
      "\u001b[0m  File \u001b[0;32mc:\\Users\\Dell\\AppData\\Local\\Programs\\Python\\Python311\\Lib\\site-packages\\IPython\\core\\interactiveshell.py:3508\u001b[0m in \u001b[0;35mrun_code\u001b[0m\n    exec(code_obj, self.user_global_ns, self.user_ns)\u001b[0m\n",
      "\u001b[0m  Cell \u001b[0;32mIn[1], line 9\u001b[0m\n    g.parse(file, format='turtle')\u001b[0m\n",
      "\u001b[0m  File \u001b[0;32mc:\\Users\\Dell\\AppData\\Local\\Programs\\Python\\Python311\\Lib\\site-packages\\rdflib\\graph.py:1503\u001b[0m in \u001b[0;35mparse\u001b[0m\n    raise se\u001b[0m\n",
      "\u001b[0m  File \u001b[0;32mc:\\Users\\Dell\\AppData\\Local\\Programs\\Python\\Python311\\Lib\\site-packages\\rdflib\\graph.py:1494\u001b[0m in \u001b[0;35mparse\u001b[0m\n    parser.parse(source, self, **args)\u001b[0m\n",
      "\u001b[0m  File \u001b[0;32mc:\\Users\\Dell\\AppData\\Local\\Programs\\Python\\Python311\\Lib\\site-packages\\rdflib\\plugins\\parsers\\notation3.py:2021\u001b[0m in \u001b[0;35mparse\u001b[0m\n    p.loadStream(stream)\u001b[0m\n",
      "\u001b[0m  File \u001b[0;32mc:\\Users\\Dell\\AppData\\Local\\Programs\\Python\\Python311\\Lib\\site-packages\\rdflib\\plugins\\parsers\\notation3.py:479\u001b[0m in \u001b[0;35mloadStream\u001b[0m\n    return self.loadBuf(stream.read())  # Not ideal\u001b[0m\n",
      "\u001b[0m  File \u001b[0;32mc:\\Users\\Dell\\AppData\\Local\\Programs\\Python\\Python311\\Lib\\site-packages\\rdflib\\plugins\\parsers\\notation3.py:485\u001b[0m in \u001b[0;35mloadBuf\u001b[0m\n    self.feed(buf)\u001b[0m\n",
      "\u001b[0m  File \u001b[0;32mc:\\Users\\Dell\\AppData\\Local\\Programs\\Python\\Python311\\Lib\\site-packages\\rdflib\\plugins\\parsers\\notation3.py:511\u001b[0m in \u001b[0;35mfeed\u001b[0m\n    i = self.directiveOrStatement(s, j)\u001b[0m\n",
      "\u001b[0m  File \u001b[0;32mc:\\Users\\Dell\\AppData\\Local\\Programs\\Python\\Python311\\Lib\\site-packages\\rdflib\\plugins\\parsers\\notation3.py:528\u001b[0m in \u001b[0;35mdirectiveOrStatement\u001b[0m\n    return self.checkDot(argstr, j)\u001b[0m\n",
      "\u001b[0m  File \u001b[0;32mc:\\Users\\Dell\\AppData\\Local\\Programs\\Python\\Python311\\Lib\\site-packages\\rdflib\\plugins\\parsers\\notation3.py:1214\u001b[0m in \u001b[0;35mcheckDot\u001b[0m\n    self.BadSyntax(argstr, j, \"expected '.' or '}' or ']' at end of statement\")\u001b[0m\n",
      "\u001b[1;36m  File \u001b[1;32mc:\\Users\\Dell\\AppData\\Local\\Programs\\Python\\Python311\\Lib\\site-packages\\rdflib\\plugins\\parsers\\notation3.py:1730\u001b[1;36m in \u001b[1;35mBadSyntax\u001b[1;36m\n\u001b[1;33m    raise BadSyntax(self._thisDoc, self.lines, argstr, i, msg)\u001b[1;36m\n",
      "\u001b[1;36m  File \u001b[1;32m<string>\u001b[1;36m\u001b[0m\n\u001b[1;31mBadSyntax\u001b[0m\n"
     ]
    }
   ],
   "source": [
    "import pandas as pd\n",
    "import rdflib\n",
    "\n",
    "# your file path\n",
    "file = \"../output_livresgg.ttl\" \n",
    "\n",
    "# initialize graph and parse the file\n",
    "g = rdflib.Graph()\n",
    "g.parse(file, format='turtle')\n",
    "\n",
    "data = []\n",
    "\n",
    "# iterate over triples in graph and add them to our dataframe\n",
    "for subj, pred, obj in g:\n",
    "    data.append({\"Subject\": str(subj), \"Predicate\": str(pred), \"Object\": str(obj)})\n",
    "\n",
    "# create the dataframe\n",
    "df = pd.DataFrame(data)\n",
    "\n",
    "# display the dataframe\n",
    "df\n"
   ]
  }
 ],
 "metadata": {
  "kernelspec": {
   "display_name": "Python 3",
   "language": "python",
   "name": "python3"
  },
  "language_info": {
   "codemirror_mode": {
    "name": "ipython",
    "version": 3
   },
   "file_extension": ".py",
   "mimetype": "text/x-python",
   "name": "python",
   "nbconvert_exporter": "python",
   "pygments_lexer": "ipython3",
   "version": "3.11.3"
  }
 },
 "nbformat": 4,
 "nbformat_minor": 5
}
