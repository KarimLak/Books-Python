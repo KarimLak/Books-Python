{
 "cells": [
  {
   "cell_type": "code",
   "execution_count": 1,
   "metadata": {},
   "outputs": [],
   "source": [
    "import pandas as pd\n",
    "\n",
    "# Set display options\n",
    "pd.set_option('display.max_columns', None)\n",
    "pd.set_option('display.expand_frame_repr', False)"
   ]
  },
  {
   "cell_type": "markdown",
   "metadata": {},
   "source": [
    "# parse the Excel files"
   ]
  },
  {
   "cell_type": "code",
   "execution_count": 2,
   "metadata": {},
   "outputs": [
    {
     "name": "stdout",
     "output_type": "stream",
     "text": [
      "                                    UUID                              Echantillon Resultat 1 (Michel) Resultat 2 (Michel)\n",
      "0   0f660312-e967-40fe-9a52-2cbed0ca23f8                            balle, ballon                  SF                 NaN\n",
      "1   1885575b-e89a-4d0b-8474-9b98b049e634                      animaux domestiques                 WNG                 NaN\n",
      "2   0d8703ec-db50-4936-9808-3d1e3befafe3                                  sénégal               1HFDS                 NaN\n",
      "3   a2492fac-993c-46c2-817b-67bf4b9fd16f                                livre-jeu               YBCS2                 NaN\n",
      "4   fbad8376-7a5b-4e0a-95d3-8edfda117779                       atelier d'écriture                 CBW                 NaN\n",
      "5   3c436173-9bb3-47f5-80ab-405328bb397f                                  edition               KNTP1                 NaN\n",
      "6   f717074b-f95b-4ac7-a704-16ec89e8850b                                     ours                WNCF                 NaN\n",
      "7   83d95dc7-2a1d-45e6-a6b0-efdabb296555                     théâtre contemporain                 DDC                 NaN\n",
      "8   0703fbf6-f436-4cf6-913a-49295b511ccf                             maltraitance                YXQD                 NaN\n",
      "9   9dd6ba61-b47c-443a-8cab-7dc358fd1eeb                           transhumanisme                 UBJ                 NaN\n",
      "10  be6e6fe5-9ea4-410a-ab44-b4e78e8339c3                                    genre                JBSF                 NaN\n",
      "11  71f9881c-fbc5-4c5e-9c1d-983d93f35315                                   alaska        1KBB-US-WPNA                 NaN\n",
      "12  564404fe-7d19-447e-b4c7-b257188ee07b                               biographie                 DNB                 NaN\n",
      "13  74977d39-4cd9-4abc-b91d-44150fe57676                                  bolivie               1KLSL                 NaN\n",
      "14  04f22d22-6d2a-49c6-90b0-cb39a812a7cc  conte détourné, le loup et les 7 cabris                YFHG                 NaN\n",
      "15  6e702f37-fd76-45a1-8ae1-3b9be5bb5bc4                      aventure et mystère                YFCF                 NaN\n",
      "16  bd92a2b5-f768-4b6c-add0-8899a5df44c9                           conte détourné                YFHG                 NaN\n",
      "17  0b79a778-7f70-4fb6-bea9-c2054ba189bc                                    yémen               1FBXY                 NaN\n",
      "18  e52e8b02-8f1f-4b99-94c5-2c4f1af638aa                               hippocampe               WNCS1                 NaN\n",
      "19  7ae2f9f3-d10b-47ec-9ba3-17156a262faa                                  cow-boy                 FJW                 NaN\n",
      "20  43096aea-9d26-425d-b27c-fd726876e6d8                                   dragon               VXQM1                 NaN\n",
      "21  52d61c05-39b1-48d6-8e6f-c9bbb5cb1636                                père noël                5HPD                 NaN\n",
      "22  755e7c34-0568-4d09-bdbd-717285f37ff3                                     sida               MJCJ2                 NaN\n",
      "23  c7feafbc-d642-49ec-9625-9ebef5c7091e                         souvenir/mémoire                 JMR                 NaN\n",
      "24  2250c7ca-2f29-41f1-8c7b-a48ee077f72b                                  pompier               JKSW2                 NaN\n",
      "25  d536e6b9-4ef9-4624-957f-88331ad2b4f0                                     iran                1FBN                 NaN\n",
      "26  07be272a-225f-486e-b240-5862179de2ed                                  semaine                YBLJ                 NaN\n",
      "27  8f56605a-3004-42e2-8660-587d579ce227                                 finlande                1DNF                 NaN\n",
      "28  2a789053-64be-4ee2-a392-d815cbe361a5                                  peintre                 AGB                 NaN\n",
      "29  e87b3315-c06a-4f6f-a283-5a813c8320fc                  relation enfant, adulte                 5LC                 NaN\n",
      "30  3273c6a5-7bf8-4983-a32c-f72e3399b18c                                 papillon               PSVA2                 NaN\n",
      "31  9cb79f10-cb90-4ed5-811e-661d1c557d05                               souffrance                YXED                 NaN\n",
      "32  277c340a-dafa-4bf3-b217-b50eeccaa65f                                     nuit                YBLJ                 NaN\n",
      "33  4166415e-4fe4-4635-8550-4156a3d2f370                                guatemala               1KLCG                 NaN\n",
      "34  cfa0b8dd-3eb2-4279-adb1-97f864d8add9                              préhistoire                  3B                 NaN\n",
      "35  cdf2ae21-afd0-4782-a3f6-df08856723c2                               astronomie                  PG                 NaN\n",
      "36  a741cc35-b731-4212-8ca3-75b7ecdd0ca8                                  révolte                NHTV                 JMQ\n",
      "37  439291a6-9be6-40e3-875d-f5e5cd14db5e                      naissance/maternité                YXFS                 NaN\n",
      "38  afc4d6f2-813a-414d-a633-b7dc76682ebc                             documentaire                  YN                 NaN\n",
      "39  f4e6bb0d-f686-4348-ab6b-4ab17f03d1ca                                     oman               1FBXM                 NaN\n"
     ]
    }
   ],
   "source": [
    "# Read the Excel file\n",
    "df_michel = pd.read_excel('Michel_assignments_v1_done.xlsx')\n",
    "df_michel.rename(columns={'Resultat 1': 'Resultat 1 (Michel)', 'Resultat 2': 'Resultat 2 (Michel)'}, inplace=True)\n",
    "# Print the DataFrame\n",
    "print(df_michel)"
   ]
  },
  {
   "cell_type": "code",
   "execution_count": 3,
   "metadata": {},
   "outputs": [
    {
     "name": "stdout",
     "output_type": "stream",
     "text": [
      "                                    UUID                              Echantillon Resultat 1 (Andre) Resultat 2 (Andre)\n",
      "0   0f660312-e967-40fe-9a52-2cbed0ca23f8                            balle, ballon                 SF                NaN\n",
      "1   1885575b-e89a-4d0b-8474-9b98b049e634                      animaux domestiques               YNNH                NaN\n",
      "2   0d8703ec-db50-4936-9808-3d1e3befafe3                                  sénégal              1HFDS                NaN\n",
      "3   a2492fac-993c-46c2-817b-67bf4b9fd16f                                livre-jeu                YBG                NaN\n",
      "4   fbad8376-7a5b-4e0a-95d3-8edfda117779                       atelier d'écriture               CBVS                NaN\n",
      "5   3c436173-9bb3-47f5-80ab-405328bb397f                                  edition                AKH                NaN\n",
      "6   f717074b-f95b-4ac7-a704-16ec89e8850b                                     ours                NaN                NaN\n",
      "7   83d95dc7-2a1d-45e6-a6b0-efdabb296555                     théâtre contemporain                DDC                NaN\n",
      "8   0703fbf6-f436-4cf6-913a-49295b511ccf                             maltraitance               YXQD               VFJM\n",
      "9   9dd6ba61-b47c-443a-8cab-7dc358fd1eeb                           transhumanisme                FLP                NaN\n",
      "10  be6e6fe5-9ea4-410a-ab44-b4e78e8339c3                                    genre               JBSF                NaN\n",
      "11  71f9881c-fbc5-4c5e-9c1d-983d93f35315                                   alaska       1KBB-US-WPNA                NaN\n",
      "12  564404fe-7d19-447e-b4c7-b257188ee07b                               biographie                  D                NaN\n",
      "13  74977d39-4cd9-4abc-b91d-44150fe57676                                  bolivie              1KLSL                NaN\n",
      "14  04f22d22-6d2a-49c6-90b0-cb39a812a7cc  conte détourné, le loup et les 7 cabris                NaN                NaN\n",
      "15  6e702f37-fd76-45a1-8ae1-3b9be5bb5bc4                      aventure et mystère                YFC                YNX\n",
      "16  bd92a2b5-f768-4b6c-add0-8899a5df44c9                           conte détourné               YFHG                NaN\n",
      "17  0b79a778-7f70-4fb6-bea9-c2054ba189bc                                    yémen              1FBXY                NaN\n",
      "18  e52e8b02-8f1f-4b99-94c5-2c4f1af638aa                               hippocampe               YNNS                NaN\n",
      "19  7ae2f9f3-d10b-47ec-9ba3-17156a262faa                                  cow-boy                FJW                NaN\n",
      "20  43096aea-9d26-425d-b27c-fd726876e6d8                                   dragon              VXQM1              YNXB1\n",
      "21  52d61c05-39b1-48d6-8e6f-c9bbb5cb1636                                père noël               5HPD                NaN\n",
      "22  755e7c34-0568-4d09-bdbd-717285f37ff3                                     sida              MJCJ2                NaN\n",
      "23  c7feafbc-d642-49ec-9625-9ebef5c7091e                         souvenir/mémoire                JMR                NaN\n",
      "24  2250c7ca-2f29-41f1-8c7b-a48ee077f72b                                  pompier              JKSW2                NaN\n",
      "25  d536e6b9-4ef9-4624-957f-88331ad2b4f0                                     iran               1FBN                NaN\n",
      "26  07be272a-225f-486e-b240-5862179de2ed                                  semaine               YBLJ                NaN\n",
      "27  8f56605a-3004-42e2-8660-587d579ce227                                 finlande               1DNF                NaN\n",
      "28  2a789053-64be-4ee2-a392-d815cbe361a5                                  peintre                AFC                NaN\n",
      "29  e87b3315-c06a-4f6f-a283-5a813c8320fc                  relation enfant, adulte                YXH                NaN\n",
      "30  3273c6a5-7bf8-4983-a32c-f72e3399b18c                                 papillon               YNNL                NaN\n",
      "31  9cb79f10-cb90-4ed5-811e-661d1c557d05                               souffrance                FXK               YXED\n",
      "32  277c340a-dafa-4bf3-b217-b50eeccaa65f                                     nuit               YBLJ                NaN\n",
      "33  4166415e-4fe4-4635-8550-4156a3d2f370                                guatemala              1KLCG                NaN\n",
      "34  cfa0b8dd-3eb2-4279-adb1-97f864d8add9                              préhistoire                YNH                 3B\n",
      "35  cdf2ae21-afd0-4782-a3f6-df08856723c2                               astronomie                 PG                NaN\n",
      "36  a741cc35-b731-4212-8ca3-75b7ecdd0ca8                                  révolte               NHTV               JPWG\n",
      "37  439291a6-9be6-40e3-875d-f5e5cd14db5e                      naissance/maternité               VFXB                NaN\n",
      "38  afc4d6f2-813a-414d-a633-b7dc76682ebc                             documentaire               ATFR                NaN\n",
      "39  f4e6bb0d-f686-4348-ab6b-4ab17f03d1ca                                     oman                NaN                NaN\n"
     ]
    }
   ],
   "source": [
    "df_andre = pd.read_excel('Michel_assignments_v1_by_dre.xlsx')\n",
    "df_andre.rename(columns={'Resultat 1': 'Resultat 1 (Andre)', 'Resultat 2': 'Resultat 2 (Andre)'}, inplace=True)\n",
    "print(df_andre)"
   ]
  },
  {
   "cell_type": "code",
   "execution_count": 4,
   "metadata": {},
   "outputs": [
    {
     "name": "stdout",
     "output_type": "stream",
     "text": [
      "                                    UUID                                Echantillon Resultat 1 (Karim) Resultat 2 (Karim)\n",
      "0   0f660312-e967-40fe-9a52-2cbed0ca23f8                              balle, ballon                 SF                NaN\n",
      "1   6122a480-817b-445a-b993-65e65accaa50                    univers/système solaire                PGM                PGS\n",
      "2   1885575b-e89a-4d0b-8474-9b98b049e634                        animaux domestiques                WNG                NaN\n",
      "3   0d8703ec-db50-4936-9808-3d1e3befafe3                                    sénégal              1HFDS                NaN\n",
      "4   fbad8376-7a5b-4e0a-95d3-8edfda117779                         atelier d'écriture                CBW                NaN\n",
      "5   e9aabaf3-9be3-42cc-a210-e955048a7468                         écrivain, écriture               DNBL                NaN\n",
      "6   3c436173-9bb3-47f5-80ab-405328bb397f                                    edition              KNTP1                NaN\n",
      "7   0703fbf6-f436-4cf6-913a-49295b511ccf                               maltraitance               YXQD                NaN\n",
      "8   56a52e12-2040-4303-af7e-e921cd6dc7f5                      histoire : 18e siècle                YNH                3ML\n",
      "9   1d4bf095-0667-4683-80e4-b9981e1b967e                               débarquement               JWCK                NaN\n",
      "10  564404fe-7d19-447e-b4c7-b257188ee07b                                 biographie                YNB                NaN\n",
      "11  6e702f37-fd76-45a1-8ae1-3b9be5bb5bc4                        aventure et mystère                NaN                NaN\n",
      "12  eb85b54c-76cd-4a63-84a2-dffa891bebd4                           aide humanitaire                NaN                NaN\n",
      "13  6383a51e-fcce-496d-9b4f-008a44c7570c                                      rugby                NaN                NaN\n",
      "14  efe3f8c2-80fe-4f90-ba11-8b048b70cc5a                        histoire sans texte                NaN                NaN\n",
      "15  7ae2f9f3-d10b-47ec-9ba3-17156a262faa                                    cow-boy                NaN                NaN\n",
      "16  ecabbab7-da16-4039-9bda-8caa5994845a                                    poisson                NaN                NaN\n",
      "17  2250c7ca-2f29-41f1-8c7b-a48ee077f72b                                    pompier                NaN                NaN\n",
      "18  d536e6b9-4ef9-4624-957f-88331ad2b4f0                                       iran                NaN                NaN\n",
      "19  9f5b411a-8b9e-4022-a096-d18aa53d2808                         lecture de l'image                NaN                NaN\n",
      "20  07be272a-225f-486e-b240-5862179de2ed                                    semaine                NaN                NaN\n",
      "21  5f2001f3-4ee1-4c27-a0c5-90f527b04f14                                     roller                NaN                NaN\n",
      "22  9f2b2082-7ee2-4c7b-af17-2e96a1f915c0                                    licorne                NaN                NaN\n",
      "23  2a789053-64be-4ee2-a392-d815cbe361a5                                    peintre                NaN                NaN\n",
      "24  e87b3315-c06a-4f6f-a283-5a813c8320fc                    relation enfant, adulte                NaN                NaN\n",
      "25  3273c6a5-7bf8-4983-a32c-f72e3399b18c                                   papillon                NaN                NaN\n",
      "26  8364ccc6-8210-4440-a0b5-45e96cc3611e                          regard des autres                NaN                NaN\n",
      "27  4166415e-4fe4-4635-8550-4156a3d2f370                                  guatemala                NaN                NaN\n",
      "28  512a7ef4-3ada-4f5b-a6ff-2862bb7a5500                              arts martiaux                NaN                NaN\n",
      "29  b9881eea-01b2-4e15-8518-78242bf8d62b                  recherche de ses origines                NaN                NaN\n",
      "30  0435a788-50fb-47a7-8fc2-2d30b5c79d82                            tchécoslovaquie                NaN                NaN\n",
      "31  cfa0b8dd-3eb2-4279-adb1-97f864d8add9                                préhistoire                NaN                NaN\n",
      "32  c85a6fbd-1475-4c43-81f8-4e7a8f9fcade                                        eau                NaN                NaN\n",
      "33  cdf2ae21-afd0-4782-a3f6-df08856723c2                                 astronomie                NaN                NaN\n",
      "34  433f1bfc-c243-4831-b2eb-88821b3d48d2                                    londres                NaN                NaN\n",
      "35  2b06f112-3a53-4294-9f86-a18922e9484c                           hygiène/propreté                NaN                NaN\n",
      "36  b57e6ad4-8ff3-4953-92f5-a2c797c6c21c                                monde arabe                NaN                NaN\n",
      "37  439291a6-9be6-40e3-875d-f5e5cd14db5e                        naissance/maternité                NaN                NaN\n",
      "38  69efb217-814d-4bf1-b04c-ddd660d52ebd  conte détourné, boucle d'or et les 3 ours                NaN                NaN\n",
      "39  f4e6bb0d-f686-4348-ab6b-4ab17f03d1ca                                       oman                NaN                NaN\n"
     ]
    }
   ],
   "source": [
    "df_karim = pd.read_excel('Karim_assignments_v1_done.xlsx')\n",
    "df_karim.rename(columns={'Resultat 1': 'Resultat 1 (Karim)', 'Resultat 2': 'Resultat 2 (Karim)'}, inplace=True)\n",
    "print(df_karim)"
   ]
  },
  {
   "cell_type": "markdown",
   "metadata": {},
   "source": [
    "# combine the Excel files"
   ]
  },
  {
   "cell_type": "code",
   "execution_count": 5,
   "metadata": {},
   "outputs": [
    {
     "name": "stdout",
     "output_type": "stream",
     "text": [
      "                                                                  Echantillon Resultat 1 (Michel) Resultat 2 (Michel) Resultat 1 (Andre) Resultat 2 (Andre) Resultat 1 (Karim) Resultat 2 (Karim)\n",
      "UUID                                                                                                                                                                                             \n",
      "0f660312-e967-40fe-9a52-2cbed0ca23f8                            balle, ballon                  SF                 NaN                 SF                NaN                 SF                NaN\n",
      "1885575b-e89a-4d0b-8474-9b98b049e634                      animaux domestiques                 WNG                 NaN               YNNH                NaN                WNG                NaN\n",
      "0d8703ec-db50-4936-9808-3d1e3befafe3                                  sénégal               1HFDS                 NaN              1HFDS                NaN              1HFDS                NaN\n",
      "a2492fac-993c-46c2-817b-67bf4b9fd16f                                livre-jeu               YBCS2                 NaN                YBG                NaN                NaN                NaN\n",
      "fbad8376-7a5b-4e0a-95d3-8edfda117779                       atelier d'écriture                 CBW                 NaN               CBVS                NaN                CBW                NaN\n",
      "3c436173-9bb3-47f5-80ab-405328bb397f                                  edition               KNTP1                 NaN                AKH                NaN              KNTP1                NaN\n",
      "f717074b-f95b-4ac7-a704-16ec89e8850b                                     ours                WNCF                 NaN                NaN                NaN                NaN                NaN\n",
      "83d95dc7-2a1d-45e6-a6b0-efdabb296555                     théâtre contemporain                 DDC                 NaN                DDC                NaN                NaN                NaN\n",
      "0703fbf6-f436-4cf6-913a-49295b511ccf                             maltraitance                YXQD                 NaN               YXQD               VFJM               YXQD                NaN\n",
      "9dd6ba61-b47c-443a-8cab-7dc358fd1eeb                           transhumanisme                 UBJ                 NaN                FLP                NaN                NaN                NaN\n",
      "be6e6fe5-9ea4-410a-ab44-b4e78e8339c3                                    genre                JBSF                 NaN               JBSF                NaN                NaN                NaN\n",
      "71f9881c-fbc5-4c5e-9c1d-983d93f35315                                   alaska        1KBB-US-WPNA                 NaN       1KBB-US-WPNA                NaN                NaN                NaN\n",
      "564404fe-7d19-447e-b4c7-b257188ee07b                               biographie                 DNB                 NaN                  D                NaN                YNB                NaN\n",
      "74977d39-4cd9-4abc-b91d-44150fe57676                                  bolivie               1KLSL                 NaN              1KLSL                NaN                NaN                NaN\n",
      "04f22d22-6d2a-49c6-90b0-cb39a812a7cc  conte détourné, le loup et les 7 cabris                YFHG                 NaN                NaN                NaN                NaN                NaN\n",
      "6e702f37-fd76-45a1-8ae1-3b9be5bb5bc4                      aventure et mystère                YFCF                 NaN                YFC                YNX                NaN                NaN\n",
      "bd92a2b5-f768-4b6c-add0-8899a5df44c9                           conte détourné                YFHG                 NaN               YFHG                NaN                NaN                NaN\n",
      "0b79a778-7f70-4fb6-bea9-c2054ba189bc                                    yémen               1FBXY                 NaN              1FBXY                NaN                NaN                NaN\n",
      "e52e8b02-8f1f-4b99-94c5-2c4f1af638aa                               hippocampe               WNCS1                 NaN               YNNS                NaN                NaN                NaN\n",
      "7ae2f9f3-d10b-47ec-9ba3-17156a262faa                                  cow-boy                 FJW                 NaN                FJW                NaN                NaN                NaN\n",
      "43096aea-9d26-425d-b27c-fd726876e6d8                                   dragon               VXQM1                 NaN              VXQM1              YNXB1                NaN                NaN\n",
      "52d61c05-39b1-48d6-8e6f-c9bbb5cb1636                                père noël                5HPD                 NaN               5HPD                NaN                NaN                NaN\n",
      "755e7c34-0568-4d09-bdbd-717285f37ff3                                     sida               MJCJ2                 NaN              MJCJ2                NaN                NaN                NaN\n",
      "c7feafbc-d642-49ec-9625-9ebef5c7091e                         souvenir/mémoire                 JMR                 NaN                JMR                NaN                NaN                NaN\n",
      "2250c7ca-2f29-41f1-8c7b-a48ee077f72b                                  pompier               JKSW2                 NaN              JKSW2                NaN                NaN                NaN\n",
      "d536e6b9-4ef9-4624-957f-88331ad2b4f0                                     iran                1FBN                 NaN               1FBN                NaN                NaN                NaN\n",
      "07be272a-225f-486e-b240-5862179de2ed                                  semaine                YBLJ                 NaN               YBLJ                NaN                NaN                NaN\n",
      "8f56605a-3004-42e2-8660-587d579ce227                                 finlande                1DNF                 NaN               1DNF                NaN                NaN                NaN\n",
      "2a789053-64be-4ee2-a392-d815cbe361a5                                  peintre                 AGB                 NaN                AFC                NaN                NaN                NaN\n",
      "e87b3315-c06a-4f6f-a283-5a813c8320fc                  relation enfant, adulte                 5LC                 NaN                YXH                NaN                NaN                NaN\n",
      "3273c6a5-7bf8-4983-a32c-f72e3399b18c                                 papillon               PSVA2                 NaN               YNNL                NaN                NaN                NaN\n",
      "9cb79f10-cb90-4ed5-811e-661d1c557d05                               souffrance                YXED                 NaN                FXK               YXED                NaN                NaN\n",
      "277c340a-dafa-4bf3-b217-b50eeccaa65f                                     nuit                YBLJ                 NaN               YBLJ                NaN                NaN                NaN\n",
      "4166415e-4fe4-4635-8550-4156a3d2f370                                guatemala               1KLCG                 NaN              1KLCG                NaN                NaN                NaN\n",
      "cfa0b8dd-3eb2-4279-adb1-97f864d8add9                              préhistoire                  3B                 NaN                YNH                 3B                NaN                NaN\n",
      "cdf2ae21-afd0-4782-a3f6-df08856723c2                               astronomie                  PG                 NaN                 PG                NaN                NaN                NaN\n",
      "a741cc35-b731-4212-8ca3-75b7ecdd0ca8                                  révolte                NHTV                 JMQ               NHTV               JPWG                NaN                NaN\n",
      "439291a6-9be6-40e3-875d-f5e5cd14db5e                      naissance/maternité                YXFS                 NaN               VFXB                NaN                NaN                NaN\n",
      "afc4d6f2-813a-414d-a633-b7dc76682ebc                             documentaire                  YN                 NaN               ATFR                NaN                NaN                NaN\n",
      "f4e6bb0d-f686-4348-ab6b-4ab17f03d1ca                                     oman               1FBXM                 NaN                NaN                NaN                NaN                NaN\n",
      "6122a480-817b-445a-b993-65e65accaa50                                      NaN                 NaN                 NaN                NaN                NaN                PGM                PGS\n",
      "e9aabaf3-9be3-42cc-a210-e955048a7468                                      NaN                 NaN                 NaN                NaN                NaN               DNBL                NaN\n",
      "56a52e12-2040-4303-af7e-e921cd6dc7f5                                      NaN                 NaN                 NaN                NaN                NaN                YNH                3ML\n",
      "1d4bf095-0667-4683-80e4-b9981e1b967e                                      NaN                 NaN                 NaN                NaN                NaN               JWCK                NaN\n",
      "eb85b54c-76cd-4a63-84a2-dffa891bebd4                                      NaN                 NaN                 NaN                NaN                NaN                NaN                NaN\n",
      "6383a51e-fcce-496d-9b4f-008a44c7570c                                      NaN                 NaN                 NaN                NaN                NaN                NaN                NaN\n",
      "efe3f8c2-80fe-4f90-ba11-8b048b70cc5a                                      NaN                 NaN                 NaN                NaN                NaN                NaN                NaN\n",
      "ecabbab7-da16-4039-9bda-8caa5994845a                                      NaN                 NaN                 NaN                NaN                NaN                NaN                NaN\n",
      "9f5b411a-8b9e-4022-a096-d18aa53d2808                                      NaN                 NaN                 NaN                NaN                NaN                NaN                NaN\n",
      "5f2001f3-4ee1-4c27-a0c5-90f527b04f14                                      NaN                 NaN                 NaN                NaN                NaN                NaN                NaN\n",
      "9f2b2082-7ee2-4c7b-af17-2e96a1f915c0                                      NaN                 NaN                 NaN                NaN                NaN                NaN                NaN\n",
      "8364ccc6-8210-4440-a0b5-45e96cc3611e                                      NaN                 NaN                 NaN                NaN                NaN                NaN                NaN\n",
      "512a7ef4-3ada-4f5b-a6ff-2862bb7a5500                                      NaN                 NaN                 NaN                NaN                NaN                NaN                NaN\n",
      "b9881eea-01b2-4e15-8518-78242bf8d62b                                      NaN                 NaN                 NaN                NaN                NaN                NaN                NaN\n",
      "0435a788-50fb-47a7-8fc2-2d30b5c79d82                                      NaN                 NaN                 NaN                NaN                NaN                NaN                NaN\n",
      "c85a6fbd-1475-4c43-81f8-4e7a8f9fcade                                      NaN                 NaN                 NaN                NaN                NaN                NaN                NaN\n",
      "433f1bfc-c243-4831-b2eb-88821b3d48d2                                      NaN                 NaN                 NaN                NaN                NaN                NaN                NaN\n",
      "2b06f112-3a53-4294-9f86-a18922e9484c                                      NaN                 NaN                 NaN                NaN                NaN                NaN                NaN\n",
      "b57e6ad4-8ff3-4953-92f5-a2c797c6c21c                                      NaN                 NaN                 NaN                NaN                NaN                NaN                NaN\n",
      "69efb217-814d-4bf1-b04c-ddd660d52ebd                                      NaN                 NaN                 NaN                NaN                NaN                NaN                NaN\n"
     ]
    }
   ],
   "source": [
    "df_combined = pd.concat([df_michel.set_index('UUID'), df_andre.drop('Echantillon', axis=1).set_index('UUID'), df_karim.drop('Echantillon', axis=1).set_index('UUID')], axis=1)\n",
    "print(df_combined)"
   ]
  },
  {
   "cell_type": "markdown",
   "metadata": {},
   "source": [
    "# compare results of reviewers"
   ]
  },
  {
   "cell_type": "code",
   "execution_count": 6,
   "metadata": {},
   "outputs": [
    {
     "name": "stdout",
     "output_type": "stream",
     "text": [
      "[2, 1, 2, 1, 1, 1, 2, 2, 1, 1, 2, 2, 2, 2, 2, 2, 2, 2, 1, 2, 1, 2, 2, 2, 2, 2, 2, 2, 1, 1, 1, 1, 2, 2, 1, 2, 2, 1, 1, 2, 1, 2, 1, 2, 0, 0, 0, 0, 0, 0, 0, 0, 0, 0, 0, 0, 0, 0, 0, 0]\n",
      "0    16\n",
      "1    17\n",
      "2    27\n",
      "dtype: int64\n",
      "60\n"
     ]
    }
   ],
   "source": [
    "resultat_columns = [col for col in df_combined.columns if 'Resultat' in col]\n",
    "consistency_scores = []\n",
    "\n",
    "for index, row in df_combined.iterrows():\n",
    "    results = row[resultat_columns].dropna().unique()\n",
    "    if len(results) == 0:\n",
    "        score = 0\n",
    "    elif len(results) == 1:\n",
    "        score = 2\n",
    "    elif len(results) == 2:\n",
    "        score = 1\n",
    "    consistency_scores.append(score)\n",
    "\n",
    "print(consistency_scores)\n",
    "grouped_scores = pd.Series(consistency_scores).groupby(consistency_scores).size()\n",
    "print(grouped_scores)\n",
    "print(len(consistency_scores))\n"
   ]
  },
  {
   "cell_type": "markdown",
   "metadata": {},
   "source": [
    "# create ground truth dictionnary\n",
    "key = theme, value = annotation\n",
    "choosing to put all the ground truth annotation of reviwers, removing duplicates\n",
    "for the future: if duplicates = several reviewers made the same decision, discard the other ones"
   ]
  },
  {
   "cell_type": "code",
   "execution_count": 53,
   "metadata": {},
   "outputs": [
    {
     "data": {
      "text/plain": [
       "{'balle, ballon': array(['SF'], dtype=object),\n",
       " 'animaux domestiques': array(['WNG', 'YNNH'], dtype=object),\n",
       " 'sénégal': array(['1HFDS'], dtype=object),\n",
       " 'livre-jeu': array(['YBCS2', 'YBG'], dtype=object),\n",
       " \"atelier d'écriture\": array(['CBW', 'CBVS'], dtype=object),\n",
       " 'edition': array(['KNTP1', 'AKH'], dtype=object),\n",
       " 'ours': array(['WNCF'], dtype=object),\n",
       " 'théâtre contemporain': array(['DDC'], dtype=object),\n",
       " 'maltraitance': array(['YXQD', 'VFJM'], dtype=object),\n",
       " 'transhumanisme': array(['UBJ', 'FLP'], dtype=object),\n",
       " 'genre': array(['JBSF'], dtype=object),\n",
       " 'alaska': array(['1KBB-US-WPNA'], dtype=object),\n",
       " 'biographie': array(['DNB', 'D', 'YNB'], dtype=object),\n",
       " 'bolivie': array(['1KLSL'], dtype=object),\n",
       " 'conte détourné, le loup et les 7 cabris': array(['YFHG'], dtype=object),\n",
       " 'aventure et mystère': array(['YFCF', 'YFC', 'YNX'], dtype=object),\n",
       " 'conte détourné': array(['YFHG'], dtype=object),\n",
       " 'yémen': array(['1FBXY'], dtype=object),\n",
       " 'hippocampe': array(['WNCS1', 'YNNS'], dtype=object),\n",
       " 'cow-boy': array(['FJW'], dtype=object),\n",
       " 'dragon': array(['VXQM1', 'YNXB1'], dtype=object),\n",
       " 'père noël': array(['5HPD'], dtype=object),\n",
       " 'sida': array(['MJCJ2'], dtype=object),\n",
       " 'souvenir/mémoire': array(['JMR'], dtype=object),\n",
       " 'pompier': array(['JKSW2'], dtype=object),\n",
       " 'iran': array(['1FBN'], dtype=object),\n",
       " 'semaine': array(['YBLJ'], dtype=object),\n",
       " 'finlande': array(['1DNF'], dtype=object),\n",
       " 'peintre': array(['AGB', 'AFC'], dtype=object),\n",
       " 'relation enfant, adulte': array(['5LC', 'YXH'], dtype=object),\n",
       " 'papillon': array(['PSVA2', 'YNNL'], dtype=object),\n",
       " 'souffrance': array(['YXED', 'FXK'], dtype=object),\n",
       " 'nuit': array(['YBLJ'], dtype=object),\n",
       " 'guatemala': array(['1KLCG'], dtype=object),\n",
       " 'préhistoire': array(['3B', 'YNH'], dtype=object),\n",
       " 'astronomie': array(['PG'], dtype=object),\n",
       " 'révolte': array(['NHTV', 'JMQ', 'JPWG'], dtype=object),\n",
       " 'naissance/maternité': array(['YXFS', 'VFXB'], dtype=object),\n",
       " 'documentaire': array(['YN', 'ATFR'], dtype=object),\n",
       " 'oman': array(['1FBXM'], dtype=object),\n",
       " nan: array([], dtype=object)}"
      ]
     },
     "execution_count": 53,
     "metadata": {},
     "output_type": "execute_result"
    }
   ],
   "source": [
    "theme_ground_truth = {}\n",
    "for index, row in df_combined.iterrows():\n",
    "    aggregated_results = row.filter(like='Resultat').dropna().unique()\n",
    "    theme_ground_truth[row[\"Echantillon\"]] = aggregated_results\n",
    "theme_ground_truth"
   ]
  }
 ],
 "metadata": {
  "kernelspec": {
   "display_name": "Python 3",
   "language": "python",
   "name": "python3"
  },
  "language_info": {
   "codemirror_mode": {
    "name": "ipython",
    "version": 3
   },
   "file_extension": ".py",
   "mimetype": "text/x-python",
   "name": "python",
   "nbconvert_exporter": "python",
   "pygments_lexer": "ipython3",
   "version": "3.11.8"
  }
 },
 "nbformat": 4,
 "nbformat_minor": 2
}
