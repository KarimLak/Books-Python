{
 "cells": [
  {
   "cell_type": "code",
   "execution_count": 132,
   "metadata": {},
   "outputs": [],
   "source": [
    "import pandas as pd\n",
    "import sklearn\n",
    "\n",
    "# Set display options\n",
    "pd.set_option('display.max_columns', None)\n",
    "pd.set_option('display.expand_frame_repr', False)"
   ]
  },
  {
   "cell_type": "markdown",
   "metadata": {},
   "source": [
    "# parse the Excel files"
   ]
  },
  {
   "cell_type": "code",
   "execution_count": 144,
   "metadata": {},
   "outputs": [
    {
     "name": "stdout",
     "output_type": "stream",
     "text": [
      "                                    UUID                     Echantillon (Michel) Resultat 1 (Michel) Resultat 2 (Michel)\n",
      "0   0f660312-e967-40fe-9a52-2cbed0ca23f8                            balle, ballon                  SF                 NaN\n",
      "1   1885575b-e89a-4d0b-8474-9b98b049e634                      animaux domestiques                 WNG                 NaN\n",
      "2   0d8703ec-db50-4936-9808-3d1e3befafe3                                  sénégal               1HFDS                 NaN\n",
      "3   a2492fac-993c-46c2-817b-67bf4b9fd16f                                livre-jeu               YBCS2                 NaN\n",
      "4   fbad8376-7a5b-4e0a-95d3-8edfda117779                       atelier d'écriture                 CBW                 NaN\n",
      "5   3c436173-9bb3-47f5-80ab-405328bb397f                                  edition               KNTP1                 NaN\n",
      "6   f717074b-f95b-4ac7-a704-16ec89e8850b                                     ours                WNCF                 NaN\n",
      "7   83d95dc7-2a1d-45e6-a6b0-efdabb296555                     théâtre contemporain                 DDC                 NaN\n",
      "8   0703fbf6-f436-4cf6-913a-49295b511ccf                             maltraitance                YXQD                 NaN\n",
      "9   9dd6ba61-b47c-443a-8cab-7dc358fd1eeb                           transhumanisme                 UBJ                 NaN\n",
      "10  be6e6fe5-9ea4-410a-ab44-b4e78e8339c3                                    genre                JBSF                 NaN\n",
      "11  71f9881c-fbc5-4c5e-9c1d-983d93f35315                                   alaska        1KBB-US-WPNA                 NaN\n",
      "12  564404fe-7d19-447e-b4c7-b257188ee07b                               biographie                 DNB                 NaN\n",
      "13  74977d39-4cd9-4abc-b91d-44150fe57676                                  bolivie               1KLSL                 NaN\n",
      "14  04f22d22-6d2a-49c6-90b0-cb39a812a7cc  conte détourné, le loup et les 7 cabris                YFHG                 NaN\n",
      "15  6e702f37-fd76-45a1-8ae1-3b9be5bb5bc4                      aventure et mystère                YFCF                 NaN\n",
      "16  bd92a2b5-f768-4b6c-add0-8899a5df44c9                           conte détourné                YFHG                 NaN\n",
      "17  0b79a778-7f70-4fb6-bea9-c2054ba189bc                                    yémen               1FBXY                 NaN\n",
      "18  e52e8b02-8f1f-4b99-94c5-2c4f1af638aa                               hippocampe               WNCS1                 NaN\n",
      "19  7ae2f9f3-d10b-47ec-9ba3-17156a262faa                                  cow-boy                 FJW                 NaN\n",
      "20  43096aea-9d26-425d-b27c-fd726876e6d8                                   dragon               VXQM1                 NaN\n",
      "21  52d61c05-39b1-48d6-8e6f-c9bbb5cb1636                                père noël                5HPD                 NaN\n",
      "22  755e7c34-0568-4d09-bdbd-717285f37ff3                                     sida               MJCJ2                 NaN\n",
      "23  c7feafbc-d642-49ec-9625-9ebef5c7091e                         souvenir/mémoire                 JMR                 NaN\n",
      "24  2250c7ca-2f29-41f1-8c7b-a48ee077f72b                                  pompier               JKSW2                 NaN\n",
      "25  d536e6b9-4ef9-4624-957f-88331ad2b4f0                                     iran                1FBN                 NaN\n",
      "26  07be272a-225f-486e-b240-5862179de2ed                                  semaine                YBLJ                 NaN\n",
      "27  8f56605a-3004-42e2-8660-587d579ce227                                 finlande                1DNF                 NaN\n",
      "28  2a789053-64be-4ee2-a392-d815cbe361a5                                  peintre                 AGB                 NaN\n",
      "29  e87b3315-c06a-4f6f-a283-5a813c8320fc                  relation enfant, adulte                 5LC                 NaN\n",
      "30  3273c6a5-7bf8-4983-a32c-f72e3399b18c                                 papillon               PSVA2                 NaN\n",
      "31  9cb79f10-cb90-4ed5-811e-661d1c557d05                               souffrance                YXED                 NaN\n",
      "32  277c340a-dafa-4bf3-b217-b50eeccaa65f                                     nuit                YBLJ                 NaN\n",
      "33  4166415e-4fe4-4635-8550-4156a3d2f370                                guatemala               1KLCG                 NaN\n",
      "34  cfa0b8dd-3eb2-4279-adb1-97f864d8add9                              préhistoire                  3B                 NaN\n",
      "35  cdf2ae21-afd0-4782-a3f6-df08856723c2                               astronomie                  PG                 NaN\n",
      "36  a741cc35-b731-4212-8ca3-75b7ecdd0ca8                                  révolte                NHTV                 JMQ\n",
      "37  439291a6-9be6-40e3-875d-f5e5cd14db5e                      naissance/maternité                YXFS                 NaN\n",
      "38  afc4d6f2-813a-414d-a633-b7dc76682ebc                             documentaire                  YN                 NaN\n",
      "39  f4e6bb0d-f686-4348-ab6b-4ab17f03d1ca                                     oman               1FBXM                 NaN\n"
     ]
    }
   ],
   "source": [
    "# Read the Excel file\n",
    "df_michel = pd.read_excel('../book_themes_alignment_data/Michel_assignments_v1_done.xlsx', keep_default_na=False, na_values=[''])\n",
    "df_michel.rename(columns={'Echantillon': 'Echantillon (Michel)', 'Resultat 1': 'Resultat 1 (Michel)', 'Resultat 2': 'Resultat 2 (Michel)'}, inplace=True)\n",
    "# Print the DataFrame\n",
    "print(df_michel)"
   ]
  },
  {
   "cell_type": "code",
   "execution_count": 143,
   "metadata": {},
   "outputs": [
    {
     "name": "stdout",
     "output_type": "stream",
     "text": [
      "                                    UUID                        Echantillon (Karim) Resultat 1 (Karim) Resultat 2 (Karim)\n",
      "0   0f660312-e967-40fe-9a52-2cbed0ca23f8                              balle, ballon                 SF                NaN\n",
      "1   6122a480-817b-445a-b993-65e65accaa50                    univers/système solaire                PGM                PGS\n",
      "2   1885575b-e89a-4d0b-8474-9b98b049e634                        animaux domestiques                WNG                NaN\n",
      "3   0d8703ec-db50-4936-9808-3d1e3befafe3                                    sénégal              1HFDS                NaN\n",
      "4   fbad8376-7a5b-4e0a-95d3-8edfda117779                         atelier d'écriture                CBW                NaN\n",
      "5   e9aabaf3-9be3-42cc-a210-e955048a7468                         écrivain, écriture               DNBL                NaN\n",
      "6   3c436173-9bb3-47f5-80ab-405328bb397f                                    edition              KNTP1                NaN\n",
      "7   0703fbf6-f436-4cf6-913a-49295b511ccf                               maltraitance               YXQD                NaN\n",
      "8   56a52e12-2040-4303-af7e-e921cd6dc7f5                      histoire : 18e siècle                YNH                3ML\n",
      "9   1d4bf095-0667-4683-80e4-b9981e1b967e                               débarquement               JWCK                NaN\n",
      "10  564404fe-7d19-447e-b4c7-b257188ee07b                                 biographie                YNB                NaN\n",
      "11  6e702f37-fd76-45a1-8ae1-3b9be5bb5bc4                        aventure et mystère                YFC                YNX\n",
      "12  eb85b54c-76cd-4a63-84a2-dffa891bebd4                           aide humanitaire               JKSR                NaN\n",
      "13  6383a51e-fcce-496d-9b4f-008a44c7570c                                      rugby              YNWD7                NaN\n",
      "14  efe3f8c2-80fe-4f90-ba11-8b048b70cc5a                        histoire sans texte               YBCS                NaN\n",
      "15  7ae2f9f3-d10b-47ec-9ba3-17156a262faa                                    cow-boy                N/A                NaN\n",
      "16  ecabbab7-da16-4039-9bda-8caa5994845a                                    poisson               YNNS                NaN\n",
      "17  2250c7ca-2f29-41f1-8c7b-a48ee077f72b                                    pompier              JKSW2                NaN\n",
      "18  d536e6b9-4ef9-4624-957f-88331ad2b4f0                                       iran               1FBN                NaN\n",
      "19  9f5b411a-8b9e-4022-a096-d18aa53d2808                         lecture de l'image                N/A                NaN\n",
      "20  07be272a-225f-486e-b240-5862179de2ed                                    semaine                N/A                NaN\n",
      "21  5f2001f3-4ee1-4c27-a0c5-90f527b04f14                                     roller                N/A                NaN\n",
      "22  9f2b2082-7ee2-4c7b-af17-2e96a1f915c0                                    licorne              YNXB5                NaN\n",
      "23  2a789053-64be-4ee2-a392-d815cbe361a5                                    peintre                YNA                NaN\n",
      "24  e87b3315-c06a-4f6f-a283-5a813c8320fc                    relation enfant, adulte                N/A                NaN\n",
      "25  3273c6a5-7bf8-4983-a32c-f72e3399b18c                                   papillon               WNCN                NaN\n",
      "26  8364ccc6-8210-4440-a0b5-45e96cc3611e                          regard des autres                N/A                NaN\n",
      "27  4166415e-4fe4-4635-8550-4156a3d2f370                                  guatemala              1KLCG                NaN\n",
      "28  512a7ef4-3ada-4f5b-a6ff-2862bb7a5500                              arts martiaux               YNWJ                NaN\n",
      "29  b9881eea-01b2-4e15-8518-78242bf8d62b                  recherche de ses origines                N/A                NaN\n",
      "30  0435a788-50fb-47a7-8fc2-2d30b5c79d82                            tchécoslovaquie              1QBDK                NaN\n",
      "31  cfa0b8dd-3eb2-4279-adb1-97f864d8add9                                préhistoire                 3B                NaN\n",
      "32  c85a6fbd-1475-4c43-81f8-4e7a8f9fcade                                        eau                N/A                NaN\n",
      "33  cdf2ae21-afd0-4782-a3f6-df08856723c2                                 astronomie             YPMP51                NaN\n",
      "34  433f1bfc-c243-4831-b2eb-88821b3d48d2                                    londres        1DDU-GB-ESL                NaN\n",
      "35  2b06f112-3a53-4294-9f86-a18922e9484c                           hygiène/propreté              MBNH1              YBLM1\n",
      "36  b57e6ad4-8ff3-4953-92f5-a2c797c6c21c                                monde arabe               1QFA                NaN\n",
      "37  439291a6-9be6-40e3-875d-f5e5cd14db5e                        naissance/maternité               VFXB                NaN\n",
      "38  69efb217-814d-4bf1-b04c-ddd660d52ebd  conte détourné, boucle d'or et les 3 ours                N/A                NaN\n",
      "39  f4e6bb0d-f686-4348-ab6b-4ab17f03d1ca                                       oman              1FBXM                NaN\n"
     ]
    }
   ],
   "source": [
    "df_karim = pd.read_excel('../book_themes_alignment_data/Karim_assignments_v1_done.xlsx', keep_default_na=False, na_values=[''])\n",
    "\n",
    "df_karim.rename(columns={'Echantillon': 'Echantillon (Karim)','Resultat 1': 'Resultat 1 (Karim)', 'Resultat 2': 'Resultat 2 (Karim)'}, inplace=True)\n",
    "print(df_karim)"
   ]
  },
  {
   "cell_type": "code",
   "execution_count": 145,
   "metadata": {},
   "outputs": [
    {
     "name": "stdout",
     "output_type": "stream",
     "text": [
      "                                    UUID                     Echantillon (Juliette) Resultat 1 (Juliette) Resultat 2 (Juliette)\n",
      "0   6122a480-817b-445a-b993-65e65accaa50                    univers/système solaire                   PGS                   1ZM\n",
      "1   a2492fac-993c-46c2-817b-67bf4b9fd16f                                  livre-jeu                   YBG                   NaN\n",
      "2   e9aabaf3-9be3-42cc-a210-e955048a7468                         écrivain, écriture                   YNL                   NaN\n",
      "3   f717074b-f95b-4ac7-a704-16ec89e8850b                                       ours               YNNJV23                   NaN\n",
      "4   83d95dc7-2a1d-45e6-a6b0-efdabb296555                       théâtre contemporain                   DDC                   NaN\n",
      "5   56a52e12-2040-4303-af7e-e921cd6dc7f5                      histoire : 18e siècle                    NH                   3ML\n",
      "6   9dd6ba61-b47c-443a-8cab-7dc358fd1eeb                             transhumanisme                   FLP                   UBJ\n",
      "7   be6e6fe5-9ea4-410a-ab44-b4e78e8339c3                                      genre                   YXC                   NaN\n",
      "8   1d4bf095-0667-4683-80e4-b9981e1b967e                               débarquement                  JWCK                3MPBLB\n",
      "9   71f9881c-fbc5-4c5e-9c1d-983d93f35315                                     alaska          1KBB-US-WPNA                   NaN\n",
      "10  74977d39-4cd9-4abc-b91d-44150fe57676                                    bolivie                 1KLSL                   NaN\n",
      "11  04f22d22-6d2a-49c6-90b0-cb39a812a7cc    conte détourné, le loup et les 7 cabris                  YFHG                   NaN\n",
      "12  eb85b54c-76cd-4a63-84a2-dffa891bebd4                           aide humanitaire                  JKSR                   NaN\n",
      "13  6383a51e-fcce-496d-9b4f-008a44c7570c                                      rugby                 YNWD7                   NaN\n",
      "14  bd92a2b5-f768-4b6c-add0-8899a5df44c9                             conte détourné                  YFHG                   NaN\n",
      "15  0b79a778-7f70-4fb6-bea9-c2054ba189bc                                      yémen                 1FBXY                   NaN\n",
      "16  efe3f8c2-80fe-4f90-ba11-8b048b70cc5a                        histoire sans texte                  YBCS                   NaN\n",
      "17  e52e8b02-8f1f-4b99-94c5-2c4f1af638aa                                 hippocampe                   N/A                   NaN\n",
      "18  43096aea-9d26-425d-b27c-fd726876e6d8                                     dragon                 YNXB1                   NaN\n",
      "19  52d61c05-39b1-48d6-8e6f-c9bbb5cb1636                                  père noël                   N/A                   NaN\n",
      "20  755e7c34-0568-4d09-bdbd-717285f37ff3                                       sida                 MJCJ2                   NaN\n",
      "21  c7feafbc-d642-49ec-9625-9ebef5c7091e                           souvenir/mémoire                  VSPT                   NaN\n",
      "22  ecabbab7-da16-4039-9bda-8caa5994845a                                    poisson                  YNNS                   NaN\n",
      "23  9f5b411a-8b9e-4022-a096-d18aa53d2808                         lecture de l'image                   N/A                   NaN\n",
      "24  5f2001f3-4ee1-4c27-a0c5-90f527b04f14                                     roller                   N/A                   NaN\n",
      "25  9f2b2082-7ee2-4c7b-af17-2e96a1f915c0                                    licorne                 YNXB5                   NaN\n",
      "26  8f56605a-3004-42e2-8660-587d579ce227                                   finlande                  1DNF                   NaN\n",
      "27  9cb79f10-cb90-4ed5-811e-661d1c557d05                                 souffrance                   FXK                   NaN\n",
      "28  277c340a-dafa-4bf3-b217-b50eeccaa65f                                       nuit                  YBLJ                   NaN\n",
      "29  8364ccc6-8210-4440-a0b5-45e96cc3611e                          regard des autres                   N/A                   NaN\n",
      "30  512a7ef4-3ada-4f5b-a6ff-2862bb7a5500                              arts martiaux                  YNWJ                   NaN\n",
      "31  b9881eea-01b2-4e15-8518-78242bf8d62b                  recherche de ses origines                   N/A                   NaN\n",
      "32  0435a788-50fb-47a7-8fc2-2d30b5c79d82                            tchécoslovaquie                 1QBDK                   NaN\n",
      "33  c85a6fbd-1475-4c43-81f8-4e7a8f9fcade                                        eau                   RBK                   NaN\n",
      "34  433f1bfc-c243-4831-b2eb-88821b3d48d2                                    londres                   JPT          1DDU-GB-ESLF\n",
      "35  2b06f112-3a53-4294-9f86-a18922e9484c                           hygiène/propreté                   YXA                   NaN\n",
      "36  b57e6ad4-8ff3-4953-92f5-a2c797c6c21c                                monde arabe                  1QFA                   NaN\n",
      "37  a741cc35-b731-4212-8ca3-75b7ecdd0ca8                                    révolte                   N/A                   NaN\n",
      "38  69efb217-814d-4bf1-b04c-ddd660d52ebd  conte détourné, boucle d'or et les 3 ours                  YFHG                   NaN\n",
      "39  afc4d6f2-813a-414d-a633-b7dc76682ebc                               documentaire                  ATFR                   NaN\n"
     ]
    }
   ],
   "source": [
    "df_juliette = pd.read_excel('../book_themes_alignment_data/Juliette_assignments_v1_by_dre.xlsx', keep_default_na=False, na_values=[''])\n",
    "df_juliette.rename(columns={'Echantillon': 'Echantillon (Juliette)', 'Resultat 1': 'Resultat 1 (Juliette)', 'Resultat 2': 'Resultat 2 (Juliette)'}, inplace=True)\n",
    "print(df_juliette)"
   ]
  },
  {
   "cell_type": "markdown",
   "metadata": {},
   "source": [
    "# combine the Excel files"
   ]
  },
  {
   "cell_type": "code",
   "execution_count": 146,
   "metadata": {},
   "outputs": [
    {
     "name": "stdout",
     "output_type": "stream",
     "text": [
      "                                                         Echantillon (Michel) Resultat 1 (Michel) Resultat 2 (Michel)                     Echantillon (Juliette) Resultat 1 (Juliette) Resultat 2 (Juliette)                        Echantillon (Karim) Resultat 1 (Karim) Resultat 2 (Karim)\n",
      "UUID                                                                                                                                                                                                                                                                                         \n",
      "0f660312-e967-40fe-9a52-2cbed0ca23f8                            balle, ballon                  SF                 NaN                                        NaN                   NaN                   NaN                              balle, ballon                 SF                NaN\n",
      "1885575b-e89a-4d0b-8474-9b98b049e634                      animaux domestiques                 WNG                 NaN                                        NaN                   NaN                   NaN                        animaux domestiques                WNG                NaN\n",
      "0d8703ec-db50-4936-9808-3d1e3befafe3                                  sénégal               1HFDS                 NaN                                        NaN                   NaN                   NaN                                    sénégal              1HFDS                NaN\n",
      "a2492fac-993c-46c2-817b-67bf4b9fd16f                                livre-jeu               YBCS2                 NaN                                  livre-jeu                   YBG                   NaN                                        NaN                NaN                NaN\n",
      "fbad8376-7a5b-4e0a-95d3-8edfda117779                       atelier d'écriture                 CBW                 NaN                                        NaN                   NaN                   NaN                         atelier d'écriture                CBW                NaN\n",
      "3c436173-9bb3-47f5-80ab-405328bb397f                                  edition               KNTP1                 NaN                                        NaN                   NaN                   NaN                                    edition              KNTP1                NaN\n",
      "f717074b-f95b-4ac7-a704-16ec89e8850b                                     ours                WNCF                 NaN                                       ours               YNNJV23                   NaN                                        NaN                NaN                NaN\n",
      "83d95dc7-2a1d-45e6-a6b0-efdabb296555                     théâtre contemporain                 DDC                 NaN                       théâtre contemporain                   DDC                   NaN                                        NaN                NaN                NaN\n",
      "0703fbf6-f436-4cf6-913a-49295b511ccf                             maltraitance                YXQD                 NaN                                        NaN                   NaN                   NaN                               maltraitance               YXQD                NaN\n",
      "9dd6ba61-b47c-443a-8cab-7dc358fd1eeb                           transhumanisme                 UBJ                 NaN                             transhumanisme                   FLP                   UBJ                                        NaN                NaN                NaN\n",
      "be6e6fe5-9ea4-410a-ab44-b4e78e8339c3                                    genre                JBSF                 NaN                                      genre                   YXC                   NaN                                        NaN                NaN                NaN\n",
      "71f9881c-fbc5-4c5e-9c1d-983d93f35315                                   alaska        1KBB-US-WPNA                 NaN                                     alaska          1KBB-US-WPNA                   NaN                                        NaN                NaN                NaN\n",
      "564404fe-7d19-447e-b4c7-b257188ee07b                               biographie                 DNB                 NaN                                        NaN                   NaN                   NaN                                 biographie                YNB                NaN\n",
      "74977d39-4cd9-4abc-b91d-44150fe57676                                  bolivie               1KLSL                 NaN                                    bolivie                 1KLSL                   NaN                                        NaN                NaN                NaN\n",
      "04f22d22-6d2a-49c6-90b0-cb39a812a7cc  conte détourné, le loup et les 7 cabris                YFHG                 NaN    conte détourné, le loup et les 7 cabris                  YFHG                   NaN                                        NaN                NaN                NaN\n",
      "6e702f37-fd76-45a1-8ae1-3b9be5bb5bc4                      aventure et mystère                YFCF                 NaN                                        NaN                   NaN                   NaN                        aventure et mystère                YFC                YNX\n",
      "bd92a2b5-f768-4b6c-add0-8899a5df44c9                           conte détourné                YFHG                 NaN                             conte détourné                  YFHG                   NaN                                        NaN                NaN                NaN\n",
      "0b79a778-7f70-4fb6-bea9-c2054ba189bc                                    yémen               1FBXY                 NaN                                      yémen                 1FBXY                   NaN                                        NaN                NaN                NaN\n",
      "e52e8b02-8f1f-4b99-94c5-2c4f1af638aa                               hippocampe               WNCS1                 NaN                                 hippocampe                   N/A                   NaN                                        NaN                NaN                NaN\n",
      "7ae2f9f3-d10b-47ec-9ba3-17156a262faa                                  cow-boy                 FJW                 NaN                                        NaN                   NaN                   NaN                                    cow-boy                N/A                NaN\n",
      "43096aea-9d26-425d-b27c-fd726876e6d8                                   dragon               VXQM1                 NaN                                     dragon                 YNXB1                   NaN                                        NaN                NaN                NaN\n",
      "52d61c05-39b1-48d6-8e6f-c9bbb5cb1636                                père noël                5HPD                 NaN                                  père noël                   N/A                   NaN                                        NaN                NaN                NaN\n",
      "755e7c34-0568-4d09-bdbd-717285f37ff3                                     sida               MJCJ2                 NaN                                       sida                 MJCJ2                   NaN                                        NaN                NaN                NaN\n",
      "c7feafbc-d642-49ec-9625-9ebef5c7091e                         souvenir/mémoire                 JMR                 NaN                           souvenir/mémoire                  VSPT                   NaN                                        NaN                NaN                NaN\n",
      "2250c7ca-2f29-41f1-8c7b-a48ee077f72b                                  pompier               JKSW2                 NaN                                        NaN                   NaN                   NaN                                    pompier              JKSW2                NaN\n",
      "d536e6b9-4ef9-4624-957f-88331ad2b4f0                                     iran                1FBN                 NaN                                        NaN                   NaN                   NaN                                       iran               1FBN                NaN\n",
      "07be272a-225f-486e-b240-5862179de2ed                                  semaine                YBLJ                 NaN                                        NaN                   NaN                   NaN                                    semaine                N/A                NaN\n",
      "8f56605a-3004-42e2-8660-587d579ce227                                 finlande                1DNF                 NaN                                   finlande                  1DNF                   NaN                                        NaN                NaN                NaN\n",
      "2a789053-64be-4ee2-a392-d815cbe361a5                                  peintre                 AGB                 NaN                                        NaN                   NaN                   NaN                                    peintre                YNA                NaN\n",
      "e87b3315-c06a-4f6f-a283-5a813c8320fc                  relation enfant, adulte                 5LC                 NaN                                        NaN                   NaN                   NaN                    relation enfant, adulte                N/A                NaN\n",
      "3273c6a5-7bf8-4983-a32c-f72e3399b18c                                 papillon               PSVA2                 NaN                                        NaN                   NaN                   NaN                                   papillon               WNCN                NaN\n",
      "9cb79f10-cb90-4ed5-811e-661d1c557d05                               souffrance                YXED                 NaN                                 souffrance                   FXK                   NaN                                        NaN                NaN                NaN\n",
      "277c340a-dafa-4bf3-b217-b50eeccaa65f                                     nuit                YBLJ                 NaN                                       nuit                  YBLJ                   NaN                                        NaN                NaN                NaN\n",
      "4166415e-4fe4-4635-8550-4156a3d2f370                                guatemala               1KLCG                 NaN                                        NaN                   NaN                   NaN                                  guatemala              1KLCG                NaN\n",
      "cfa0b8dd-3eb2-4279-adb1-97f864d8add9                              préhistoire                  3B                 NaN                                        NaN                   NaN                   NaN                                préhistoire                 3B                NaN\n",
      "cdf2ae21-afd0-4782-a3f6-df08856723c2                               astronomie                  PG                 NaN                                        NaN                   NaN                   NaN                                 astronomie             YPMP51                NaN\n",
      "a741cc35-b731-4212-8ca3-75b7ecdd0ca8                                  révolte                NHTV                 JMQ                                    révolte                   N/A                   NaN                                        NaN                NaN                NaN\n",
      "439291a6-9be6-40e3-875d-f5e5cd14db5e                      naissance/maternité                YXFS                 NaN                                        NaN                   NaN                   NaN                        naissance/maternité               VFXB                NaN\n",
      "afc4d6f2-813a-414d-a633-b7dc76682ebc                             documentaire                  YN                 NaN                               documentaire                  ATFR                   NaN                                        NaN                NaN                NaN\n",
      "f4e6bb0d-f686-4348-ab6b-4ab17f03d1ca                                     oman               1FBXM                 NaN                                        NaN                   NaN                   NaN                                       oman              1FBXM                NaN\n",
      "6122a480-817b-445a-b993-65e65accaa50                                      NaN                 NaN                 NaN                    univers/système solaire                   PGS                   1ZM                    univers/système solaire                PGM                PGS\n",
      "e9aabaf3-9be3-42cc-a210-e955048a7468                                      NaN                 NaN                 NaN                         écrivain, écriture                   YNL                   NaN                         écrivain, écriture               DNBL                NaN\n",
      "56a52e12-2040-4303-af7e-e921cd6dc7f5                                      NaN                 NaN                 NaN                      histoire : 18e siècle                    NH                   3ML                      histoire : 18e siècle                YNH                3ML\n",
      "1d4bf095-0667-4683-80e4-b9981e1b967e                                      NaN                 NaN                 NaN                               débarquement                  JWCK                3MPBLB                               débarquement               JWCK                NaN\n",
      "eb85b54c-76cd-4a63-84a2-dffa891bebd4                                      NaN                 NaN                 NaN                           aide humanitaire                  JKSR                   NaN                           aide humanitaire               JKSR                NaN\n",
      "6383a51e-fcce-496d-9b4f-008a44c7570c                                      NaN                 NaN                 NaN                                      rugby                 YNWD7                   NaN                                      rugby              YNWD7                NaN\n",
      "efe3f8c2-80fe-4f90-ba11-8b048b70cc5a                                      NaN                 NaN                 NaN                        histoire sans texte                  YBCS                   NaN                        histoire sans texte               YBCS                NaN\n",
      "ecabbab7-da16-4039-9bda-8caa5994845a                                      NaN                 NaN                 NaN                                    poisson                  YNNS                   NaN                                    poisson               YNNS                NaN\n",
      "9f5b411a-8b9e-4022-a096-d18aa53d2808                                      NaN                 NaN                 NaN                         lecture de l'image                   N/A                   NaN                         lecture de l'image                N/A                NaN\n",
      "5f2001f3-4ee1-4c27-a0c5-90f527b04f14                                      NaN                 NaN                 NaN                                     roller                   N/A                   NaN                                     roller                N/A                NaN\n",
      "9f2b2082-7ee2-4c7b-af17-2e96a1f915c0                                      NaN                 NaN                 NaN                                    licorne                 YNXB5                   NaN                                    licorne              YNXB5                NaN\n",
      "8364ccc6-8210-4440-a0b5-45e96cc3611e                                      NaN                 NaN                 NaN                          regard des autres                   N/A                   NaN                          regard des autres                N/A                NaN\n",
      "512a7ef4-3ada-4f5b-a6ff-2862bb7a5500                                      NaN                 NaN                 NaN                              arts martiaux                  YNWJ                   NaN                              arts martiaux               YNWJ                NaN\n",
      "b9881eea-01b2-4e15-8518-78242bf8d62b                                      NaN                 NaN                 NaN                  recherche de ses origines                   N/A                   NaN                  recherche de ses origines                N/A                NaN\n",
      "0435a788-50fb-47a7-8fc2-2d30b5c79d82                                      NaN                 NaN                 NaN                            tchécoslovaquie                 1QBDK                   NaN                            tchécoslovaquie              1QBDK                NaN\n",
      "c85a6fbd-1475-4c43-81f8-4e7a8f9fcade                                      NaN                 NaN                 NaN                                        eau                   RBK                   NaN                                        eau                N/A                NaN\n",
      "433f1bfc-c243-4831-b2eb-88821b3d48d2                                      NaN                 NaN                 NaN                                    londres                   JPT          1DDU-GB-ESLF                                    londres        1DDU-GB-ESL                NaN\n",
      "2b06f112-3a53-4294-9f86-a18922e9484c                                      NaN                 NaN                 NaN                           hygiène/propreté                   YXA                   NaN                           hygiène/propreté              MBNH1              YBLM1\n",
      "b57e6ad4-8ff3-4953-92f5-a2c797c6c21c                                      NaN                 NaN                 NaN                                monde arabe                  1QFA                   NaN                                monde arabe               1QFA                NaN\n",
      "69efb217-814d-4bf1-b04c-ddd660d52ebd                                      NaN                 NaN                 NaN  conte détourné, boucle d'or et les 3 ours                  YFHG                   NaN  conte détourné, boucle d'or et les 3 ours                N/A                NaN\n"
     ]
    }
   ],
   "source": [
    "df_combined = pd.concat([df_michel.set_index('UUID'), df_juliette.set_index('UUID'), df_karim.set_index('UUID')], axis=1)\n",
    "print(df_combined)"
   ]
  },
  {
   "cell_type": "code",
   "execution_count": 125,
   "metadata": {},
   "outputs": [
    {
     "data": {
      "text/plain": [
       "60"
      ]
     },
     "execution_count": 125,
     "metadata": {},
     "output_type": "execute_result"
    }
   ],
   "source": [
    "merged_echantillon = pd.concat([df_combined[\"Echantillon (Juliette)\"], df_combined[\"Echantillon (Karim)\"], df_combined[\"Echantillon (Michel)\"]]).dropna().unique()\n",
    "len(merged_echantillon)"
   ]
  },
  {
   "cell_type": "code",
   "execution_count": 147,
   "metadata": {},
   "outputs": [
    {
     "name": "stdout",
     "output_type": "stream",
     "text": [
      "                                     Resultat 1 (Michel) Resultat 1 (Karim)\n",
      "UUID                                                                       \n",
      "0f660312-e967-40fe-9a52-2cbed0ca23f8                  SF                 SF\n",
      "1885575b-e89a-4d0b-8474-9b98b049e634                 WNG                WNG\n",
      "0d8703ec-db50-4936-9808-3d1e3befafe3               1HFDS              1HFDS\n",
      "fbad8376-7a5b-4e0a-95d3-8edfda117779                 CBW                CBW\n",
      "3c436173-9bb3-47f5-80ab-405328bb397f               KNTP1              KNTP1\n",
      "0703fbf6-f436-4cf6-913a-49295b511ccf                YXQD               YXQD\n",
      "564404fe-7d19-447e-b4c7-b257188ee07b                 DNB                YNB\n",
      "6e702f37-fd76-45a1-8ae1-3b9be5bb5bc4                YFCF                YFC\n",
      "7ae2f9f3-d10b-47ec-9ba3-17156a262faa                 FJW                N/A\n",
      "2250c7ca-2f29-41f1-8c7b-a48ee077f72b               JKSW2              JKSW2\n",
      "d536e6b9-4ef9-4624-957f-88331ad2b4f0                1FBN               1FBN\n",
      "07be272a-225f-486e-b240-5862179de2ed                YBLJ                N/A\n",
      "2a789053-64be-4ee2-a392-d815cbe361a5                 AGB                YNA\n",
      "e87b3315-c06a-4f6f-a283-5a813c8320fc                 5LC                N/A\n",
      "3273c6a5-7bf8-4983-a32c-f72e3399b18c               PSVA2               WNCN\n",
      "4166415e-4fe4-4635-8550-4156a3d2f370               1KLCG              1KLCG\n",
      "cfa0b8dd-3eb2-4279-adb1-97f864d8add9                  3B                 3B\n",
      "cdf2ae21-afd0-4782-a3f6-df08856723c2                  PG             YPMP51\n",
      "439291a6-9be6-40e3-875d-f5e5cd14db5e                YXFS               VFXB\n",
      "f4e6bb0d-f686-4348-ab6b-4ab17f03d1ca               1FBXM              1FBXM\n"
     ]
    }
   ],
   "source": [
    "df_michel_karim = df_combined.loc[:, ['Resultat 1 (Michel)', 'Resultat 1 (Karim)']]\n",
    "df_michel_karim = df_michel_karim.dropna()\n",
    "print(df_michel_karim)"
   ]
  },
  {
   "cell_type": "code",
   "execution_count": 148,
   "metadata": {},
   "outputs": [
    {
     "name": "stdout",
     "output_type": "stream",
     "text": [
      "                                     Resultat 1 (Michel) Resultat 1 (Juliette)\n",
      "UUID                                                                          \n",
      "a2492fac-993c-46c2-817b-67bf4b9fd16f               YBCS2                   YBG\n",
      "f717074b-f95b-4ac7-a704-16ec89e8850b                WNCF               YNNJV23\n",
      "83d95dc7-2a1d-45e6-a6b0-efdabb296555                 DDC                   DDC\n",
      "9dd6ba61-b47c-443a-8cab-7dc358fd1eeb                 UBJ                   FLP\n",
      "be6e6fe5-9ea4-410a-ab44-b4e78e8339c3                JBSF                   YXC\n",
      "71f9881c-fbc5-4c5e-9c1d-983d93f35315        1KBB-US-WPNA          1KBB-US-WPNA\n",
      "74977d39-4cd9-4abc-b91d-44150fe57676               1KLSL                 1KLSL\n",
      "04f22d22-6d2a-49c6-90b0-cb39a812a7cc                YFHG                  YFHG\n",
      "bd92a2b5-f768-4b6c-add0-8899a5df44c9                YFHG                  YFHG\n",
      "0b79a778-7f70-4fb6-bea9-c2054ba189bc               1FBXY                 1FBXY\n",
      "e52e8b02-8f1f-4b99-94c5-2c4f1af638aa               WNCS1                   N/A\n",
      "43096aea-9d26-425d-b27c-fd726876e6d8               VXQM1                 YNXB1\n",
      "52d61c05-39b1-48d6-8e6f-c9bbb5cb1636                5HPD                   N/A\n",
      "755e7c34-0568-4d09-bdbd-717285f37ff3               MJCJ2                 MJCJ2\n",
      "c7feafbc-d642-49ec-9625-9ebef5c7091e                 JMR                  VSPT\n",
      "8f56605a-3004-42e2-8660-587d579ce227                1DNF                  1DNF\n",
      "9cb79f10-cb90-4ed5-811e-661d1c557d05                YXED                   FXK\n",
      "277c340a-dafa-4bf3-b217-b50eeccaa65f                YBLJ                  YBLJ\n",
      "a741cc35-b731-4212-8ca3-75b7ecdd0ca8                NHTV                   N/A\n",
      "afc4d6f2-813a-414d-a633-b7dc76682ebc                  YN                  ATFR\n"
     ]
    }
   ],
   "source": [
    "df_michel_juliette = df_combined.loc[:, ['Resultat 1 (Michel)', 'Resultat 1 (Juliette)']]\n",
    "df_michel_juliette = df_michel_juliette.dropna()\n",
    "print(df_michel_juliette)"
   ]
  },
  {
   "cell_type": "code",
   "execution_count": 149,
   "metadata": {},
   "outputs": [
    {
     "name": "stdout",
     "output_type": "stream",
     "text": [
      "                                     Resultat 1 (Karim) Resultat 1 (Juliette)\n",
      "UUID                                                                         \n",
      "6122a480-817b-445a-b993-65e65accaa50                PGM                   PGS\n",
      "e9aabaf3-9be3-42cc-a210-e955048a7468               DNBL                   YNL\n",
      "56a52e12-2040-4303-af7e-e921cd6dc7f5                YNH                    NH\n",
      "1d4bf095-0667-4683-80e4-b9981e1b967e               JWCK                  JWCK\n",
      "eb85b54c-76cd-4a63-84a2-dffa891bebd4               JKSR                  JKSR\n",
      "6383a51e-fcce-496d-9b4f-008a44c7570c              YNWD7                 YNWD7\n",
      "efe3f8c2-80fe-4f90-ba11-8b048b70cc5a               YBCS                  YBCS\n",
      "ecabbab7-da16-4039-9bda-8caa5994845a               YNNS                  YNNS\n",
      "9f5b411a-8b9e-4022-a096-d18aa53d2808                N/A                   N/A\n",
      "5f2001f3-4ee1-4c27-a0c5-90f527b04f14                N/A                   N/A\n",
      "9f2b2082-7ee2-4c7b-af17-2e96a1f915c0              YNXB5                 YNXB5\n",
      "8364ccc6-8210-4440-a0b5-45e96cc3611e                N/A                   N/A\n",
      "512a7ef4-3ada-4f5b-a6ff-2862bb7a5500               YNWJ                  YNWJ\n",
      "b9881eea-01b2-4e15-8518-78242bf8d62b                N/A                   N/A\n",
      "0435a788-50fb-47a7-8fc2-2d30b5c79d82              1QBDK                 1QBDK\n",
      "c85a6fbd-1475-4c43-81f8-4e7a8f9fcade                N/A                   RBK\n",
      "433f1bfc-c243-4831-b2eb-88821b3d48d2        1DDU-GB-ESL                   JPT\n",
      "2b06f112-3a53-4294-9f86-a18922e9484c              MBNH1                   YXA\n",
      "b57e6ad4-8ff3-4953-92f5-a2c797c6c21c               1QFA                  1QFA\n",
      "69efb217-814d-4bf1-b04c-ddd660d52ebd                N/A                  YFHG\n"
     ]
    }
   ],
   "source": [
    "df_karim_juliette = df_combined.loc[:, ['Resultat 1 (Karim)', 'Resultat 1 (Juliette)']]\n",
    "df_karim_juliette = df_karim_juliette.dropna()\n",
    "print(df_karim_juliette)"
   ]
  },
  {
   "cell_type": "markdown",
   "metadata": {},
   "source": [
    "# compare results of reviewers"
   ]
  },
  {
   "cell_type": "code",
   "execution_count": 25,
   "metadata": {},
   "outputs": [
    {
     "name": "stdout",
     "output_type": "stream",
     "text": [
      "['Resultat 1 (Michel)', 'Resultat 1 (Andre)', 'Resultat 1 (Karim)']\n",
      "['SF']\n",
      "['WNG' 'YNNH']\n",
      "['1HFDS']\n",
      "['YBCS2' 'YBG']\n",
      "['CBW' 'CBVS']\n",
      "['KNTP1' 'AKH']\n",
      "['WNCF']\n",
      "['DDC']\n",
      "['YXQD']\n",
      "['UBJ' 'FLP']\n",
      "['JBSF']\n",
      "['1KBB-US-WPNA']\n",
      "['DNB' 'D' 'YNB']\n",
      "['1KLSL']\n",
      "['YFHG']\n",
      "['YFCF' 'YFC']\n",
      "['YFHG']\n",
      "['1FBXY']\n",
      "['WNCS1' 'YNNS']\n",
      "['FJW']\n",
      "['VXQM1']\n",
      "['5HPD']\n",
      "['MJCJ2']\n",
      "['JMR']\n",
      "['JKSW2']\n",
      "['1FBN']\n",
      "['YBLJ']\n",
      "['1DNF']\n",
      "['AGB' 'AFC' 'YNA']\n",
      "['5LC' 'YXH']\n",
      "['PSVA2' 'YNNL' 'WNCN']\n",
      "['YXED' 'FXK']\n",
      "['YBLJ']\n",
      "['1KLCG']\n",
      "['3B' 'YNH']\n",
      "['PG' 'YPMP51']\n",
      "['NHTV']\n",
      "['YXFS' 'VFXB']\n",
      "['YN' 'ATFR']\n",
      "['1FBXM']\n",
      "['PGM']\n",
      "['DNBL']\n",
      "['YNH']\n",
      "['JWCK']\n",
      "['JKSR']\n",
      "['YNWD7']\n",
      "['YBCS']\n",
      "['YNNS']\n",
      "[]\n",
      "[]\n",
      "['YNXB5']\n",
      "[]\n",
      "['YNWJ']\n",
      "[]\n",
      "['1QBDK']\n",
      "[]\n",
      "['1DDU-GB-ESL']\n",
      "['MBNH1']\n",
      "['1QFA']\n",
      "[]\n",
      "[2, 1, 2, 1, 1, 1, 2, 2, 2, 1, 2, 2, 2, 2, 2, 1, 2, 2, 1, 2, 2, 2, 2, 2, 2, 2, 2, 2, 2, 1, 1, 1, 2, 2, 1, 1, 2, 1, 1, 2, 2, 2, 2, 2, 2, 2, 2, 2, 0, 0, 2, 0, 2, 0, 2, 0, 2, 2, 2, 0]\n",
      "0     6\n",
      "1    14\n",
      "2    40\n",
      "dtype: int64\n",
      "60\n"
     ]
    }
   ],
   "source": [
    "resultat_columns = [col for col in df_combined.columns if 'Resultat 1' in col]\n",
    "print(resultat_columns)\n",
    "consistency_scores = []\n",
    "\n",
    "for index, row in df_combined.iterrows():\n",
    "    results = row[resultat_columns].dropna().unique()\n",
    "    print(results)\n",
    "    if len(results) == 0:\n",
    "        score = 0\n",
    "    elif len(results) == 1:\n",
    "        score = 2\n",
    "    elif len(results) == 2:\n",
    "        score = 1\n",
    "    consistency_scores.append(score)\n",
    "\n",
    "print(consistency_scores)\n",
    "grouped_scores = pd.Series(consistency_scores).groupby(consistency_scores).size()\n",
    "print(grouped_scores)\n",
    "print(len(consistency_scores))\n"
   ]
  },
  {
   "cell_type": "code",
   "execution_count": 150,
   "metadata": {},
   "outputs": [
    {
     "name": "stdout",
     "output_type": "stream",
     "text": [
      "0.5372750642673523 20\n"
     ]
    }
   ],
   "source": [
    "result_columns = [col for col in df_combined.columns if 'Resultat 1' in col]\n",
    "\n",
    "# Create a list to store the kappa scores\n",
    "kappa_scores = []\n",
    "\n",
    "michel = df_michel_karim[\"Resultat 1 (Michel)\"].tolist()\n",
    "karim = df_michel_karim[\"Resultat 1 (Karim)\"].tolist()\n",
    "\n",
    "kappa = sklearn.metrics.cohen_kappa_score(michel, karim)\n",
    "print(kappa, len(michel))\n"
   ]
  },
  {
   "cell_type": "code",
   "execution_count": 151,
   "metadata": {},
   "outputs": [
    {
     "name": "stdout",
     "output_type": "stream",
     "text": [
      "0.4344473007712082 20\n"
     ]
    }
   ],
   "source": [
    "result_columns = [col for col in df_combined.columns if 'Resultat 1' in col]\n",
    "\n",
    "# Create a list to store the kappa scores\n",
    "kappa_scores = []\n",
    "\n",
    "michel = df_michel_juliette[\"Resultat 1 (Michel)\"].tolist()\n",
    "juliette = df_michel_juliette[\"Resultat 1 (Juliette)\"].tolist()\n",
    "\n",
    "kappa = sklearn.metrics.cohen_kappa_score(michel, juliette)\n",
    "print(kappa, len(michel))"
   ]
  },
  {
   "cell_type": "code",
   "execution_count": 152,
   "metadata": {},
   "outputs": [
    {
     "name": "stdout",
     "output_type": "stream",
     "text": [
      "0.6185286103542235 20\n"
     ]
    }
   ],
   "source": [
    "result_columns = [col for col in df_combined.columns if 'Resultat 1' in col]\n",
    "\n",
    "# Create a list to store the kappa scores\n",
    "kappa_scores = []\n",
    "\n",
    "karim = df_karim_juliette[\"Resultat 1 (Karim)\"].tolist()\n",
    "juliette = df_karim_juliette[\"Resultat 1 (Juliette)\"].tolist()\n",
    "\n",
    "kappa = sklearn.metrics.cohen_kappa_score(karim, juliette)\n",
    "print(kappa, len(karim))"
   ]
  },
  {
   "cell_type": "markdown",
   "metadata": {},
   "source": [
    "# create ground truth dictionnary\n",
    "key = theme, value = annotation\n",
    "choosing to put all the ground truth annotation of reviwers, removing duplicates\n",
    "for the future: if duplicates = several reviewers made the same decision, discard the other ones"
   ]
  },
  {
   "cell_type": "code",
   "execution_count": 12,
   "metadata": {},
   "outputs": [
    {
     "data": {
      "text/plain": [
       "{'balle, ballon': ['SF'],\n",
       " 'animaux domestiques': ['WNG', 'YNNH'],\n",
       " 'sénégal': ['1HFDS'],\n",
       " 'livre-jeu': ['YBCS2', 'YBG'],\n",
       " \"atelier d'écriture\": ['CBW', 'CBVS'],\n",
       " 'edition': ['KNTP1', 'AKH'],\n",
       " 'ours': ['WNCF'],\n",
       " 'théâtre contemporain': ['DDC'],\n",
       " 'maltraitance': ['YXQD', 'VFJM'],\n",
       " 'transhumanisme': ['UBJ', 'FLP'],\n",
       " 'genre': ['JBSF'],\n",
       " 'alaska': ['1KBB-US-WPNA'],\n",
       " 'biographie': ['DNB', 'D', 'YNB'],\n",
       " 'bolivie': ['1KLSL'],\n",
       " 'conte détourné, le loup et les 7 cabris': ['YFHG'],\n",
       " 'aventure et mystère': ['YFCF', 'YFC', 'YNX'],\n",
       " 'conte détourné': ['YFHG'],\n",
       " 'yémen': ['1FBXY'],\n",
       " 'hippocampe': ['WNCS1', 'YNNS'],\n",
       " 'cow-boy': ['FJW'],\n",
       " 'dragon': ['VXQM1', 'YNXB1'],\n",
       " 'père noël': ['5HPD'],\n",
       " 'sida': ['MJCJ2'],\n",
       " 'souvenir/mémoire': ['JMR'],\n",
       " 'pompier': ['JKSW2'],\n",
       " 'iran': ['1FBN'],\n",
       " 'semaine': ['YBLJ'],\n",
       " 'finlande': ['1DNF'],\n",
       " 'peintre': ['AGB', 'AFC'],\n",
       " 'relation enfant, adulte': ['5LC', 'YXH'],\n",
       " 'papillon': ['PSVA2', 'YNNL'],\n",
       " 'souffrance': ['YXED', 'FXK'],\n",
       " 'nuit': ['YBLJ'],\n",
       " 'guatemala': ['1KLCG'],\n",
       " 'préhistoire': ['3B', 'YNH'],\n",
       " 'astronomie': ['PG'],\n",
       " 'révolte': ['NHTV', 'JMQ', 'JPWG'],\n",
       " 'naissance/maternité': ['YXFS', 'VFXB'],\n",
       " 'documentaire': ['YN', 'ATFR'],\n",
       " 'oman': ['1FBXM'],\n",
       " nan: []}"
      ]
     },
     "execution_count": 12,
     "metadata": {},
     "output_type": "execute_result"
    }
   ],
   "source": [
    "theme_ground_truth = {}\n",
    "for index, row in df_combined.iterrows():\n",
    "    aggregated_results = row.filter(like='Resultat').dropna().unique()\n",
    "    theme_ground_truth[row[\"Echantillon\"]] = aggregated_results.tolist()\n",
    "theme_ground_truth"
   ]
  },
  {
   "cell_type": "code",
   "execution_count": 14,
   "metadata": {},
   "outputs": [
    {
     "name": "stdout",
     "output_type": "stream",
     "text": [
      "Ground truth saved to: ../book_themes_alignment_data/themes_validation_set_ground_truth.json\n"
     ]
    }
   ],
   "source": [
    "import json\n",
    "\n",
    "# Define the file path\n",
    "file_path = '../book_themes_alignment_data/themes_validation_set_ground_truth.json'\n",
    "\n",
    "# Save the JSON string to a file\n",
    "with open(file_path, 'w') as file:\n",
    "    json.dump(theme_ground_truth, file)\n",
    "\n",
    "# Print the file path\n",
    "print(f\"Ground truth saved to: {file_path}\")\n"
   ]
  }
 ],
 "metadata": {
  "kernelspec": {
   "display_name": "Python 3",
   "language": "python",
   "name": "python3"
  },
  "language_info": {
   "codemirror_mode": {
    "name": "ipython",
    "version": 3
   },
   "file_extension": ".py",
   "mimetype": "text/x-python",
   "name": "python",
   "nbconvert_exporter": "python",
   "pygments_lexer": "ipython3",
   "version": "3.11.8"
  }
 },
 "nbformat": 4,
 "nbformat_minor": 2
}
