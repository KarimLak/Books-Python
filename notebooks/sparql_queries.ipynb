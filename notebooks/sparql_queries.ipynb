{
 "cells": [
  {
   "cell_type": "code",
   "execution_count": 7,
   "metadata": {},
   "outputs": [
    {
     "name": "stdout",
     "output_type": "stream",
     "text": [
      "http://schema.org/Book001d366c-b08a-4f7a-b4bb-5af65876e930 Tabous et interdits http://www.example.org/pbs#Constellations 9782742769681\n",
      "http://schema.org/Book41123834 Tabous et interdits http://www.example.org/pbs#BNF 9782742769681\n",
      "http://schema.org/NOT16385111280024 Tabous et interdits http://www.example.org/pbs#BTLF 9782742769681\n"
     ]
    }
   ],
   "source": [
    "from SPARQLWrapper import SPARQLWrapper, JSON\n",
    "\n",
    "sparql = SPARQLWrapper(\"http://localhost:7200/repositories/test\") # replace \"test\" with your repository name\n",
    "sparql.setQuery(\"\"\"\n",
    "PREFIX ns1: <http://schema.org/>\n",
    "PREFIX pbs: <http://www.example.org/pbs#>\n",
    "select ?book ?name ?infoSource ?isbn where { \n",
    "\t?book a ns1:Book ;\n",
    "           ns1:isbn \"9782742769681\";\n",
    "           ns1:isbn ?isbn ;\n",
    "           pbs:infoSource ?infoSource;\n",
    "    \t\tns1:name ?name .\n",
    "} limit 100 \n",
    "\"\"\")\n",
    "sparql.setReturnFormat(JSON)\n",
    "results = sparql.query().convert()\n",
    "\n",
    "for result in results[\"results\"][\"bindings\"]:\n",
    "    print(result[\"book\"][\"value\"], result[\"name\"][\"value\"], result[\"infoSource\"][\"value\"], result[\"isbn\"][\"value\"])"
   ]
  }
 ],
 "metadata": {
  "kernelspec": {
   "display_name": "books-python-env",
   "language": "python",
   "name": "python3"
  },
  "language_info": {
   "codemirror_mode": {
    "name": "ipython",
    "version": 3
   },
   "file_extension": ".py",
   "mimetype": "text/x-python",
   "name": "python",
   "nbconvert_exporter": "python",
   "pygments_lexer": "ipython3",
   "version": "3.11.9"
  }
 },
 "nbformat": 4,
 "nbformat_minor": 2
}
