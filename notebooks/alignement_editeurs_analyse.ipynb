{
 "cells": [
  {
   "cell_type": "code",
   "execution_count": 4,
   "metadata": {},
   "outputs": [],
   "source": [
    "from rdflib import Graph\n",
    "from rdflib import RDF\n",
    "import sys\n",
    "sys.path.append('../')\n",
    "\n",
    "sys.path.append('../andre')\n",
    "import andre.utils as utils\n",
    "from andre.utils import schema as SCHEMA\n",
    "import collections"
   ]
  },
  {
   "cell_type": "markdown",
   "metadata": {},
   "source": [
    "# editor alignment BLTF/ BNF_Constellations"
   ]
  },
  {
   "cell_type": "code",
   "execution_count": 10,
   "metadata": {},
   "outputs": [
    {
     "name": "stdout",
     "output_type": "stream",
     "text": [
      "1022\n"
     ]
    },
    {
     "data": {
      "text/plain": [
       "2239"
      ]
     },
     "execution_count": 10,
     "metadata": {},
     "output_type": "execute_result"
    }
   ],
   "source": [
    "publishers_btlf_graph = Graph()\n",
    "publishers_btlf_graph.bind(\"schema\",\"http://schema.org/\", override=True, replace=True)\n",
    "publishers_btlf_graph.parse(\"../final_datasets/btlf_books/Graphes/grapheEditeurs_Imprint_andre.ttl\")\n",
    "print(len(list(publishers_btlf_graph.subjects(RDF.type, SCHEMA.Publisher))))\n",
    "\n",
    "\n",
    "publishers_bnf_constellations_graph = Graph()\n",
    "publishers_bnf_constellations_graph.bind(\"schema\",\"http://schema.org/\", override=True, replace=True)\n",
    "publishers_bnf_constellations_graph.parse(\"../final_datasets/publisher_BNF_Constellation_NoDuplicate.ttl\")\n",
    "len(list(publishers_bnf_constellations_graph.subjects(RDF.type, SCHEMA.Publisher)))"
   ]
  },
  {
   "cell_type": "code",
   "execution_count": 11,
   "metadata": {},
   "outputs": [],
   "source": [
    "import Levenshtein\n",
    "\n",
    "def find_top_x_similar_strings_levenshtein(string_list, target_string, top_x=5):\n",
    "    distances = []\n",
    "    for string in string_list:\n",
    "        distance = Levenshtein.distance(string, target_string)\n",
    "        if distance <= 8:\n",
    "            distances.append((string, distance))\n",
    "    distances.sort(key=lambda x: x[1])\n",
    "    if distances:\n",
    "         return distances[:top_x]\n",
    "    else: \n",
    "        return None"
   ]
  },
  {
   "cell_type": "code",
   "execution_count": 12,
   "metadata": {},
   "outputs": [],
   "source": [
    "publishers_bnf_constellations_dict = {}\n",
    "\n",
    "for publisher in publishers_bnf_constellations_graph.subjects(RDF.type, SCHEMA.Publisher):\n",
    "    raw_name = str(publishers_bnf_constellations_graph.value(publisher, SCHEMA.name))\n",
    "    preprocessed_name = utils.preprocess_publisher_name(raw_name)\n",
    "    \n",
    "    if preprocessed_name not in publishers_bnf_constellations_dict.keys(): # don't add doublons\n",
    "        # doublons[preprocessed_name]+= publisher\n",
    "        publishers_bnf_constellations_dict[preprocessed_name] = utils.Publisher(source=\"bnf_constellations\", \n",
    "                                                                        uri=publisher, \n",
    "                                                                        raw_name=raw_name, \n",
    "                                                                        preprocessed_name=preprocessed_name)\n",
    "    else:\n",
    "        print(\"duplicate found: check source file or eliminate\")"
   ]
  },
  {
   "cell_type": "code",
   "execution_count": 13,
   "metadata": {},
   "outputs": [
    {
     "data": {
      "text/plain": [
       "2044"
      ]
     },
     "execution_count": 13,
     "metadata": {},
     "output_type": "execute_result"
    }
   ],
   "source": [
    "len(publishers_btlf_graph)"
   ]
  },
  {
   "cell_type": "code",
   "execution_count": 31,
   "metadata": {},
   "outputs": [
    {
     "name": "stdout",
     "output_type": "stream",
     "text": [
      "Éditions du Vermillon\n",
      "Vermillon\n",
      "http://schema.org/Vermillon\n",
      "Éditions ADA inc.\n",
      "AdA\n",
      "http://schema.org/AdA\n",
      "Plume de carotte\n",
      "Plumecarotte\n",
      "http://schema.org/Plumecarotte\n",
      "Musées de la ville de Strasbourg\n",
      "lesMusesdelaVilledeStrasbourg\n",
      "http://schema.org/lesMusesdelaVilledeStrasbourg\n",
      "Critères\n",
      "Critresd\n",
      "http://schema.org/Critresd\n",
      "Quespire\n",
      "Quespired\n",
      "http://schema.org/Quespired\n",
      "Vengeur masqué\n",
      "Le_Vengeur_Masqué\n",
      "http://schema.org/Le_Vengeur_Masqué\n",
      "Eveil et découvertes\n",
      "Eveiletdcouverte\n",
      "http://schema.org/Eveiletdcouverte\n",
      "Tertium\n",
      "Tertiumd\n",
      "http://schema.org/Tertiumd\n",
      "Les éditions du soleil de minuit\n",
      "Soleil_De_Minuit\n",
      "http://schema.org/Soleil_De_Minuit\n",
      "Studio des Trois Becs\n",
      "StudiolesTroisBecs\n",
      "http://schema.org/StudiolesTroisBecs\n",
      "Les éditions du dernier havre\n",
      "Le_dernier_havre\n",
      "http://schema.org/Le_dernier_havre\n",
      "Éditions du Septentrion\n",
      "Septentrion\n",
      "http://schema.org/Septentrion\n",
      "Orca Book Publishing\n",
      "Orca\n",
      "http://schema.org/Orca\n",
      "LéR - Les éditeurs réunis\n",
      "Les_Éditeurs_Réunis\n",
      "http://schema.org/Les_Éditeurs_Réunis\n",
      "Presses de l'Université de Montréal\n",
      "Les_Presses_De_Luniversité_De_Montréal\n",
      "http://schema.org/Les_Presses_De_Luniversité_De_Montréal\n",
      "Éditions du Noroit\n",
      "Le_Noroît\n",
      "http://schema.org/Le_Noroît\n",
      "\n",
      "direct 708 / 1015\n",
      "manual 17 / 1015\n",
      "no match 297 / 1015\n",
      "levenstein 265 / 1015\n",
      "total counter 1022\n",
      "doublons counter 7\n",
      "total number of keys in dict 1015\n",
      "sum =  1005 == 1015\n"
     ]
    }
   ],
   "source": [
    "manual_matches = {\"Gulf Stream (Editions du)\": \"Gulf_Stream\", \n",
    "                  \"Magnard-Vuibert\": \"Magnard\",\n",
    "                  \"Musée du Louvre\": \"MuseduLouvred\",\n",
    "                 \"Soleil productions\": \"Soleilproduction\",\n",
    "                 \"Editions Ouest-France-Edilarge\": \"OuestFrance\",\n",
    "                 \"Plume de carotte\": \"Plumecarotte\",\n",
    "                 \"Editions Dadoclem\": \"Dadoclemd\",\n",
    "                 \"Jean-Claude Gawsewitch éditeur\": \"JCGawsewitch\",\n",
    "                 \"Editions de L'Archipel\": \"LArchipel\",\n",
    "                 \"Odile Jacob\": \"OJacob\",\n",
    "                 \"Editions du Centre Pompidou\": \"CentrePompidou\",\n",
    "                 \"Musées de la ville de Strasbourg\": \"lesMusesdelaVilledeStrasbourg\",\n",
    "                 \"Lancosme multimédia\": \"Lancosmed\",\n",
    "                 \"Critères\": \"Critresd\",\n",
    "                 \"Quespire\": \"Quespired\",\n",
    "                 \"Les éditions du Bonhomme vert\": \"leBonhommevert\",\n",
    "                 \"Vengeur masqué\": \"Le_Vengeur_Masqué\",\n",
    "                 \"Editions Ecole active\": \"Ecole_Active\",\n",
    "                 \"Editions [MiC_MaC]\": \"MicMac\",\n",
    "                 \"Eveil et découvertes\": \"Eveiletdcouverte\",\n",
    "                 \"Editions des Grandes personnes\": \"Les_Grandes_Personnes\",\n",
    "                 \"Editions-Diffusion Karthala\": \"Karthala\",\n",
    "                 \"Les éditions Carpentier\": \"DCarpentier\",\n",
    "                 \"Pascal Galodé éditeurs\": \"PGalod\",\n",
    "                 \"Prisma Media\": \"Prisma\",\n",
    "                 \"Art à la page\": \"lArtlapage\",\n",
    "                 \"CERCIL\": \"duCercil\",\n",
    "                 \"Les Editions de la Grande ourse\": \"La_Grande_Ourse\",\n",
    "                 \"Editions de La Différence\": \"La_Différence\",\n",
    "                 \"Tertium\": \"Tertiumd\",\n",
    "                 \"Editions de la Renarde rouge\": \"La_Renarde_Rouge\",\n",
    "                 \"Aniss éditions\": \"Anissd\",\n",
    "                 \"Editions du Rouergue\": \"Rouergue\",\n",
    "                 \"Les éditions du soleil de minuit\": \"Soleil_De_Minuit\",\n",
    "                 \"Editions des Arènes\": \"Les_Arènes\",\n",
    "                 \"Le Square éditeur\": \"leSquared\",\n",
    "                 \"Griffon bleu\": \"leGriffonbleu\",\n",
    "                 \"Les éditions du Kilowatt\": \"Kilowatt\",\n",
    "                 \"Ophelbe\": \"Ofelbe\",\n",
    "                 \"Editions Privat SAS\": \"Privat\",\n",
    "                 \"Losange\": \"duLosange\",\n",
    "                 \"Les Editions Sandawe\": \"Sandawecom\",\n",
    "                 \"Nouvelles éditions ivoiriennes\": \"NEINouvellesditionsIvoiriennes\",\n",
    "                 \"Studio des Trois Becs\": \"StudiolesTroisBecs\",\n",
    "                 \"Editions Imago\": \"AuzasditeursImago\",\n",
    "                 \"205 Corp\": \"205fr\",\n",
    "                 \"Librairie Téqui (Pierre)\": \"Téqui\",\n",
    "                 \"Editions de la Coopérative\": \"laCooprative\",\n",
    "                 \"Les Productions Somme toute\": \"Somme_toute\",\n",
    "                 \"Réseau Canopé\": \"Canopditions\",\n",
    "                 \"Editions Maelström\": \"maelstrmreEvolution\",\n",
    "                 \"Le Dilettante\": \"Le_dilletante\",\n",
    "                 \"Les Editions de Minuit\": \"Minuit\",\n",
    "                 \"Editions Jean-Paul Gisserot\": \"JPGisserot\",\n",
    "                 \"Les éditions du dernier havre\": \"Le_dernier_havre\",\n",
    "                 \"Éditions du Septentrion\": \"Septentrion\",\n",
    "                 \"Orca Book Publishing\": \"Orca\",\n",
    "                 \"LéR - Les éditeurs réunis\": \"Les_Éditeurs_Réunis\",\n",
    "                 \"Presses de l'Université de Montréal\": \"Les_Presses_De_Luniversité_De_Montréal\",\n",
    "                 \"Éditions du Noroit\": \"Le_Noroît\",\n",
    "                 \"Editions de Fallois\": \"Fallois\",\n",
    "                 \"6 pieds sous terre éditions\": \"Six_Pieds_Sous_Terre\",\n",
    "                 \"Editions du Triomphe\": \"Triomphe\",\n",
    "                 \"Éditions du Vermillon\": \"Vermillon\",\n",
    "                 \"Éditions ADA inc.\": \"AdA\",\n",
    "                 \"Homme sans nom (Editions de l')\": \"LHomme_Sans_Nom\",\n",
    "                 \"Editions des Mille saisons\": \"Mille_Saisons\",\n",
    "                 \"Vincze (Eva)\": \"Vincze\",\n",
    "                 \"Edizioni Corraini\": \"Corraini\",\n",
    "                 \"Editions Picquier (Philippe)\": \"PPicquier\"\n",
    "                 }\n",
    "\n",
    "direct_match_counter = 0\n",
    "manual_match_counter = 0\n",
    "levenstein_match_counter = 0\n",
    "no_match_counter = 0\n",
    "total_counter = 0\n",
    "\n",
    "btlf_publishers_dict = {}\n",
    "matches_dict = {}\n",
    "non_matches_dict = {}\n",
    "doublons_btlf = []\n",
    "for publisher in publishers_btlf_graph.subjects(RDF.type, SCHEMA.Publisher):\n",
    "    # print(publisher)\n",
    "    total_counter += 1\n",
    "    raw_name = str(publishers_btlf_graph.value(publisher, SCHEMA.name))\n",
    "    preprocessed_name = utils.preprocess_publisher_name(raw_name)\n",
    "\n",
    "    if preprocessed_name in btlf_publishers_dict.keys():\n",
    "        doublons_btlf.append(preprocessed_name)\n",
    "        \n",
    "    btlf_publishers_dict[preprocessed_name] = utils.Publisher(source=\"btlf\", \n",
    "                                                uri=publisher, \n",
    "                                                raw_name=raw_name, \n",
    "                                                preprocessed_name=preprocessed_name)\n",
    "\n",
    "    if preprocessed_name in publishers_bnf_constellations_dict.keys():\n",
    "        direct_match_counter +=1\n",
    "        # print(preprocessed_name)\n",
    "        matches_dict[preprocessed_name] = [btlf_publishers_dict[preprocessed_name], publishers_bnf_constellations_dict[preprocessed_name]]\n",
    "    elif raw_name in manual_matches.keys(): # don't change graph\n",
    "        # but: avoir uri du truc matché\n",
    "        manual_match_counter += 1\n",
    "        matched_uri = manual_matches[raw_name]\n",
    "        print(raw_name)\n",
    "        print(matched_uri)\n",
    "        print(SCHEMA[matched_uri])\n",
    "        # print(find_preprocessed_name_by_uri(SCHEMA[matched_uri]))\n",
    "    else:\n",
    "        no_match_counter += 1\n",
    "        matched_key = find_top_x_similar_strings_levenshtein(publishers_bnf_constellations_dict.keys(), preprocessed_name)\n",
    "        if matched_key:\n",
    "            levenstein_match_counter += 1\n",
    "            # print(\"\\\"\"+ raw_name+ \"\\\"\")\n",
    "            # for key in matched_key:\n",
    "            #     print(\"  \", publishers_bnf_constellations_dict[key[0]].uri.replace(\"http://schema.org/\", \" \"))\n",
    "        else:\n",
    "            non_matches_dict[preprocessed_name] = publisher\n",
    "            # no_match_counter += 1\n",
    "print()\n",
    "print(\"direct\", direct_match_counter, \"/\", len(btlf_publishers_dict.keys()))\n",
    "print(\"manual\", manual_match_counter, \"/\", len(btlf_publishers_dict.keys()))\n",
    "print(\"no match\", no_match_counter, \"/\", len(btlf_publishers_dict.keys()))\n",
    "print(\"levenstein\", levenstein_match_counter, \"/\", len(btlf_publishers_dict.keys()))\n",
    "print(\"total counter\", total_counter)\n",
    "print(\"doublons counter\", len(doublons_btlf))\n",
    "print(\"total number of keys in dict\", total_counter - len(doublons_btlf))\n",
    "print(\"sum = \", direct_match_counter  + no_match_counter, \"==\", len(btlf_publishers_dict.keys()))"
   ]
  },
  {
   "cell_type": "code",
   "execution_count": 32,
   "metadata": {},
   "outputs": [
    {
     "data": {
      "text/plain": [
       "['lesallusifs',\n",
       " 'les400coups',\n",
       " 'lemeac',\n",
       " 'arte',\n",
       " 'albinmicheljeunesse',\n",
       " 'nordsud',\n",
       " 'ventsdouest']"
      ]
     },
     "execution_count": 32,
     "metadata": {},
     "output_type": "execute_result"
    }
   ],
   "source": [
    "doublons_btlf"
   ]
  },
  {
   "cell_type": "code",
   "execution_count": null,
   "metadata": {},
   "outputs": [
    {
     "data": {
      "text/plain": [
       "32"
      ]
     },
     "execution_count": 11,
     "metadata": {},
     "output_type": "execute_result"
    }
   ],
   "source": [
    "len(non_matches_dict)"
   ]
  },
  {
   "cell_type": "code",
   "execution_count": null,
   "metadata": {},
   "outputs": [
    {
     "data": {
      "text/plain": [
       "{'canopecrdpdelacademiedeparis': rdflib.term.URIRef('http://schema.org/128'),\n",
       " 'bretagneenvironnement': rdflib.term.URIRef('http://schema.org/150'),\n",
       " 'maitrisedeshautsdeseine': rdflib.term.URIRef('http://schema.org/232'),\n",
       " 'sncfdirectiondelarecherchedepartementmarketingetdeveloppement': rdflib.term.URIRef('http://schema.org/287'),\n",
       " 'radiofranceinternationale': rdflib.term.URIRef('http://schema.org/298'),\n",
       " 'canopecrdpdelacademiedaixmarseille': rdflib.term.URIRef('http://schema.org/301'),\n",
       " 'associationculturellefranceamerique': rdflib.term.URIRef('http://schema.org/314'),\n",
       " 'galeriebarbier&mathon': rdflib.term.URIRef('http://schema.org/316'),\n",
       " 'museeduluxembourgdeparis': rdflib.term.URIRef('http://schema.org/334'),\n",
       " 'lememorialdecaen': rdflib.term.URIRef('http://schema.org/363'),\n",
       " 'chateaudeversailles': rdflib.term.URIRef('http://schema.org/395'),\n",
       " 'mondeglobalnouvelles': rdflib.term.URIRef('http://schema.org/400'),\n",
       " 'bibliothequelecturedeveloppement': rdflib.term.URIRef('http://schema.org/432'),\n",
       " 'atelierdebibliophiliepopulaire': rdflib.term.URIRef('http://schema.org/450'),\n",
       " 'institutinternationaldelamarionnette': rdflib.term.URIRef('http://schema.org/478'),\n",
       " 'canopecrdpdelacademiedereims': rdflib.term.URIRef('http://schema.org/512'),\n",
       " 'fondationlouisvuitton': rdflib.term.URIRef('http://schema.org/562'),\n",
       " 'museeduchateaudesducsdewurtemberg': rdflib.term.URIRef('http://schema.org/579'),\n",
       " 'citedelarchitectureetdupatrimoine': rdflib.term.URIRef('http://schema.org/626'),\n",
       " 'liguepourlaprotectiondesoiseaux': rdflib.term.URIRef('http://schema.org/670'),\n",
       " 'undimancheapresmidi': rdflib.term.URIRef('http://schema.org/748'),\n",
       " 'leslettresoccitanes': rdflib.term.URIRef('http://schema.org/753'),\n",
       " 'lasiathequemaisondeslanguesdumonde': rdflib.term.URIRef('http://schema.org/767'),\n",
       " 'institutnationaldhistoiredelart': rdflib.term.URIRef('http://schema.org/788'),\n",
       " 'canopecrdpdelacademiedecreteil': rdflib.term.URIRef('http://schema.org/8'),\n",
       " 'boursedecommercepinaultcollection': rdflib.term.URIRef('http://schema.org/800'),\n",
       " 'publicationsduquebec': rdflib.term.URIRef('http://schema.org/863'),\n",
       " 'canopecrdpdelacademiedebesancon': rdflib.term.URIRef('http://schema.org/893'),\n",
       " 'museerenemagritte': rdflib.term.URIRef('http://schema.org/912'),\n",
       " 'compagniedurefectoire': rdflib.term.URIRef('http://schema.org/92'),\n",
       " 'operanationaldeparis': rdflib.term.URIRef('http://schema.org/934'),\n",
       " 'beauchemincheneliereeducation': rdflib.term.URIRef('http://schema.org/947')}"
      ]
     },
     "execution_count": 12,
     "metadata": {},
     "output_type": "execute_result"
    }
   ],
   "source": [
    "non_matches_dict"
   ]
  }
 ],
 "metadata": {
  "kernelspec": {
   "display_name": "Python 3",
   "language": "python",
   "name": "python3"
  },
  "language_info": {
   "codemirror_mode": {
    "name": "ipython",
    "version": 3
   },
   "file_extension": ".py",
   "mimetype": "text/x-python",
   "name": "python",
   "nbconvert_exporter": "python",
   "pygments_lexer": "ipython3",
   "version": "3.11.6"
  }
 },
 "nbformat": 4,
 "nbformat_minor": 2
}
