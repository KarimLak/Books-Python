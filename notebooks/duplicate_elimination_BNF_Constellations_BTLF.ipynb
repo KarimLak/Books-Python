{
 "cells": [
  {
   "cell_type": "code",
   "execution_count": 2,
   "metadata": {},
   "outputs": [],
   "source": [
    "from rdflib import Graph, Namespace, Literal, URIRef\n",
    "from rdflib import RDF, RDFS, OWL, XSD\n",
    "import sys\n",
    "sys.path.append('../')\n",
    "\n",
    "sys.path.append('../andre')\n",
    "import andre.utils as utils\n",
    "from andre.utils import schema as SCHEMA\n",
    "import collections"
   ]
  },
  {
   "cell_type": "code",
   "execution_count": 3,
   "metadata": {},
   "outputs": [],
   "source": [
    "def create_duplicate_replacement(duplicates):\n",
    "    duplicate_counter = 0 \n",
    "    duplicate_replacements = {}\n",
    "    for key in duplicates:\n",
    "        duplicate_list = duplicates[key]\n",
    "        if len(duplicate_list) >= 2:\n",
    "            duplicate_counter += 1\n",
    "            print(\"\\\"\"+ key + \"\\\"\")\n",
    "            replacement = duplicate_list[0] # choosing 1st item of list because all the choices are equivalent\n",
    "            print(\"  \", duplicate_list[0].replace(\"http://schema.org/\", \" \"))\n",
    "            for i in range(1,len(duplicate_list)):\n",
    "                duplicate_replacements[duplicate_list[i]] = replacement\n",
    "                print(\"  \", duplicate_list[i].replace(\"http://schema.org/\", \" \"))\n",
    "    print(\"duplicate\", duplicate_counter)\n",
    "    return duplicate_replacements"
   ]
  },
  {
   "cell_type": "markdown",
   "metadata": {},
   "source": [
    "# duplicate elimination bnf constellations"
   ]
  },
  {
   "cell_type": "code",
   "execution_count": 4,
   "metadata": {},
   "outputs": [
    {
     "data": {
      "text/plain": [
       "2295"
      ]
     },
     "execution_count": 4,
     "metadata": {},
     "output_type": "execute_result"
    }
   ],
   "source": [
    "publishers_bnf_constellations_graph = Graph()\n",
    "publishers_bnf_constellations_graph.bind(\"schema\",\"http://schema.org/\", override=True, replace=True)\n",
    "publishers_bnf_constellations_graph.parse(\"../final_datasets/publishers.ttl\")\n",
    "len(list(publishers_bnf_constellations_graph.subjects(RDF.type, SCHEMA.Publisher)))"
   ]
  },
  {
   "cell_type": "code",
   "execution_count": 5,
   "metadata": {},
   "outputs": [
    {
     "name": "stdout",
     "output_type": "stream",
     "text": [
      "\"ankama\"\n",
      "    Ankama\n",
      "    Ankamadition\n",
      "\"bamboo\"\n",
      "    Bamboo\n",
      "    Bamboodition\n",
      "\"cadex\"\n",
      "    Cadex\n",
      "    Cadexditions\n",
      "\"delcourt\"\n",
      "    Delcourt\n",
      "    GroupeDelcourt\n",
      "\"denoel\"\n",
      "    Denoël\n",
      "    Denöel\n",
      "\"ekare\"\n",
      "    Ekaré\n",
      "    Ékaré\n",
      "\"fleurus\"\n",
      "    Fleurus\n",
      "    FleurusEditions\n",
      "\"grund\"\n",
      "    Gründ\n",
      "    Grund\n",
      "    LibrairieGrnd\n",
      "\"hugo\"\n",
      "    Hugo\n",
      "    HugoetCie\n",
      "\"lagapante\"\n",
      "    LAgapante\n",
      "    lAgapanteCie\n",
      "\"larche\"\n",
      "    LArche\n",
      "    LArcheEditeur\n",
      "\"lemeac\"\n",
      "    Leméac\n",
      "    Lmac\n",
      "\"memo\"\n",
      "    MeMo\n",
      "    MéMo\n",
      "\"palette\"\n",
      "    Palette\n",
      "    palette\n",
      "\"pika\"\n",
      "    Pika\n",
      "    Pikadition\n",
      "\"xyz\"\n",
      "    XYZ_Éditeur\n",
      "    XYZ\n",
      "\"zebulo\"\n",
      "    Zébulo\n",
      "    Zebuloditions\n",
      "\"etre\"\n",
      "    Être_Éditions\n",
      "    tre\n",
      "    Etre\n",
      "\"lansman\"\n",
      "    Lansman\n",
      "    Lansmanditeur\n",
      "\"samir\"\n",
      "    Samir\n",
      "    Samr\n",
      "\"flammarion\"\n",
      "    Flammarion\n",
      "    Flammarionditeur\n",
      "\"duchene\"\n",
      "    Éditions_du_Chêne\n",
      "    duChne\n",
      "\"123soleil\"\n",
      "    Éditions_123_Soleil\n",
      "    1_2_3_Soleil\n",
      "\"lelievredemars\"\n",
      "    Le_Lièvre_de_Mars\n",
      "    Le_lièvre_de_Mars\n",
      "\"petitsgenies\"\n",
      "    Petits_Génies\n",
      "    Petits_génies\n",
      "\"dupepin\"\n",
      "    Éditions_du_Pépin\n",
      "    duPpin\n",
      "\"goelette\"\n",
      "    Éditions_Goélette\n",
      "    Golette\n",
      "\"delachauxetniestle\"\n",
      "    Delachaux_et_Niestlé\n",
      "    Delachaux_et_Niestle\n",
      "\"motus\"\n",
      "    Éditions_Motus\n",
      "    Motus\n",
      "\"quatrefleuves\"\n",
      "    Quatre_Fleuves\n",
      "    Éditions_Quatre_Fleuves\n",
      "\"lapoulequipond\"\n",
      "    La_Poule_qui_pond\n",
      "    La_poule_qui_pond\n",
      "\"disneyhyperionbooks\"\n",
      "    Disney_Hyperion_Books\n",
      "    DisneyHyperion_Books\n",
      "\"ruedelechiquier\"\n",
      "    Rue_de_léchiquier\n",
      "    Rue_de_lÉchiquier\n",
      "\"northsouthbooks\"\n",
      "    North_South_Books\n",
      "    NorthSouth_Books\n",
      "\"format\"\n",
      "    Format\n",
      "    Éditions_Format\n",
      "\"grenouille\"\n",
      "    Grenouille\n",
      "    Grenouilleditions\n",
      "\"1018\"\n",
      "    Éditions_1018\n",
      "    1018\n",
      "\"eyrolles\"\n",
      "    Éditions_Eyrolles\n",
      "    Eyrolles\n",
      "\"ceres\"\n",
      "    Crs\n",
      "    crsditions\n",
      "\"daralsaqi\"\n",
      "    DaralSaqi\n",
      "    DralSq\n",
      "\"tsipika\"\n",
      "    Tsipika\n",
      "    tsipikaedition\n",
      "\"ndze\"\n",
      "    NDZE\n",
      "    Ndz\n",
      "\"daraladab\"\n",
      "    Draldb\n",
      "    DaralAdab\n",
      "\"duberyl\"\n",
      "    editionsdubryl\n",
      "    dubryl\n",
      "\"daralhadaiq\"\n",
      "    DaralHadaiq\n",
      "    daralhadaiq\n",
      "    DralHadiq\n",
      "\"koine\"\n",
      "    Konditions\n",
      "    Koin\n",
      "\"micmac\"\n",
      "    MicMac\n",
      "    MicMacditions\n",
      "\"blackbox\"\n",
      "    blackboxditions\n",
      "    BlackBox\n",
      "\"edicef\"\n",
      "    EDICEF\n",
      "    dicef\n",
      "\"h2t\"\n",
      "    H2T\n",
      "    H2Tditions\n",
      "\"pemf\"\n",
      "    pemf\n",
      "    PEMF\n",
      "\"bartholdi\"\n",
      "    Bartholdiditions\n",
      "    Bartholdi\n",
      "\"bld\"\n",
      "    bldeditions\n",
      "    BLD\n",
      "duplicate 53\n"
     ]
    }
   ],
   "source": [
    "publishers_bnf_constellations_dict = {}\n",
    "duplicates_bnf_constellations = collections.defaultdict(lambda: [])\n",
    "for publisher in publishers_bnf_constellations_graph.subjects(RDF.type, SCHEMA.Publisher):\n",
    "    raw_name = str(publishers_bnf_constellations_graph.value(publisher, SCHEMA.name))\n",
    "    preprocessed_name = utils.preprocess_publisher_name(raw_name)\n",
    "\n",
    "    duplicates_bnf_constellations[preprocessed_name].append(publisher)\n",
    "    \n",
    "duplicates_replacements_bnf_constellations = create_duplicate_replacement(duplicates_bnf_constellations)"
   ]
  },
  {
   "cell_type": "code",
   "execution_count": 6,
   "metadata": {},
   "outputs": [
    {
     "data": {
      "text/plain": [
       "{rdflib.term.URIRef('http://schema.org/Ankamadition'): rdflib.term.URIRef('http://schema.org/Ankama'),\n",
       " rdflib.term.URIRef('http://schema.org/Bamboodition'): rdflib.term.URIRef('http://schema.org/Bamboo'),\n",
       " rdflib.term.URIRef('http://schema.org/Cadexditions'): rdflib.term.URIRef('http://schema.org/Cadex'),\n",
       " rdflib.term.URIRef('http://schema.org/GroupeDelcourt'): rdflib.term.URIRef('http://schema.org/Delcourt'),\n",
       " rdflib.term.URIRef('http://schema.org/Denöel'): rdflib.term.URIRef('http://schema.org/Denoël'),\n",
       " rdflib.term.URIRef('http://schema.org/Ékaré'): rdflib.term.URIRef('http://schema.org/Ekaré'),\n",
       " rdflib.term.URIRef('http://schema.org/FleurusEditions'): rdflib.term.URIRef('http://schema.org/Fleurus'),\n",
       " rdflib.term.URIRef('http://schema.org/Grund'): rdflib.term.URIRef('http://schema.org/Gründ'),\n",
       " rdflib.term.URIRef('http://schema.org/LibrairieGrnd'): rdflib.term.URIRef('http://schema.org/Gründ'),\n",
       " rdflib.term.URIRef('http://schema.org/HugoetCie'): rdflib.term.URIRef('http://schema.org/Hugo'),\n",
       " rdflib.term.URIRef('http://schema.org/lAgapanteCie'): rdflib.term.URIRef('http://schema.org/LAgapante'),\n",
       " rdflib.term.URIRef('http://schema.org/LArcheEditeur'): rdflib.term.URIRef('http://schema.org/LArche'),\n",
       " rdflib.term.URIRef('http://schema.org/Lmac'): rdflib.term.URIRef('http://schema.org/Leméac'),\n",
       " rdflib.term.URIRef('http://schema.org/MéMo'): rdflib.term.URIRef('http://schema.org/MeMo'),\n",
       " rdflib.term.URIRef('http://schema.org/palette'): rdflib.term.URIRef('http://schema.org/Palette'),\n",
       " rdflib.term.URIRef('http://schema.org/Pikadition'): rdflib.term.URIRef('http://schema.org/Pika'),\n",
       " rdflib.term.URIRef('http://schema.org/XYZ'): rdflib.term.URIRef('http://schema.org/XYZ_Éditeur'),\n",
       " rdflib.term.URIRef('http://schema.org/Zebuloditions'): rdflib.term.URIRef('http://schema.org/Zébulo'),\n",
       " rdflib.term.URIRef('http://schema.org/tre'): rdflib.term.URIRef('http://schema.org/Être_Éditions'),\n",
       " rdflib.term.URIRef('http://schema.org/Etre'): rdflib.term.URIRef('http://schema.org/Être_Éditions'),\n",
       " rdflib.term.URIRef('http://schema.org/Lansmanditeur'): rdflib.term.URIRef('http://schema.org/Lansman'),\n",
       " rdflib.term.URIRef('http://schema.org/Samr'): rdflib.term.URIRef('http://schema.org/Samir'),\n",
       " rdflib.term.URIRef('http://schema.org/Flammarionditeur'): rdflib.term.URIRef('http://schema.org/Flammarion'),\n",
       " rdflib.term.URIRef('http://schema.org/duChne'): rdflib.term.URIRef('http://schema.org/Éditions_du_Chêne'),\n",
       " rdflib.term.URIRef('http://schema.org/1_2_3_Soleil'): rdflib.term.URIRef('http://schema.org/Éditions_123_Soleil'),\n",
       " rdflib.term.URIRef('http://schema.org/Le_lièvre_de_Mars'): rdflib.term.URIRef('http://schema.org/Le_Lièvre_de_Mars'),\n",
       " rdflib.term.URIRef('http://schema.org/Petits_génies'): rdflib.term.URIRef('http://schema.org/Petits_Génies'),\n",
       " rdflib.term.URIRef('http://schema.org/duPpin'): rdflib.term.URIRef('http://schema.org/Éditions_du_Pépin'),\n",
       " rdflib.term.URIRef('http://schema.org/Golette'): rdflib.term.URIRef('http://schema.org/Éditions_Goélette'),\n",
       " rdflib.term.URIRef('http://schema.org/Delachaux_et_Niestle'): rdflib.term.URIRef('http://schema.org/Delachaux_et_Niestlé'),\n",
       " rdflib.term.URIRef('http://schema.org/Motus'): rdflib.term.URIRef('http://schema.org/Éditions_Motus'),\n",
       " rdflib.term.URIRef('http://schema.org/Éditions_Quatre_Fleuves'): rdflib.term.URIRef('http://schema.org/Quatre_Fleuves'),\n",
       " rdflib.term.URIRef('http://schema.org/La_poule_qui_pond'): rdflib.term.URIRef('http://schema.org/La_Poule_qui_pond'),\n",
       " rdflib.term.URIRef('http://schema.org/DisneyHyperion_Books'): rdflib.term.URIRef('http://schema.org/Disney_Hyperion_Books'),\n",
       " rdflib.term.URIRef('http://schema.org/Rue_de_lÉchiquier'): rdflib.term.URIRef('http://schema.org/Rue_de_léchiquier'),\n",
       " rdflib.term.URIRef('http://schema.org/NorthSouth_Books'): rdflib.term.URIRef('http://schema.org/North_South_Books'),\n",
       " rdflib.term.URIRef('http://schema.org/Éditions_Format'): rdflib.term.URIRef('http://schema.org/Format'),\n",
       " rdflib.term.URIRef('http://schema.org/Grenouilleditions'): rdflib.term.URIRef('http://schema.org/Grenouille'),\n",
       " rdflib.term.URIRef('http://schema.org/1018'): rdflib.term.URIRef('http://schema.org/Éditions_1018'),\n",
       " rdflib.term.URIRef('http://schema.org/Eyrolles'): rdflib.term.URIRef('http://schema.org/Éditions_Eyrolles'),\n",
       " rdflib.term.URIRef('http://schema.org/crsditions'): rdflib.term.URIRef('http://schema.org/Crs'),\n",
       " rdflib.term.URIRef('http://schema.org/DralSq'): rdflib.term.URIRef('http://schema.org/DaralSaqi'),\n",
       " rdflib.term.URIRef('http://schema.org/tsipikaedition'): rdflib.term.URIRef('http://schema.org/Tsipika'),\n",
       " rdflib.term.URIRef('http://schema.org/Ndz'): rdflib.term.URIRef('http://schema.org/NDZE'),\n",
       " rdflib.term.URIRef('http://schema.org/DaralAdab'): rdflib.term.URIRef('http://schema.org/Draldb'),\n",
       " rdflib.term.URIRef('http://schema.org/dubryl'): rdflib.term.URIRef('http://schema.org/editionsdubryl'),\n",
       " rdflib.term.URIRef('http://schema.org/daralhadaiq'): rdflib.term.URIRef('http://schema.org/DaralHadaiq'),\n",
       " rdflib.term.URIRef('http://schema.org/DralHadiq'): rdflib.term.URIRef('http://schema.org/DaralHadaiq'),\n",
       " rdflib.term.URIRef('http://schema.org/Koin'): rdflib.term.URIRef('http://schema.org/Konditions'),\n",
       " rdflib.term.URIRef('http://schema.org/MicMacditions'): rdflib.term.URIRef('http://schema.org/MicMac'),\n",
       " rdflib.term.URIRef('http://schema.org/BlackBox'): rdflib.term.URIRef('http://schema.org/blackboxditions'),\n",
       " rdflib.term.URIRef('http://schema.org/dicef'): rdflib.term.URIRef('http://schema.org/EDICEF'),\n",
       " rdflib.term.URIRef('http://schema.org/H2Tditions'): rdflib.term.URIRef('http://schema.org/H2T'),\n",
       " rdflib.term.URIRef('http://schema.org/PEMF'): rdflib.term.URIRef('http://schema.org/pemf'),\n",
       " rdflib.term.URIRef('http://schema.org/Bartholdi'): rdflib.term.URIRef('http://schema.org/Bartholdiditions'),\n",
       " rdflib.term.URIRef('http://schema.org/BLD'): rdflib.term.URIRef('http://schema.org/bldeditions')}"
      ]
     },
     "execution_count": 6,
     "metadata": {},
     "output_type": "execute_result"
    }
   ],
   "source": [
    "duplicates_replacements_bnf_constellations"
   ]
  },
  {
   "cell_type": "code",
   "execution_count": 7,
   "metadata": {},
   "outputs": [
    {
     "name": "stderr",
     "output_type": "stream",
     "text": [
      "Failed to convert Literal lexical form to value. Datatype=http://www.w3.org/2001/XMLSchema#date, Converter=<function parse_date at 0x000002653D1FBEC0>\n",
      "Traceback (most recent call last):\n",
      "  File \"C:\\Users\\dre\\AppData\\Local\\Packages\\PythonSoftwareFoundation.Python.3.11_qbz5n2kfra8p0\\LocalCache\\local-packages\\Python311\\site-packages\\rdflib\\term.py\", line 2084, in _castLexicalToPython\n",
      "    return conv_func(lexical)  # type: ignore[arg-type]\n",
      "           ^^^^^^^^^^^^^^^^^^\n",
      "  File \"C:\\Users\\dre\\AppData\\Local\\Packages\\PythonSoftwareFoundation.Python.3.11_qbz5n2kfra8p0\\LocalCache\\local-packages\\Python311\\site-packages\\isodate\\isodates.py\", line 203, in parse_date\n",
      "    raise ISO8601Error('Unrecognised ISO 8601 date format: %r' % datestring)\n",
      "isodate.isoerror.ISO8601Error: Unrecognised ISO 8601 date format: 'Port- d-es'\n",
      "Failed to convert Literal lexical form to value. Datatype=http://www.w3.org/2001/XMLSchema#date, Converter=<function parse_date at 0x000002653D1FBEC0>\n",
      "Traceback (most recent call last):\n",
      "  File \"C:\\Users\\dre\\AppData\\Local\\Packages\\PythonSoftwareFoundation.Python.3.11_qbz5n2kfra8p0\\LocalCache\\local-packages\\Python311\\site-packages\\rdflib\\term.py\", line 2084, in _castLexicalToPython\n",
      "    return conv_func(lexical)  # type: ignore[arg-type]\n",
      "           ^^^^^^^^^^^^^^^^^^\n",
      "  File \"C:\\Users\\dre\\AppData\\Local\\Packages\\PythonSoftwareFoundation.Python.3.11_qbz5n2kfra8p0\\LocalCache\\local-packages\\Python311\\site-packages\\isodate\\isodates.py\", line 203, in parse_date\n",
      "    raise ISO8601Error('Unrecognised ISO 8601 date format: %r' % datestring)\n",
      "isodate.isoerror.ISO8601Error: Unrecognised ISO 8601 date format: 'harc-el-eu'\n"
     ]
    },
    {
     "data": {
      "text/plain": [
       "<Graph identifier=Naab20cba8b63463e9493ebc5aec2ad5b (<class 'rdflib.graph.Graph'>)>"
      ]
     },
     "execution_count": 7,
     "metadata": {},
     "output_type": "execute_result"
    }
   ],
   "source": [
    "graph_bnf = Graph()\n",
    "graph_bnf.parse(\"final_datasets/bnf_auteursURI.ttl\", format=\"turtle\")"
   ]
  },
  {
   "cell_type": "code",
   "execution_count": 8,
   "metadata": {},
   "outputs": [
    {
     "data": {
      "text/plain": [
       "<Graph identifier=Nb83cd44e38f34ac7ab2764b4b19c08da (<class 'rdflib.graph.Graph'>)>"
      ]
     },
     "execution_count": 8,
     "metadata": {},
     "output_type": "execute_result"
    }
   ],
   "source": [
    "graph_constellations = Graph()\n",
    "graph_constellations.parse(\"final_datasets/constellations_auteursURI.ttl\", format=\"turtle\")"
   ]
  },
  {
   "cell_type": "code",
   "execution_count": 9,
   "metadata": {},
   "outputs": [
    {
     "data": {
      "text/plain": [
       "56"
      ]
     },
     "execution_count": 9,
     "metadata": {},
     "output_type": "execute_result"
    }
   ],
   "source": [
    "len(duplicates_replacements_bnf_constellations)"
   ]
  },
  {
   "cell_type": "code",
   "execution_count": 10,
   "metadata": {},
   "outputs": [],
   "source": [
    "for duplicate_publisher in duplicates_replacements_bnf_constellations:\n",
    "\n",
    "    replacement_publisher = duplicates_replacements_bnf_constellations[duplicate_publisher]\n",
    "\n",
    "    for publisher in publishers_bnf_constellations_graph.subjects(RDF.type, SCHEMA.Publisher):\n",
    "        if publisher == duplicate_publisher:\n",
    "            publishers_bnf_constellations_graph.remove((publisher, SCHEMA.name, None)) # remove attributes before reference so reference doesn't become orphan in graph\n",
    "            publishers_bnf_constellations_graph.remove((publisher, RDF.type, None))\n",
    "            # print(publisher)\n",
    "\n",
    "    for bnf_book in graph_bnf.subjects(RDF.type, utils.schema.Book):\n",
    "        book_data = utils.extract_data_bnf(graph_bnf, bnf_book)\n",
    "        book_publisher = book_data.publisher\n",
    "        if book_publisher == str(duplicate_publisher):\n",
    "            graph_bnf.remove((bnf_book, SCHEMA.publisher, None))\n",
    "            graph_bnf.add((bnf_book, SCHEMA.publisher, replacement_publisher))\n",
    "\n",
    "    for constellations_book in graph_constellations.subjects(RDF.type, utils.schema.Book):\n",
    "        book_data = utils.extract_data_bnf(graph_constellations, constellations_book)\n",
    "        book_publisher = book_data.publisher   \n",
    "        if book_publisher == str(duplicate_publisher):\n",
    "            # print(book_publisher)\n",
    "            graph_constellations.remove((constellations_book, SCHEMA.publisher, None))\n",
    "            graph_constellations.add((constellations_book, SCHEMA.publisher, replacement_publisher))"
   ]
  },
  {
   "cell_type": "code",
   "execution_count": 11,
   "metadata": {},
   "outputs": [],
   "source": [
    "fichier = open(\"../final_datasets/bnf_NoDuplicatePublisher.ttl\",\"wb\")\n",
    "graph_bnf.serialize(fichier) \n",
    "fichier.close()"
   ]
  },
  {
   "cell_type": "code",
   "execution_count": 12,
   "metadata": {},
   "outputs": [],
   "source": [
    "fichier = open(\"../final_datasets/constellations_NoDuplicatePublisher.ttl\",\"wb\")\n",
    "graph_constellations.serialize(fichier) \n",
    "fichier.close()"
   ]
  },
  {
   "cell_type": "code",
   "execution_count": 13,
   "metadata": {},
   "outputs": [],
   "source": [
    "fichier = open(\"../final_datasets/publisher_BNF_Constellation_NoDuplicate.ttl\",\"wb\")\n",
    "publishers_bnf_constellations_graph.serialize(fichier) \n",
    "fichier.close()"
   ]
  },
  {
   "cell_type": "markdown",
   "metadata": {},
   "source": [
    "# duplicate ANALYSIS btlf publishers (not eliminated because only 7 duplicate over 1000)"
   ]
  },
  {
   "cell_type": "code",
   "execution_count": 14,
   "metadata": {},
   "outputs": [
    {
     "data": {
      "text/plain": [
       "2044"
      ]
     },
     "execution_count": 14,
     "metadata": {},
     "output_type": "execute_result"
    }
   ],
   "source": [
    "publishers_btlf_graph = Graph()\n",
    "publishers_btlf_graph.bind(\"schema\",\"http://schema.org/\", override=True, replace=True)\n",
    "publishers_btlf_graph.parse(\"../final_datasets/btlf_books/Graphes/grapheEditeurs_Imprint_andre.ttl\")\n",
    "len(list(publishers_btlf_graph))"
   ]
  },
  {
   "cell_type": "code",
   "execution_count": 15,
   "metadata": {},
   "outputs": [
    {
     "data": {
      "text/plain": [
       "<Graph identifier=Nfb6f540d3fe44a15bf9b924d4141a6ea (<class 'rdflib.graph.Graph'>)>"
      ]
     },
     "execution_count": 15,
     "metadata": {},
     "output_type": "execute_result"
    }
   ],
   "source": [
    "book_btlf_graph = Graph()\n",
    "book_btlf_graph.bind(\"schema\",\"http://schema.org/\", override=True, replace=True)\n",
    "book_btlf_graph.parse(\"final_datasets/btlf_books/Graphes/grapheLivres_BTLF.ttl\", format=\"turtle\")"
   ]
  },
  {
   "cell_type": "code",
   "execution_count": 16,
   "metadata": {},
   "outputs": [
    {
     "name": "stdout",
     "output_type": "stream",
     "text": [
      "\"lesallusifs\"\n",
      "    Publisher1000\n",
      "    Publisher224\n",
      "\"lemeac\"\n",
      "    Publisher107\n",
      "    Publisher470\n",
      "\"nordsud\"\n",
      "    Publisher131\n",
      "    Publisher899\n",
      "\"les400coups\"\n",
      "    Publisher184\n",
      "    Publisher239\n",
      "\"arte\"\n",
      "    Publisher235\n",
      "    Publisher766\n",
      "\"ventsdouest\"\n",
      "    Publisher27\n",
      "    Publisher928\n",
      "\"albinmicheljeunesse\"\n",
      "    Publisher698\n",
      "    Publisher77\n",
      "duplicate 7\n"
     ]
    },
    {
     "data": {
      "text/plain": [
       "{rdflib.term.URIRef('http://schema.org/Publisher224'): rdflib.term.URIRef('http://schema.org/Publisher1000'),\n",
       " rdflib.term.URIRef('http://schema.org/Publisher470'): rdflib.term.URIRef('http://schema.org/Publisher107'),\n",
       " rdflib.term.URIRef('http://schema.org/Publisher899'): rdflib.term.URIRef('http://schema.org/Publisher131'),\n",
       " rdflib.term.URIRef('http://schema.org/Publisher239'): rdflib.term.URIRef('http://schema.org/Publisher184'),\n",
       " rdflib.term.URIRef('http://schema.org/Publisher766'): rdflib.term.URIRef('http://schema.org/Publisher235'),\n",
       " rdflib.term.URIRef('http://schema.org/Publisher928'): rdflib.term.URIRef('http://schema.org/Publisher27'),\n",
       " rdflib.term.URIRef('http://schema.org/Publisher77'): rdflib.term.URIRef('http://schema.org/Publisher698')}"
      ]
     },
     "execution_count": 16,
     "metadata": {},
     "output_type": "execute_result"
    }
   ],
   "source": [
    "publishers_btlf_dict = {}\n",
    "duplicates_btlf = collections.defaultdict(lambda: [])\n",
    "for publisher in publishers_btlf_graph.subjects(RDF.type, SCHEMA.Publisher):\n",
    "    raw_name = str(publishers_btlf_graph.value(publisher, SCHEMA.name))\n",
    "    preprocessed_name = utils.preprocess_publisher_name(raw_name)\n",
    "\n",
    "    duplicates_btlf[preprocessed_name].append(publisher)\n",
    "    \n",
    "duplicates_replacements_btlf = create_duplicate_replacement(duplicates_btlf)\n",
    "duplicates_replacements_btlf"
   ]
  },
  {
   "cell_type": "code",
   "execution_count": 17,
   "metadata": {},
   "outputs": [],
   "source": [
    "for duplicate_publisher in duplicates_replacements_btlf:\n",
    "\n",
    "    replacement_publisher = duplicates_replacements_btlf[duplicate_publisher]\n",
    "\n",
    "    for publisher in publishers_btlf_graph.subjects(RDF.type, SCHEMA.Publisher):\n",
    "        if publisher == duplicate_publisher:\n",
    "            publishers_btlf_graph.remove((publisher, SCHEMA.name, None)) # remove attributes before reference so reference doesn't become orphan in graph\n",
    "            publishers_btlf_graph.remove((publisher, RDF.type, None))\n",
    "            # print(publisher)\n",
    "\n",
    "    for btlf_book in book_btlf_graph.subjects(RDF.type, utils.schema.Book):\n",
    "        book_data = utils.extract_data_btlf(book_btlf_graph, btlf_book)\n",
    "        book_publisher = book_data.publisher\n",
    "        if book_publisher == str(duplicate_publisher):\n",
    "            book_btlf_graph.remove((btlf_book, SCHEMA.publisher, None))\n",
    "            book_btlf_graph.add((btlf_book, SCHEMA.publisher, replacement_publisher))"
   ]
  },
  {
   "cell_type": "code",
   "execution_count": 18,
   "metadata": {},
   "outputs": [],
   "source": [
    "fichier = open(\"../final_datasets/books_btlf_NoDuplicatePublisher.ttl\",\"wb\")\n",
    "book_btlf_graph.serialize(fichier) \n",
    "fichier.close()"
   ]
  },
  {
   "cell_type": "code",
   "execution_count": 19,
   "metadata": {},
   "outputs": [],
   "source": [
    "fichier = open(\"../final_datasets/publishers_BTLF_NoDuplicates.ttl\",\"wb\")\n",
    "publishers_btlf_graph.serialize(fichier) \n",
    "fichier.close()"
   ]
  }
 ],
 "metadata": {
  "kernelspec": {
   "display_name": "Python 3",
   "language": "python",
   "name": "python3"
  },
  "language_info": {
   "codemirror_mode": {
    "name": "ipython",
    "version": 3
   },
   "file_extension": ".py",
   "mimetype": "text/x-python",
   "name": "python",
   "nbconvert_exporter": "python",
   "pygments_lexer": "ipython3",
   "version": "3.11.6"
  }
 },
 "nbformat": 4,
 "nbformat_minor": 2
}
