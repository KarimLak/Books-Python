{
 "cells": [
  {
   "cell_type": "code",
   "execution_count": 1,
   "metadata": {},
   "outputs": [],
   "source": [
    "from rdflib import Graph, Namespace, Literal, URIRef\n",
    "from rdflib import RDF, RDFS, OWL, XSD\n",
    "import sys\n",
    "sys.path.append('../')\n",
    "\n",
    "sys.path.append('../andre')\n",
    "import andre.utils as utils\n",
    "from andre.utils import SCHEMA\n",
    "import collections"
   ]
  },
  {
   "cell_type": "code",
   "execution_count": 11,
   "metadata": {},
   "outputs": [
    {
     "data": {
      "text/plain": [
       "1486"
      ]
     },
     "execution_count": 11,
     "metadata": {},
     "output_type": "execute_result"
    }
   ],
   "source": [
    "publishers_btlf = Graph()\n",
    "publishers_btlf.bind(\"schema\",\"http://schema.org/\", override=True, replace=True)\n",
    "publishers_btlf.parse(\"../final_datasets/btlf_books/Graphes/grapheEditeurs_BTLF.ttl\")\n",
    "len(list(publishers_btlf))"
   ]
  },
  {
   "cell_type": "code",
   "execution_count": 19,
   "metadata": {},
   "outputs": [
    {
     "data": {
      "text/plain": [
       "(rdflib.term.URIRef('http://schema.org/publisher690'),\n",
       " rdflib.term.URIRef('http://www.w3.org/1999/02/22-rdf-syntax-ns#type'),\n",
       " rdflib.term.URIRef('http://schema.org/Publisher'))"
      ]
     },
     "execution_count": 19,
     "metadata": {},
     "output_type": "execute_result"
    }
   ],
   "source": [
    "next(iter(publishers_btlf))"
   ]
  },
  {
   "cell_type": "code",
   "execution_count": 7,
   "metadata": {},
   "outputs": [
    {
     "data": {
      "text/plain": [
       "4690"
      ]
     },
     "execution_count": 7,
     "metadata": {},
     "output_type": "execute_result"
    }
   ],
   "source": [
    "publishers_bnf_constellations = Graph()\n",
    "publishers_bnf_constellations.bind(\"schema\",\"http://schema.org/\", override=True, replace=True)\n",
    "publishers_bnf_constellations.parse(\"../final_datasets/publishers.ttl\")\n",
    "len(list(publishers_bnf_constellations))"
   ]
  },
  {
   "cell_type": "code",
   "execution_count": 4,
   "metadata": {},
   "outputs": [
    {
     "data": {
      "text/plain": [
       "2295"
      ]
     },
     "execution_count": 4,
     "metadata": {},
     "output_type": "execute_result"
    }
   ],
   "source": [
    "editeurs_dict = {}\n",
    "for publisher in publishers_bnf_constellations.subjects(RDF.type, SCHEMA.Publisher):\n",
    "    name = str(publishers_bnf_constellations.value(publisher, SCHEMA.name))\n",
    "    if name in editeurs_dict.keys():\n",
    "        print(\"doublons\")\n",
    "    editeurs_dict[name] = publisher\n",
    "\n",
    "len(editeurs_dict)"
   ]
  },
  {
   "cell_type": "code",
   "execution_count": 22,
   "metadata": {},
   "outputs": [
    {
     "data": {
      "text/plain": [
       "144"
      ]
     },
     "execution_count": 22,
     "metadata": {},
     "output_type": "execute_result"
    }
   ],
   "source": [
    "match_counter = 0\n",
    "for publisher in publishers_btlf.subjects(RDF.type, SCHEMA.Publisher):\n",
    "    name = str(publishers_btlf.value(publisher, SCHEMA.name))\n",
    "    if name in editeurs_dict.keys():\n",
    "        match_counter +=1\n",
    "\n",
    "match_counter"
   ]
  }
 ],
 "metadata": {
  "kernelspec": {
   "display_name": "Python 3",
   "language": "python",
   "name": "python3"
  },
  "language_info": {
   "codemirror_mode": {
    "name": "ipython",
    "version": 3
   },
   "file_extension": ".py",
   "mimetype": "text/x-python",
   "name": "python",
   "nbconvert_exporter": "python",
   "pygments_lexer": "ipython3",
   "version": "3.11.6"
  }
 },
 "nbformat": 4,
 "nbformat_minor": 2
}
