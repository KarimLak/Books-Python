{
 "cells": [
  {
   "cell_type": "code",
   "execution_count": 8,
   "metadata": {},
   "outputs": [],
   "source": [
    "from rdflib import Graph\n",
    "from rdflib import RDF\n",
    "import sys\n",
    "from pathlib import Path\n",
    "sys.path.append('../')\n",
    "\n",
    "sys.path.append('../andre')\n",
    "import andre.utils as utils\n",
    "from andre.utils import schema as SCHEMA\n",
    "import collections\n",
    "import isbnlib\n",
    "import itertools\n",
    "\n",
    "\n",
    "data_path = Path(\"final_datasets/knowledge_base\")"
   ]
  },
  {
   "cell_type": "code",
   "execution_count": 9,
   "metadata": {},
   "outputs": [],
   "source": [
    "def print_number_of_isbns_per_book_count(isbn_array):\n",
    "    lengths = [len(element) for element in isbn_array]\n",
    "    length_counts = collections.Counter(lengths)\n",
    "    print(\"--- number of isbns per book:\")\n",
    "    print(\"total length: \", len(isbn_array))\n",
    "    for length, count in length_counts.items():\n",
    "        print(f\"Length {length}: {count} occurrences\")\n",
    "    print()\n",
    "\n",
    "\n",
    "def print_different_books_with_same_isbn_count(isbn_dict):\n",
    "    lengths = [len(values) for values in isbn_dict.values()]\n",
    "    length_counts = collections.Counter(lengths)\n",
    "    print(\"--- different books with same isbn:\")\n",
    "    print(\"total length: \", len(isbn_dict))\n",
    "    for length, count in length_counts.items():\n",
    "        print(f\"Length {length}: {count} occurrences\")\n",
    "    print()\n",
    "\n",
    "\n",
    "def create_isbn_dict(graph, source):\n",
    "    isbn_dict = collections.defaultdict(lambda :[])\n",
    "    isbn_array = []\n",
    "    for book in graph.subjects(RDF.type, SCHEMA.Book):\n",
    "        if source == \"btlf\":\n",
    "            book_data = utils.extract_data_btlf(graph, book)\n",
    "        elif source == \"bnf\":\n",
    "            book_data = utils.extract_data_bnf(graph, book)\n",
    "        elif source == \"constellations\":\n",
    "            book_data = utils.extract_data_constellations(graph, book)\n",
    "        elif source == \"babelio\":\n",
    "            book_data = utils.extract_data_babelio(graph, book)\n",
    "\n",
    "        for isbn in book_data.isbn:\n",
    "            isbn_dict[isbn].append(book_data)\n",
    "        \n",
    "        isbn_array.append(book_data.isbn)\n",
    "    print_number_of_isbns_per_book_count(isbn_array)\n",
    "    print_different_books_with_same_isbn_count(isbn_dict)\n",
    "    return isbn_dict, isbn_array\n",
    "\n",
    "\n",
    "def process_isbn_list(isbn_array):\n",
    "    isbn_array_flat = list(itertools.chain.from_iterable(isbn_array))\n",
    "    isbn_array_unique = set(isbn_array_flat)\n",
    "    isbn13_array = [isbnlib.to_isbn13(isbn) for isbn in isbn_array_unique]\n",
    "    empty_elements_count = isbn13_array.count('')\n",
    "    print(\"Number of empty elements:\", empty_elements_count)\n",
    "    print(\"Number of unique isbns 13:\", len(isbn13_array))\n",
    "    return isbn13_array"
   ]
  },
  {
   "cell_type": "markdown",
   "metadata": {},
   "source": [
    "# BTLF"
   ]
  },
  {
   "cell_type": "code",
   "execution_count": 10,
   "metadata": {},
   "outputs": [
    {
     "data": {
      "text/plain": [
       "<Graph identifier=N9b0a0d848811432d9cdb014ac79e1d08 (<class 'rdflib.graph.Graph'>)>"
      ]
     },
     "execution_count": 10,
     "metadata": {},
     "output_type": "execute_result"
    }
   ],
   "source": [
    "graph_btlf = Graph()\n",
    "graph_btlf.parse((data_path / \"BTLF.ttl\").as_posix(), format=\"turtle\")\n"
   ]
  },
  {
   "cell_type": "code",
   "execution_count": 11,
   "metadata": {},
   "outputs": [
    {
     "name": "stdout",
     "output_type": "stream",
     "text": [
      "--- number of isbns per book:\n",
      "total length:  26920\n",
      "Length 1: 26920 occurrences\n",
      "\n",
      "--- different books with same isbn:\n",
      "total length:  26920\n",
      "Length 1: 26920 occurrences\n",
      "\n"
     ]
    }
   ],
   "source": [
    "btlf_isbn_dict, btlf_isbn_array = create_isbn_dict(graph_btlf, \"btlf\")\n",
    "assert(len(btlf_isbn_array) == 26920)"
   ]
  },
  {
   "cell_type": "code",
   "execution_count": 12,
   "metadata": {},
   "outputs": [
    {
     "name": "stdout",
     "output_type": "stream",
     "text": [
      "Number of empty elements: 0\n",
      "Number of unique isbns 13: 26920\n"
     ]
    }
   ],
   "source": [
    "btlf_isbns = process_isbn_list(btlf_isbn_array)"
   ]
  },
  {
   "cell_type": "markdown",
   "metadata": {},
   "source": [
    "# BNF"
   ]
  },
  {
   "cell_type": "code",
   "execution_count": 13,
   "metadata": {},
   "outputs": [
    {
     "name": "stderr",
     "output_type": "stream",
     "text": [
      "Failed to convert Literal lexical form to value. Datatype=http://www.w3.org/2001/XMLSchema#date, Converter=<function parse_date at 0x00000223AC7C0680>\n",
      "Traceback (most recent call last):\n",
      "  File \"c:\\Users\\dre\\Documents\\projet biblio scolaire\\Books-Python\\books-python-env\\Lib\\site-packages\\rdflib\\term.py\", line 2084, in _castLexicalToPython\n",
      "    return conv_func(lexical)  # type: ignore[arg-type]\n",
      "           ^^^^^^^^^^^^^^^^^^\n",
      "  File \"c:\\Users\\dre\\Documents\\projet biblio scolaire\\Books-Python\\books-python-env\\Lib\\site-packages\\isodate\\isodates.py\", line 203, in parse_date\n",
      "    raise ISO8601Error('Unrecognised ISO 8601 date format: %r' % datestring)\n",
      "isodate.isoerror.ISO8601Error: Unrecognised ISO 8601 date format: 'Port- d-es'\n",
      "Failed to convert Literal lexical form to value. Datatype=http://www.w3.org/2001/XMLSchema#date, Converter=<function parse_date at 0x00000223AC7C0680>\n",
      "Traceback (most recent call last):\n",
      "  File \"c:\\Users\\dre\\Documents\\projet biblio scolaire\\Books-Python\\books-python-env\\Lib\\site-packages\\rdflib\\term.py\", line 2084, in _castLexicalToPython\n",
      "    return conv_func(lexical)  # type: ignore[arg-type]\n",
      "           ^^^^^^^^^^^^^^^^^^\n",
      "  File \"c:\\Users\\dre\\Documents\\projet biblio scolaire\\Books-Python\\books-python-env\\Lib\\site-packages\\isodate\\isodates.py\", line 203, in parse_date\n",
      "    raise ISO8601Error('Unrecognised ISO 8601 date format: %r' % datestring)\n",
      "isodate.isoerror.ISO8601Error: Unrecognised ISO 8601 date format: 'harc-el-eu'\n"
     ]
    },
    {
     "data": {
      "text/plain": [
       "<Graph identifier=N408d9e81aa81402eb4b1b509522e1151 (<class 'rdflib.graph.Graph'>)>"
      ]
     },
     "execution_count": 13,
     "metadata": {},
     "output_type": "execute_result"
    }
   ],
   "source": [
    "graph_bnf = Graph()\n",
    "graph_bnf.parse((data_path / \"bnf.ttl\").as_posix(), format=\"turtle\")\n"
   ]
  },
  {
   "cell_type": "code",
   "execution_count": 14,
   "metadata": {},
   "outputs": [
    {
     "name": "stdout",
     "output_type": "stream",
     "text": [
      "--- number of isbns per book:\n",
      "total length:  30384\n",
      "Length 0: 366 occurrences\n",
      "Length 1: 29828 occurrences\n",
      "Length 2: 190 occurrences\n",
      "\n",
      "--- different books with same isbn:\n",
      "total length:  29914\n",
      "Length 1: 29669 occurrences\n",
      "Length 2: 226 occurrences\n",
      "Length 3: 12 occurrences\n",
      "Length 4: 2 occurrences\n",
      "Length 9: 1 occurrences\n",
      "Length 6: 2 occurrences\n",
      "Length 17: 1 occurrences\n",
      "Length 5: 1 occurrences\n",
      "\n"
     ]
    }
   ],
   "source": [
    "bnf_isbn_dict, bnf_isbn_array = create_isbn_dict(graph_bnf, \"bnf\")\n",
    "assert(len(bnf_isbn_array) == 30384)"
   ]
  },
  {
   "cell_type": "code",
   "execution_count": 15,
   "metadata": {},
   "outputs": [
    {
     "name": "stdout",
     "output_type": "stream",
     "text": [
      "Number of empty elements: 0\n",
      "Number of unique isbns 13: 29914\n"
     ]
    }
   ],
   "source": [
    "bnf_isbns = process_isbn_list(bnf_isbn_array)"
   ]
  },
  {
   "cell_type": "markdown",
   "metadata": {},
   "source": [
    "# Constellations"
   ]
  },
  {
   "cell_type": "code",
   "execution_count": 16,
   "metadata": {},
   "outputs": [
    {
     "data": {
      "text/plain": [
       "<Graph identifier=N8e66f466be3a4b86913d6a8040e417b8 (<class 'rdflib.graph.Graph'>)>"
      ]
     },
     "execution_count": 16,
     "metadata": {},
     "output_type": "execute_result"
    }
   ],
   "source": [
    "graph_constellations = Graph()\n",
    "graph_constellations.parse((data_path / \"constellations.ttl\").as_posix(), format=\"turtle\")"
   ]
  },
  {
   "cell_type": "code",
   "execution_count": 17,
   "metadata": {},
   "outputs": [
    {
     "name": "stdout",
     "output_type": "stream",
     "text": [
      "--- number of isbns per book:\n",
      "total length:  11267\n",
      "Length 1: 11177 occurrences\n",
      "Length 0: 90 occurrences\n",
      "\n",
      "--- different books with same isbn:\n",
      "total length:  11177\n",
      "Length 1: 11177 occurrences\n",
      "\n"
     ]
    }
   ],
   "source": [
    "constellations_isbn_dict, constellations_isbn_array = create_isbn_dict(graph_constellations, \"constellations\")\n",
    "assert(len(constellations_isbn_array) == 11267)"
   ]
  },
  {
   "cell_type": "code",
   "execution_count": 18,
   "metadata": {},
   "outputs": [
    {
     "name": "stdout",
     "output_type": "stream",
     "text": [
      "Number of empty elements: 0\n",
      "Number of unique isbns 13: 11177\n"
     ]
    }
   ],
   "source": [
    "constellations_isbns = process_isbn_list(constellations_isbn_array)"
   ]
  },
  {
   "cell_type": "markdown",
   "metadata": {},
   "source": [
    "# Babelio"
   ]
  },
  {
   "cell_type": "code",
   "execution_count": 19,
   "metadata": {},
   "outputs": [
    {
     "data": {
      "text/plain": [
       "<Graph identifier=Nd6458d3da7ab45b2891bf61c0b610a56 (<class 'rdflib.graph.Graph'>)>"
      ]
     },
     "execution_count": 19,
     "metadata": {},
     "output_type": "execute_result"
    }
   ],
   "source": [
    "graph_babelio = Graph()\n",
    "graph_babelio.parse((data_path / \"babelio.ttl\").as_posix(), format=\"turtle\")\n"
   ]
  },
  {
   "cell_type": "code",
   "execution_count": 20,
   "metadata": {},
   "outputs": [
    {
     "name": "stdout",
     "output_type": "stream",
     "text": [
      "--- number of isbns per book:\n",
      "total length:  4169\n",
      "Length 1: 2252 occurrences\n",
      "Length 0: 1917 occurrences\n",
      "\n",
      "--- different books with same isbn:\n",
      "total length:  2190\n",
      "Length 1: 2133 occurrences\n",
      "Length 2: 54 occurrences\n",
      "Length 3: 1 occurrences\n",
      "Length 4: 2 occurrences\n",
      "\n"
     ]
    }
   ],
   "source": [
    "babelio_isbn_dict, babelio_isbn_array = create_isbn_dict(graph_babelio, \"babelio\")\n",
    "assert(len(babelio_isbn_array) == 4169)"
   ]
  },
  {
   "cell_type": "code",
   "execution_count": 21,
   "metadata": {},
   "outputs": [
    {
     "name": "stdout",
     "output_type": "stream",
     "text": [
      "Number of empty elements: 0\n",
      "Number of unique isbns 13: 2190\n"
     ]
    }
   ],
   "source": [
    "babelio_isbns = process_isbn_list(babelio_isbn_array)"
   ]
  },
  {
   "cell_type": "markdown",
   "metadata": {},
   "source": [
    "# merge isbn arrays"
   ]
  },
  {
   "cell_type": "code",
   "execution_count": 22,
   "metadata": {},
   "outputs": [
    {
     "name": "stdout",
     "output_type": "stream",
     "text": [
      "70201\n",
      "40109\n"
     ]
    }
   ],
   "source": [
    "all_isbns = btlf_isbns + bnf_isbns + constellations_isbns + babelio_isbns\n",
    "print(len(all_isbns))\n",
    "assert(len(all_isbns) == 26920 + 29914 + 11177 + 2190)\n",
    "all_isbns_unique = list(set(all_isbns))\n",
    "print(len(all_isbns_unique))"
   ]
  },
  {
   "cell_type": "code",
   "execution_count": 23,
   "metadata": {},
   "outputs": [],
   "source": [
    "with open((\"../\" / data_path / \"isbns_base_connaissance.txt\").as_posix(), \"a\") as file:\n",
    "    for isbn in all_isbns_unique:\n",
    "        file.write(isbn + \"\\n\")"
   ]
  }
 ],
 "metadata": {
  "kernelspec": {
   "display_name": "books-python-env",
   "language": "python",
   "name": "python3"
  },
  "language_info": {
   "codemirror_mode": {
    "name": "ipython",
    "version": 3
   },
   "file_extension": ".py",
   "mimetype": "text/x-python",
   "name": "python",
   "nbconvert_exporter": "python",
   "pygments_lexer": "ipython3",
   "version": "3.11.9"
  }
 },
 "nbformat": 4,
 "nbformat_minor": 2
}
