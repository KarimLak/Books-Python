{
 "cells": [
  {
   "cell_type": "code",
   "execution_count": 1,
   "id": "ff7f9435-9dc5-4159-b9b4-e28345dd652c",
   "metadata": {},
   "outputs": [],
   "source": [
    "import sys\n",
    "from rdflib import Graph\n",
    "from rdflib.namespace import RDF\n",
    "import copy\n",
    "\n",
    "sys.path.append('../')\n",
    "sys.path.append('../andre')\n",
    "import andre.utils as utils\n",
    "from andre.book_alignment import BookAlignment\n",
    "import andre.interdbstats_exact as interdbstats_exact"
   ]
  },
  {
   "cell_type": "code",
   "execution_count": 2,
   "id": "449db509-61b0-4eca-846f-1aeacb536da5",
   "metadata": {},
   "outputs": [],
   "source": [
    "file_name = \"stats_similarite_age.log\"\n",
    "stats_logger = utils.setup_logger('stats_logger', file_name)\n",
    "stats_isbn = interdbstats_exact.InterDbStatsExact(key_type=\"isbn\", stats_logger=stats_logger)"
   ]
  },
  {
   "cell_type": "code",
   "execution_count": null,
   "id": "20ceb5cf-e7cd-40c9-ac86-679661871e42",
   "metadata": {},
   "outputs": [],
   "source": [
    "g = Graph()\n",
    "g.parse(\"../final_datasets/constellations.ttl\", format=\"turtle\")"
   ]
  },
  {
   "cell_type": "code",
   "execution_count": null,
   "id": "28f92518-3faa-4663-9607-cb8d7df56d30",
   "metadata": {},
   "outputs": [],
   "source": [
    "for book in g.subjects(RDF.type, utils.schema.Book):\n",
    "    book_data = utils.extract_data_constellation(g, book)\n",
    "    book_alignment_constellation = BookAlignment(url_constellation=book_data.url,\n",
    "                                                 isbn_constellation=book_data.isbn,\n",
    "                                                 age_range_constellation=book_data.age_range_int,\n",
    "                                                 name=book_data.book_name,  # put non preprocessed name\n",
    "                                                 author=book_data.book_author,\n",
    "                                                 publisher=book_data.publisher,\n",
    "                                                 date=book_data.publication_date,\n",
    "                                                 uri_constellation=book_data.uri)\n",
    "    stats_isbn.all_book_alignments[book_data.isbn] = copy.deepcopy(book_alignment_constellation)\n",
    "    stats_isbn.increment_constellation_book_number()"
   ]
  },
  {
   "cell_type": "code",
   "execution_count": null,
   "id": "e82fa09c-cbaa-4a29-974e-f0f2fb8ae4cf",
   "metadata": {},
   "outputs": [],
   "source": [
    "g = Graph()\n",
    "g.parse(\"../final_datasets/bnf.ttl\", format=\"turtle\")"
   ]
  },
  {
   "cell_type": "code",
   "execution_count": null,
   "id": "f62a9cd0-500a-455e-83de-3a3cbda8abea",
   "metadata": {},
   "outputs": [],
   "source": [
    "for book in g.subjects(RDF.type, utils.schema.Book):  # O(M)\n",
    "    book_data = utils.extract_data_bnf(g, book)\n",
    "    book_alignment_bnf = BookAlignment(url_bnf=book_data.url,\n",
    "                                       isbn_bnf=book_data.isbn,\n",
    "                                       ean_bnf=book_data.ean,\n",
    "                                       age_range_bnf=book_data.age_range_int,\n",
    "                                       uri_bnf=book_data.uri,\n",
    "                                       name=book_data.book_name,  # non preprocessed name\n",
    "                                       author=book_data.book_author,\n",
    "                                       publisher=book_data.publisher,\n",
    "                                       date=book_data.publication_date)\n",
    "    stats_isbn.align_by_ean_isbn(copy.deepcopy(book_alignment_bnf), book_data.isbn, book_data.ean)\n",
    "    stats_isbn.increment_bnf_book_number()\n"
   ]
  },
  {
   "cell_type": "code",
   "execution_count": null,
   "id": "c84c4fc1-846b-4d35-90da-a6cb9e8d4517",
   "metadata": {},
   "outputs": [],
   "source": [
    "g = Graph()\n",
    "g.parse(\"../final_datasets/btlf_books/Graphes/grapheLivres.ttl\", format=\"turtle\")"
   ]
  },
  {
   "cell_type": "code",
   "execution_count": null,
   "id": "05e338ce-2d13-4b5c-840f-97845a3cc6c5",
   "metadata": {
    "scrolled": true
   },
   "outputs": [],
   "source": [
    "btlf_books = []\n",
    "for book in g.subjects(RDF.type, utils.btlf_classe.Livre):  # O(M)\n",
    "    \n",
    "    book_data = utils.extract_data_btlf(g, book)\n",
    "    btlf_books.append(book_data)\n",
    "    if book_data.isbn == \"9782742769681\":\n",
    "        print(\"a\")\n",
    "    stats_isbn.align_btlf(copy.deepcopy(book_data), book_data.isbn)\n",
    "    \n"
   ]
  },
  {
   "cell_type": "code",
   "execution_count": null,
   "id": "28a4ec4d-b91f-445a-b558-31bdd03ba857",
   "metadata": {},
   "outputs": [],
   "source": [
    "stats_isbn.plot_age_similarities_histograms()"
   ]
  },
  {
   "cell_type": "code",
   "execution_count": 4,
   "id": "9d939507-ef0c-49c7-8233-39c3639cf5e9",
   "metadata": {},
   "outputs": [],
   "source": [
    "import logging\n",
    "\n",
    "def close_logger(logger, log_file):\n",
    "    handler = logging.FileHandler(log_file)\n",
    "    logger.removeHandler(handler)\n",
    "    handler.close()\n",
    "    print(handler)\n",
    "\n",
    "    return logger"
   ]
  },
  {
   "cell_type": "code",
   "execution_count": 5,
   "id": "64183cf9-a239-40b7-abde-16462b978c65",
   "metadata": {},
   "outputs": [],
   "source": [
    " handler = logging.FileHandler(file_name)"
   ]
  },
  {
   "cell_type": "code",
   "execution_count": 14,
   "id": "a898ff25-54fe-4e4f-b0ce-a8112bf791d5",
   "metadata": {},
   "outputs": [
    {
     "name": "stdout",
     "output_type": "stream",
     "text": [
      "<FileHandler C:\\Users\\dre\\Documents\\Books-Python\\notebooks\\stats_similarite_age.log (NOTSET)>\n"
     ]
    }
   ],
   "source": [
    "print(handler)"
   ]
  },
  {
   "cell_type": "code",
   "execution_count": 12,
   "id": "a65e4543-2ba4-4940-ad40-ca47a95c7812",
   "metadata": {},
   "outputs": [],
   "source": [
    "stats_logger.removeHandler(handler)"
   ]
  },
  {
   "cell_type": "code",
   "execution_count": 13,
   "id": "c28324a4-d1e3-497a-b7fc-60af25e1b9ad",
   "metadata": {},
   "outputs": [
    {
     "data": {
      "text/plain": [
       "[<FileHandler C:\\Users\\dre\\Documents\\Books-Python\\notebooks\\stats_similarite_age.log (NOTSET)>]"
      ]
     },
     "execution_count": 13,
     "metadata": {},
     "output_type": "execute_result"
    }
   ],
   "source": [
    "stats_logger.handlers"
   ]
  },
  {
   "cell_type": "code",
   "execution_count": 9,
   "id": "b94d042e-1f32-4599-9eae-70c8af307375",
   "metadata": {},
   "outputs": [],
   "source": [
    "stats_isbn.stats_logger = None"
   ]
  },
  {
   "cell_type": "code",
   "execution_count": null,
   "id": "59b7ab8f-8193-4643-b327-92074d15b4b7",
   "metadata": {},
   "outputs": [],
   "source": [
    "handler.close()"
   ]
  },
  {
   "cell_type": "code",
   "execution_count": null,
   "id": "4c5c7b9c-bc3b-4b81-82a4-e566f84ba339",
   "metadata": {},
   "outputs": [],
   "source": [
    "close_logger(stats_logger, file_name)"
   ]
  },
  {
   "cell_type": "code",
   "execution_count": null,
   "id": "cb392a21-8f63-47f2-bb95-fd5d83a42d5c",
   "metadata": {},
   "outputs": [],
   "source": [
    "import os\n",
    "\n",
    "if os.path.getsize(file_name) == 0:\n",
    "    print(\"File is empty!\") \n",
    "    os.remove(file_name)"
   ]
  },
  {
   "cell_type": "code",
   "execution_count": null,
   "id": "040e0b14-a34e-4077-9ce4-a306a8bc6a13",
   "metadata": {},
   "outputs": [],
   "source": [
    "stats_isbn.output_csv_constellation_bnf_btlf()"
   ]
  }
 ],
 "metadata": {
  "kernelspec": {
   "display_name": "Python 3 (ipykernel)",
   "language": "python",
   "name": "python3"
  },
  "language_info": {
   "codemirror_mode": {
    "name": "ipython",
    "version": 3
   },
   "file_extension": ".py",
   "mimetype": "text/x-python",
   "name": "python",
   "nbconvert_exporter": "python",
   "pygments_lexer": "ipython3",
   "version": "3.11.6"
  }
 },
 "nbformat": 4,
 "nbformat_minor": 5
}
