{
 "cells": [
  {
   "cell_type": "markdown",
   "metadata": {},
   "source": [
    "# Goal of notebook:\n",
    "- convert all types of book identifiers (sbn, isbn10, isbn13) to a valid isbn 13\n",
    "- validity of isbn13 and isbn 10 checked with checksum (its last digit)\n",
    "- explore isbnlib library: isbn conversion, metadata fetching, adding additional sources\n",
    "- manual implementation of isbn conversions (not used, for testing purposes)"
   ]
  },
  {
   "cell_type": "code",
   "execution_count": 4,
   "metadata": {},
   "outputs": [],
   "source": [
    "from rdflib import Graph, Namespace, Literal, URIRef\n",
    "from rdflib import RDF, RDFS, OWL, XSD\n",
    "import isbnlib\n",
    "import sys\n",
    "sys.path.append('../')\n",
    "\n",
    "sys.path.append('../andre')\n",
    "import andre.utils as utils\n",
    "from andre.utils import schema as SCHEMA\n",
    "import collections"
   ]
  },
  {
   "cell_type": "code",
   "execution_count": 6,
   "metadata": {},
   "outputs": [
    {
     "name": "stderr",
     "output_type": "stream",
     "text": [
      "Failed to convert Literal lexical form to value. Datatype=http://www.w3.org/2001/XMLSchema#date, Converter=<function parse_date at 0x0000023FA6E74860>\n",
      "Traceback (most recent call last):\n",
      "  File \"C:\\Users\\dre\\AppData\\Local\\Packages\\PythonSoftwareFoundation.Python.3.11_qbz5n2kfra8p0\\LocalCache\\local-packages\\Python311\\site-packages\\rdflib\\term.py\", line 2084, in _castLexicalToPython\n",
      "    return conv_func(lexical)  # type: ignore[arg-type]\n",
      "           ^^^^^^^^^^^^^^^^^^\n",
      "  File \"C:\\Users\\dre\\AppData\\Local\\Packages\\PythonSoftwareFoundation.Python.3.11_qbz5n2kfra8p0\\LocalCache\\local-packages\\Python311\\site-packages\\isodate\\isodates.py\", line 203, in parse_date\n",
      "    raise ISO8601Error('Unrecognised ISO 8601 date format: %r' % datestring)\n",
      "isodate.isoerror.ISO8601Error: Unrecognised ISO 8601 date format: 'Port- d-es'\n",
      "Failed to convert Literal lexical form to value. Datatype=http://www.w3.org/2001/XMLSchema#date, Converter=<function parse_date at 0x0000023FA6E74860>\n",
      "Traceback (most recent call last):\n",
      "  File \"C:\\Users\\dre\\AppData\\Local\\Packages\\PythonSoftwareFoundation.Python.3.11_qbz5n2kfra8p0\\LocalCache\\local-packages\\Python311\\site-packages\\rdflib\\term.py\", line 2084, in _castLexicalToPython\n",
      "    return conv_func(lexical)  # type: ignore[arg-type]\n",
      "           ^^^^^^^^^^^^^^^^^^\n",
      "  File \"C:\\Users\\dre\\AppData\\Local\\Packages\\PythonSoftwareFoundation.Python.3.11_qbz5n2kfra8p0\\LocalCache\\local-packages\\Python311\\site-packages\\isodate\\isodates.py\", line 203, in parse_date\n",
      "    raise ISO8601Error('Unrecognised ISO 8601 date format: %r' % datestring)\n",
      "isodate.isoerror.ISO8601Error: Unrecognised ISO 8601 date format: 'harc-el-eu'\n"
     ]
    },
    {
     "data": {
      "text/plain": [
       "<Graph identifier=N0d44e3c1be9344e3823e2687b54f2002 (<class 'rdflib.graph.Graph'>)>"
      ]
     },
     "execution_count": 6,
     "metadata": {},
     "output_type": "execute_result"
    }
   ],
   "source": [
    "graph_bnf = Graph()\n",
    "graph_bnf.parse(\"final_datasets/bnf.ttl\", format=\"turtle\")"
   ]
  },
  {
   "cell_type": "code",
   "execution_count": 14,
   "metadata": {},
   "outputs": [
    {
     "data": {
      "text/plain": [
       "'9782211012157'"
      ]
     },
     "execution_count": 14,
     "metadata": {},
     "output_type": "execute_result"
    }
   ],
   "source": [
    "isbnlib.isbn_from_words(\"Pousse-poussette\")"
   ]
  },
  {
   "cell_type": "code",
   "execution_count": 15,
   "metadata": {},
   "outputs": [
    {
     "data": {
      "text/plain": [
       "{'ISBN-13': '9782211012157',\n",
       " 'Title': 'Pousse-Poussette',\n",
       " 'Authors': ['Michel Gay'],\n",
       " 'Publisher': \"L'Ecole des loisirs\",\n",
       " 'Year': '1982',\n",
       " 'Language': ''}"
      ]
     },
     "execution_count": 15,
     "metadata": {},
     "output_type": "execute_result"
    }
   ],
   "source": [
    "isbnlib.meta(\"9782211012157\", service='openlopenl')"
   ]
  },
  {
   "cell_type": "code",
   "execution_count": 7,
   "metadata": {},
   "outputs": [
    {
     "name": "stdout",
     "output_type": "stream",
     "text": [
      "no valid isbn \n",
      "no valid isbn \n",
      "no valid isbn \n",
      "no valid isbn \n",
      "no valid isbn \n",
      "no valid isbn 286357008\n",
      "no valid isbn 2081617074\n",
      "no valid isbn \n",
      "no valid isbn 221107952\n",
      "no valid isbn 22110662941\n",
      "no valid isbn \n",
      "no valid isbn 2211012152\n",
      "no valid isbn 2211016832\n",
      "no valid isbn 2211026953\n",
      "no valid isbn \n",
      "no valid isbn \n",
      "no valid isbn \n",
      "no valid isbn \n",
      "no valid isbn \n",
      "no valid isbn \n",
      "no valid isbn 2904292424\n",
      "no valid isbn 2878330885\n",
      "no valid isbn \n",
      "no valid isbn 29092190504\n",
      "no valid isbn 221102684X\n",
      "no valid isbn 28696102830\n",
      "no valid isbn \n",
      "no valid isbn 2226070696\n",
      "no valid isbn 2910635685\n"
     ]
    },
    {
     "name": "stdout",
     "output_type": "stream",
     "text": [
      "no valid isbn \n",
      "no valid isbn 2868770941\n",
      "no valid isbn \n",
      "no valid isbn 28673879313\n",
      "no valid isbn 220314001X\n",
      "no valid isbn 2711836810\n",
      "no valid isbn 2211050074\n",
      "no valid isbn 2226101980\n",
      "no valid isbn 2081644939\n",
      "no valid isbn 2070310344\n",
      "no valid isbn \n",
      "no valid isbn \n",
      "no valid isbn \n",
      "no valid isbn \n",
      "no valid isbn \n",
      "no valid isbn \n",
      "no valid isbn \n",
      "no valid isbn \n",
      "no valid isbn \n",
      "no valid isbn \n",
      "no valid isbn \n",
      "no valid isbn \n",
      "no valid isbn \n",
      "no valid isbn \n",
      "no valid isbn \n",
      "no valid isbn \n",
      "no valid isbn \n",
      "no valid isbn 2211064231\n",
      "no valid isbn 2748500381\n",
      "no valid isbn \n",
      "no valid isbn \n",
      "no valid isbn \n",
      "no valid isbn ISSN 16397525\n",
      "no valid isbn \n",
      "no valid isbn \n",
      "no valid isbn \n",
      "no valid isbn 2748502039\n",
      "no valid isbn \n",
      "no valid isbn \n",
      "no valid isbn \n",
      "no valid isbn \n",
      "no valid isbn \n",
      "no valid isbn \n",
      "no valid isbn \n",
      "no valid isbn \n",
      "no valid isbn \n",
      "no valid isbn \n",
      "no valid isbn \n",
      "no valid isbn \n",
      "no valid isbn \n",
      "no valid isbn \n",
      "no valid isbn \n",
      "no valid isbn \n",
      "no valid isbn \n",
      "no valid isbn 3505371133472\n",
      "no valid isbn 3505371133465\n",
      "no valid isbn \n",
      "no valid isbn \n",
      "no valid isbn \n",
      "no valid isbn \n",
      "no valid isbn \n",
      "no valid isbn \n",
      "no valid isbn 2744197833\n",
      "no valid isbn \n",
      "no valid isbn \n",
      "no valid isbn \n",
      "no valid isbn \n",
      "no valid isbn \n",
      "no valid isbn \n",
      "no valid isbn \n",
      "no valid isbn \n",
      "no valid isbn \n",
      "no valid isbn \n",
      "no valid isbn \n",
      "no valid isbn \n",
      "no valid isbn \n",
      "no valid isbn \n",
      "no valid isbn \n",
      "no valid isbn \n",
      "no valid isbn \n",
      "no valid isbn \n",
      "no valid isbn \n",
      "no valid isbn \n",
      "no valid isbn \n",
      "no valid isbn \n",
      "no valid isbn \n",
      "no valid isbn \n",
      "no valid isbn \n",
      "no valid isbn \n",
      "no valid isbn \n",
      "no valid isbn \n",
      "no valid isbn \n",
      "no valid isbn \n",
      "no valid isbn \n",
      "no valid isbn \n",
      "no valid isbn \n",
      "no valid isbn \n",
      "no valid isbn \n",
      "no valid isbn 07965915\n",
      "no valid isbn \n",
      "no valid isbn \n",
      "no valid isbn \n",
      "no valid isbn \n",
      "no valid isbn \n",
      "no valid isbn \n",
      "no valid isbn 291332691455\n",
      "no valid isbn 291332691749\n",
      "no valid isbn 291332691315\n",
      "no valid isbn \n",
      "no valid isbn \n",
      "no valid isbn \n",
      "no valid isbn \n",
      "no valid isbn \n",
      "no valid isbn \n",
      "no valid isbn 999197229\n",
      "no valid isbn 9789953633991\n",
      "no valid isbn \n",
      "no valid isbn 97899539022100\n",
      "no valid isbn 9781133328135\n",
      "no valid isbn 9781133322935\n",
      "no valid isbn 9781133325981\n",
      "no valid isbn \n",
      "no valid isbn 6221102016834\n",
      "no valid isbn \n",
      "no valid isbn \n",
      "no valid isbn \n",
      "no valid isbn \n",
      "no valid isbn \n",
      "no valid isbn \n",
      "no valid isbn \n",
      "no valid isbn \n",
      "no valid isbn \n",
      "no valid isbn \n",
      "no valid isbn \n",
      "no valid isbn \n",
      "no valid isbn \n",
      "no valid isbn \n",
      "no valid isbn 97899615724\n",
      "no valid isbn \n",
      "no valid isbn 997319696\n",
      "no valid isbn \n",
      "no valid isbn 9789770922291\n",
      "no valid isbn 9789770922284\n",
      "no valid isbn 9789770922025\n",
      "no valid isbn 9789770922018\n",
      "no valid isbn 978226616917X\n",
      "no valid isbn 97897299243166\n",
      "no valid isbn 995610026X\n",
      "no valid isbn \n",
      "no valid isbn 9995161034\n",
      "no valid isbn \n",
      "no valid isbn \n",
      "no valid isbn \n",
      "no valid isbn \n",
      "no valid isbn \n",
      "no valid isbn 995610026X\n",
      "no valid isbn 995610026X\n",
      "no valid isbn \n",
      "no valid isbn \n",
      "no valid isbn 9782930223936\n",
      "no valid isbn \n",
      "no valid isbn \n",
      "no valid isbn \n",
      "no valid isbn \n",
      "no valid isbn \n",
      "no valid isbn \n",
      "no valid isbn \n",
      "no valid isbn \n",
      "no valid isbn \n",
      "no valid isbn \n",
      "no valid isbn \n",
      "no valid isbn 97899935956877\n",
      "no valid isbn 97899935957622\n",
      "no valid isbn 97899935957799\n",
      "no valid isbn 97899935957177\n",
      "no valid isbn 97899935957244\n",
      "no valid isbn 3133092023439\n",
      "no valid isbn 9789770923981\n",
      "no valid isbn 9789770927129\n",
      "no valid isbn 9789770927082\n",
      "no valid isbn 9789770925512\n",
      "no valid isbn 6221102022538\n",
      "no valid isbn 6221102022521\n",
      "no valid isbn 6221102016858\n",
      "no valid isbn 9789770926782\n",
      "no valid isbn 9789770925278\n",
      "no valid isbn 9789770925187\n",
      "no valid isbn 9789770927863\n",
      "no valid isbn \n",
      "no valid isbn 3133092024306\n",
      "no valid isbn 6221102025430\n",
      "no valid isbn 9789770927576\n",
      "no valid isbn 3133092024825\n",
      "no valid isbn \n",
      "no valid isbn 3133092025976\n",
      "no valid isbn \n",
      "no valid isbn \n",
      "no valid isbn \n",
      "no valid isbn \n",
      "no valid isbn \n",
      "no valid isbn 995610042V\n",
      "no valid isbn \n",
      "no valid isbn \n",
      "no valid isbn \n",
      "no valid isbn 995610026X\n",
      "no valid isbn \n",
      "no valid isbn 995610026X\n",
      "no valid isbn \n",
      "no valid isbn 6221102024013\n",
      "no valid isbn \n",
      "no valid isbn \n",
      "no valid isbn \n",
      "no valid isbn \n",
      "no valid isbn \n",
      "no valid isbn \n",
      "no valid isbn \n",
      "no valid isbn \n",
      "no valid isbn \n",
      "no valid isbn \n",
      "no valid isbn \n",
      "no valid isbn 3133092027130\n",
      "no valid isbn \n",
      "no valid isbn 9953007162\n",
      "no valid isbn \n",
      "no valid isbn 9789770927569\n",
      "no valid isbn \n",
      "no valid isbn \n",
      "no valid isbn \n",
      "no valid isbn \n",
      "no valid isbn \n",
      "no valid isbn \n",
      "no valid isbn \n",
      "no valid isbn \n",
      "no valid isbn \n",
      "no valid isbn \n",
      "no valid isbn \n",
      "no valid isbn \n",
      "no valid isbn \n",
      "no valid isbn \n",
      "no valid isbn \n",
      "no valid isbn \n",
      "no valid isbn \n",
      "no valid isbn \n",
      "no valid isbn 287330803\n",
      "no valid isbn 2904292561\n",
      "no valid isbn \n",
      "no valid isbn \n",
      "no valid isbn \n",
      "no valid isbn 288420211X\n",
      "no valid isbn \n",
      "no valid isbn \n",
      "no valid isbn \n",
      "no valid isbn \n",
      "no valid isbn \n",
      "no valid isbn 2912741223\n",
      "no valid isbn \n",
      "no valid isbn \n",
      "no valid isbn \n",
      "no valid isbn \n",
      "no valid isbn \n",
      "no valid isbn \n",
      "no valid isbn \n",
      "no valid isbn 0521647906\n",
      "no valid isbn 28451702762\n",
      "no valid isbn \n",
      "no valid isbn \n",
      "no valid isbn \n",
      "no valid isbn \n",
      "no valid isbn 997392710\n",
      "no valid isbn \n",
      "no valid isbn \n",
      "no valid isbn \n",
      "no valid isbn \n",
      "no valid isbn \n",
      "no valid isbn \n",
      "no valid isbn 211022881\n",
      "no valid isbn 2910190856\n",
      "no valid isbn \n",
      "no valid isbn \n",
      "no valid isbn \n",
      "no valid isbn \n",
      "no valid isbn \n",
      "no valid isbn \n",
      "no valid isbn \n",
      "no valid isbn \n",
      "no valid isbn \n",
      "no valid isbn \n",
      "no valid isbn \n",
      "no valid isbn \n",
      "no valid isbn \n",
      "no valid isbn \n",
      "no valid isbn \n",
      "no valid isbn \n",
      "no valid isbn \n",
      "no valid isbn \n",
      "no valid isbn \n",
      "no valid isbn \n",
      "no valid isbn \n",
      "no valid isbn \n",
      "no valid isbn \n",
      "no valid isbn \n",
      "no valid isbn \n",
      "no valid isbn \n",
      "no valid isbn \n",
      "no valid isbn \n",
      "no valid isbn \n",
      "no valid isbn 9789956100519\n",
      "no valid isbn \n",
      "no valid isbn \n",
      "no valid isbn \n",
      "no valid isbn \n",
      "no valid isbn 3660485998239\n",
      "no valid isbn \n",
      "no valid isbn 6221102026277\n",
      "no valid isbn \n",
      "no valid isbn \n",
      "no valid isbn \n",
      "no valid isbn \n",
      "no valid isbn \n",
      "no valid isbn 3521383440575\n",
      "no valid isbn \n",
      "no valid isbn \n",
      "no valid isbn 9789954486859\n",
      "no valid isbn 9789954486846\n",
      "no valid isbn 3127020500369\n",
      "no valid isbn 9789956100676\n",
      "no valid isbn \n",
      "no valid isbn 9789956100641\n",
      "no valid isbn 9879776633177\n",
      "no valid isbn 9789778400383\n",
      "no valid isbn \n",
      "no valid isbn 9782350450955\n",
      "no valid isbn \n",
      "no valid isbn \n",
      "no valid isbn 9782350451097\n",
      "no valid isbn 9782350451070\n",
      "no valid isbn 9956458001773\n"
     ]
    }
   ],
   "source": [
    "def sbn_to_isbn10(sbn):\n",
    "    # Check if the input is a valid SBN string\n",
    "    if len(sbn) == 9 and sbn.isdigit():\n",
    "        return \"0\" + sbn\n",
    "\n",
    "for bnf_book in graph_bnf.subjects(RDF.type, utils.schema.Book):\n",
    "    book_data = utils.extract_data_bnf(graph_bnf, bnf_book)\n",
    "    isbn = isbnlib.canonical(book_data.isbn)\n",
    "    ean = isbnlib.canonical(book_data.ean) # ean is supposed to be 13 digits\n",
    "    if len(isbn) == 9:\n",
    "        isbn = sbn_to_isbn10(isbn)\n",
    "    \n",
    "    valid_isbn13 = isbnlib.to_isbn13(isbn)\n",
    "    valid_ean13 = isbnlib.to_isbn13(ean) # if valid_ean13 exists and valid should equals to original EAN\n",
    "\n",
    "    if valid_isbn13 and valid_ean13 and valid_isbn13 != valid_ean13: # put both in graph because likely to be different editions but difficult to choose between the right one\n",
    "        # print(isbn, valid_isbn13, valid_ean13)\n",
    "        graph_bnf.add((bnf_book, utils.pbs.validISBN13, Literal(valid_isbn13)))\n",
    "        graph_bnf.add((bnf_book, utils.pbs.validISBN13, Literal(valid_ean13))) \n",
    "    elif valid_isbn13 and valid_ean13 and valid_isbn13 == valid_ean13:\n",
    "        graph_bnf.add((bnf_book, utils.pbs.validISBN13, Literal(valid_isbn13)))\n",
    "    elif valid_isbn13 and not valid_ean13:\n",
    "        graph_bnf.add((bnf_book, utils.pbs.validISBN13, Literal(valid_isbn13)))\n",
    "    elif not valid_isbn13 and valid_ean13:\n",
    "        graph_bnf.add((bnf_book, utils.pbs.validISBN13, Literal(valid_ean13)))\n",
    "    else:\n",
    "        print(\"no valid isbn\", book_data.isbn) # don' t add anything: if empty value, graphdb will match with other empty value\n",
    "        # graph_bnf.add((bnf_book, utils.pbs.validISBN13, Literal(\"\")))\n",
    "\n",
    " \n"
   ]
  },
  {
   "cell_type": "code",
   "execution_count": 4,
   "metadata": {},
   "outputs": [],
   "source": [
    "fichier = open(\"../final_datasets/bnf_cleanISBN13.ttl\",\"wb\")\n",
    "graph_bnf.serialize(fichier) \n",
    "fichier.close()"
   ]
  },
  {
   "cell_type": "code",
   "execution_count": 3,
   "metadata": {},
   "outputs": [
    {
     "data": {
      "text/plain": [
       "'9782246002314'"
      ]
     },
     "execution_count": 3,
     "metadata": {},
     "output_type": "execute_result"
    }
   ],
   "source": [
    "isbnlib.to_isbn13(\"2246002311\")"
   ]
  },
  {
   "cell_type": "code",
   "execution_count": 5,
   "metadata": {},
   "outputs": [
    {
     "data": {
      "text/plain": [
       "<Graph identifier=N4bba4aafa0c84487b51493ada95bef83 (<class 'rdflib.graph.Graph'>)>"
      ]
     },
     "execution_count": 5,
     "metadata": {},
     "output_type": "execute_result"
    }
   ],
   "source": [
    "graph_constellations = Graph()\n",
    "graph_constellations.parse(\"final_datasets/constellations_NoDuplicatePublisher.ttl\", format=\"turtle\")"
   ]
  },
  {
   "cell_type": "code",
   "execution_count": 6,
   "metadata": {},
   "outputs": [
    {
     "name": "stdout",
     "output_type": "stream",
     "text": [
      " no valid isbn\n",
      " no valid isbn\n",
      " no valid isbn\n",
      " no valid isbn\n",
      " no valid isbn\n",
      " no valid isbn\n",
      " no valid isbn\n",
      " no valid isbn\n",
      " no valid isbn\n",
      " no valid isbn\n",
      " no valid isbn\n",
      " no valid isbn\n",
      " no valid isbn\n",
      " no valid isbn\n",
      " no valid isbn\n",
      " no valid isbn\n",
      " no valid isbn\n",
      " no valid isbn\n",
      " no valid isbn\n",
      " no valid isbn\n",
      " no valid isbn\n",
      " no valid isbn\n",
      " no valid isbn\n",
      " no valid isbn\n",
      " no valid isbn\n",
      " no valid isbn\n",
      " no valid isbn\n",
      " no valid isbn\n",
      " no valid isbn\n",
      " no valid isbn\n",
      " no valid isbn\n",
      " no valid isbn\n",
      " no valid isbn\n",
      " no valid isbn\n",
      " no valid isbn\n",
      " no valid isbn\n",
      " no valid isbn\n",
      " no valid isbn\n",
      " no valid isbn\n",
      " no valid isbn\n",
      " no valid isbn\n",
      " no valid isbn\n",
      " no valid isbn\n",
      " no valid isbn\n",
      " no valid isbn\n",
      " no valid isbn\n",
      " no valid isbn\n",
      " no valid isbn\n",
      " no valid isbn\n",
      " no valid isbn\n"
     ]
    }
   ],
   "source": [
    "for constellations_book in graph_constellations.subjects(RDF.type, utils.schema.Book):\n",
    "    book_data = utils.extract_data_bnf(graph_constellations, constellations_book)\n",
    "    isbn = book_data.isbn\n",
    "\n",
    "    if len(isbn) == 9:\n",
    "        isbn = sbn_to_isbn10(isbn)\n",
    "    \n",
    "    valid_isbn13 = isbnlib.to_isbn13(isbn)\n",
    "    if valid_isbn13:\n",
    "        graph_constellations.add((constellations_book, utils.pbs.validISBN13, Literal(valid_isbn13)))\n",
    "    else:\n",
    "        print(\" no valid isbn\")\n",
    "\n"
   ]
  },
  {
   "cell_type": "code",
   "execution_count": 7,
   "metadata": {},
   "outputs": [],
   "source": [
    "fichier = open(\"../final_datasets/constellations_cleanISBN13.ttl\",\"wb\")\n",
    "graph_constellations.serialize(fichier) \n",
    "fichier.close()"
   ]
  },
  {
   "cell_type": "markdown",
   "metadata": {},
   "source": [
    "# tests metadata fetching of isbnlib"
   ]
  },
  {
   "cell_type": "code",
   "execution_count": 5,
   "metadata": {},
   "outputs": [
    {
     "data": {
      "text/plain": [
       "{'ISBN-13': '9782012006041',\n",
       " 'Title': 'Tu ne voleras pas',\n",
       " 'Authors': ['Donner, Christophe'],\n",
       " 'Publisher': 'Hachette Jeunesse (Paris)',\n",
       " 'Year': '2000',\n",
       " 'Language': 'fre'}"
      ]
     },
     "execution_count": 5,
     "metadata": {},
     "output_type": "execute_result"
    }
   ],
   "source": [
    "isbnlib.meta(\"2012006043\", service='bnf')"
   ]
  },
  {
   "cell_type": "code",
   "execution_count": 3,
   "metadata": {},
   "outputs": [
    {
     "data": {
      "text/plain": [
       "{'ISBN-13': '9782383490456',\n",
       " 'Title': 'Kidnapping à Bombay',\n",
       " 'Authors': ['Pendule, Roseline'],\n",
       " 'Publisher': 'Gulf stream éditeur (Nantes)',\n",
       " 'Year': '2023',\n",
       " 'Language': 'fre'}"
      ]
     },
     "execution_count": 3,
     "metadata": {},
     "output_type": "execute_result"
    }
   ],
   "source": [
    "isbnlib.meta(\"9782383490456\", service = 'bnf')"
   ]
  },
  {
   "cell_type": "code",
   "execution_count": 4,
   "metadata": {},
   "outputs": [
    {
     "data": {
      "text/plain": [
       "{'ISBN-13': '9782203242111',\n",
       " 'Title': 'Un nouveau rival',\n",
       " 'Authors': ['Gray, Annelise'],\n",
       " 'Publisher': 'Casterman (Bruxelles)',\n",
       " 'Year': '2023',\n",
       " 'Language': 'fre'}"
      ]
     },
     "execution_count": 4,
     "metadata": {},
     "output_type": "execute_result"
    }
   ],
   "source": [
    "isbnlib.meta(\"9782203242111\", service = 'bnf')"
   ]
  },
  {
   "cell_type": "code",
   "execution_count": 12,
   "metadata": {},
   "outputs": [
    {
     "data": {
      "text/plain": [
       "'9782908136661'"
      ]
     },
     "execution_count": 12,
     "metadata": {},
     "output_type": "execute_result"
    }
   ],
   "source": [
    "isbnlib.isbn_from_words(\"chateau de sable\")"
   ]
  },
  {
   "cell_type": "code",
   "execution_count": 14,
   "metadata": {},
   "outputs": [
    {
     "data": {
      "text/plain": [
       "{'ISBN-13': '9782908136661',\n",
       " 'Title': 'Un château de sable - récit',\n",
       " 'Authors': ['Jean-Paul de Sauw'],\n",
       " 'Publisher': '',\n",
       " 'Year': '1993',\n",
       " 'Language': 'fr'}"
      ]
     },
     "execution_count": 14,
     "metadata": {},
     "output_type": "execute_result"
    }
   ],
   "source": [
    "isbnlib.meta(\"9782908136661\")"
   ]
  },
  {
   "cell_type": "code",
   "execution_count": 16,
   "metadata": {},
   "outputs": [
    {
     "data": {
      "text/plain": [
       "''"
      ]
     },
     "execution_count": 16,
     "metadata": {},
     "output_type": "execute_result"
    }
   ],
   "source": [
    "isbnlib.desc(\"9782908136661\")\n",
    "# peut ameliorer desc pour pull de bnf"
   ]
  },
  {
   "cell_type": "code",
   "execution_count": 26,
   "metadata": {},
   "outputs": [
    {
     "data": {
      "text/plain": [
       "{'ISBN-13': '9791023506297',\n",
       " 'Title': 'Bouh ! : le livre qui fait le plus peur du monde',\n",
       " 'Authors': ['Louchard, Antonin'],\n",
       " 'Publisher': 'Seuil jeunesse (Paris)',\n",
       " 'Year': '2016',\n",
       " 'Language': 'fre'}"
      ]
     },
     "execution_count": 26,
     "metadata": {},
     "output_type": "execute_result"
    }
   ],
   "source": [
    "isbnlib.meta(\"9791023506297\", service='bnf')"
   ]
  },
  {
   "cell_type": "code",
   "execution_count": 28,
   "metadata": {},
   "outputs": [
    {
     "data": {
      "text/plain": [
       "\"Dans ce nouvel album d'Antonin Louchard, le lecteur est accueilli par un\\npetit fantôme bien décidé à lui faire peur. En vain. Mais il réussira tout\\nde même à lui arracher un sursaut... Non ? Un frisson alors ? Toujours pas\\n? A court d'idées et vexé comme un pou, le petit fantôme est sauvé par le\\ngong. Car oui, les fantômes sont comme tout le monde, ils vont à l'école,\\nfont leurs devoirs et doivent écouter leur maman quand elle les appelle\\npour manger. Mais ce n'est que partie remise !\""
      ]
     },
     "execution_count": 28,
     "metadata": {},
     "output_type": "execute_result"
    }
   ],
   "source": [
    "isbnlib.desc(\"9791023506297\")"
   ]
  },
  {
   "cell_type": "code",
   "execution_count": 25,
   "metadata": {},
   "outputs": [
    {
     "data": {
      "text/plain": [
       "{}"
      ]
     },
     "execution_count": 25,
     "metadata": {},
     "output_type": "execute_result"
    }
   ],
   "source": [
    "isbnlib.cover(\"9791023506297\")"
   ]
  },
  {
   "cell_type": "code",
   "execution_count": 37,
   "metadata": {},
   "outputs": [
    {
     "data": {
      "text/plain": [
       "\"Ca fait cinq ans qu'ils en rêvent : à leur majorité, Maxime et Patrice\\nquitteront leur banlieue et partiront pour une île. Tout est minutieusement\\npréparé. Mais à quelques jours du départ, Patrice est impliqué dans une\\nhistoire de vol et victime d'un chantage...\""
      ]
     },
     "execution_count": 37,
     "metadata": {},
     "output_type": "execute_result"
    }
   ],
   "source": [
    "isbnlib.desc(\"2748501721\")"
   ]
  },
  {
   "cell_type": "code",
   "execution_count": 10,
   "metadata": {},
   "outputs": [
    {
     "ename": "ISBNLibHTTPError",
     "evalue": "an HTTP error has ocurred (403 Are you making many requests?)",
     "output_type": "error",
     "traceback": [
      "\u001b[1;31m---------------------------------------------------------------------------\u001b[0m",
      "\u001b[1;31mHTTPError\u001b[0m                                 Traceback (most recent call last)",
      "File \u001b[1;32m~\\AppData\\Local\\Packages\\PythonSoftwareFoundation.Python.3.11_qbz5n2kfra8p0\\LocalCache\\local-packages\\Python311\\site-packages\\isbnlib\\dev\\webservice.py:56\u001b[0m, in \u001b[0;36mWEBService.response\u001b[1;34m(self)\u001b[0m\n\u001b[0;32m     55\u001b[0m \u001b[39mtry\u001b[39;00m:\n\u001b[1;32m---> 56\u001b[0m     response \u001b[39m=\u001b[39m urlopen(\n\u001b[0;32m     57\u001b[0m         \u001b[39mself\u001b[39;49m\u001b[39m.\u001b[39;49m_request,\n\u001b[0;32m     58\u001b[0m         timeout\u001b[39m=\u001b[39;49moptions\u001b[39m.\u001b[39;49mget(\u001b[39m'\u001b[39;49m\u001b[39mURLOPEN_TIMEOUT\u001b[39;49m\u001b[39m'\u001b[39;49m),\n\u001b[0;32m     59\u001b[0m     )\n\u001b[0;32m     60\u001b[0m     LOGGER\u001b[39m.\u001b[39mdebug(\u001b[39m'\u001b[39m\u001b[39mRequest headers:\u001b[39m\u001b[39m\\n\u001b[39;00m\u001b[39m%s\u001b[39;00m\u001b[39m'\u001b[39m, \u001b[39mself\u001b[39m\u001b[39m.\u001b[39m_request\u001b[39m.\u001b[39mheader_items())\n",
      "File \u001b[1;32mC:\\Program Files\\WindowsApps\\PythonSoftwareFoundation.Python.3.11_3.11.1776.0_x64__qbz5n2kfra8p0\\Lib\\urllib\\request.py:216\u001b[0m, in \u001b[0;36murlopen\u001b[1;34m(url, data, timeout, cafile, capath, cadefault, context)\u001b[0m\n\u001b[0;32m    215\u001b[0m     opener \u001b[39m=\u001b[39m _opener\n\u001b[1;32m--> 216\u001b[0m \u001b[39mreturn\u001b[39;00m opener\u001b[39m.\u001b[39;49mopen(url, data, timeout)\n",
      "File \u001b[1;32mC:\\Program Files\\WindowsApps\\PythonSoftwareFoundation.Python.3.11_3.11.1776.0_x64__qbz5n2kfra8p0\\Lib\\urllib\\request.py:525\u001b[0m, in \u001b[0;36mOpenerDirector.open\u001b[1;34m(self, fullurl, data, timeout)\u001b[0m\n\u001b[0;32m    524\u001b[0m     meth \u001b[39m=\u001b[39m \u001b[39mgetattr\u001b[39m(processor, meth_name)\n\u001b[1;32m--> 525\u001b[0m     response \u001b[39m=\u001b[39m meth(req, response)\n\u001b[0;32m    527\u001b[0m \u001b[39mreturn\u001b[39;00m response\n",
      "File \u001b[1;32mC:\\Program Files\\WindowsApps\\PythonSoftwareFoundation.Python.3.11_3.11.1776.0_x64__qbz5n2kfra8p0\\Lib\\urllib\\request.py:634\u001b[0m, in \u001b[0;36mHTTPErrorProcessor.http_response\u001b[1;34m(self, request, response)\u001b[0m\n\u001b[0;32m    633\u001b[0m \u001b[39mif\u001b[39;00m \u001b[39mnot\u001b[39;00m (\u001b[39m200\u001b[39m \u001b[39m<\u001b[39m\u001b[39m=\u001b[39m code \u001b[39m<\u001b[39m \u001b[39m300\u001b[39m):\n\u001b[1;32m--> 634\u001b[0m     response \u001b[39m=\u001b[39m \u001b[39mself\u001b[39;49m\u001b[39m.\u001b[39;49mparent\u001b[39m.\u001b[39;49merror(\n\u001b[0;32m    635\u001b[0m         \u001b[39m'\u001b[39;49m\u001b[39mhttp\u001b[39;49m\u001b[39m'\u001b[39;49m, request, response, code, msg, hdrs)\n\u001b[0;32m    637\u001b[0m \u001b[39mreturn\u001b[39;00m response\n",
      "File \u001b[1;32mC:\\Program Files\\WindowsApps\\PythonSoftwareFoundation.Python.3.11_3.11.1776.0_x64__qbz5n2kfra8p0\\Lib\\urllib\\request.py:563\u001b[0m, in \u001b[0;36mOpenerDirector.error\u001b[1;34m(self, proto, *args)\u001b[0m\n\u001b[0;32m    562\u001b[0m args \u001b[39m=\u001b[39m (\u001b[39mdict\u001b[39m, \u001b[39m'\u001b[39m\u001b[39mdefault\u001b[39m\u001b[39m'\u001b[39m, \u001b[39m'\u001b[39m\u001b[39mhttp_error_default\u001b[39m\u001b[39m'\u001b[39m) \u001b[39m+\u001b[39m orig_args\n\u001b[1;32m--> 563\u001b[0m \u001b[39mreturn\u001b[39;00m \u001b[39mself\u001b[39;49m\u001b[39m.\u001b[39;49m_call_chain(\u001b[39m*\u001b[39;49margs)\n",
      "File \u001b[1;32mC:\\Program Files\\WindowsApps\\PythonSoftwareFoundation.Python.3.11_3.11.1776.0_x64__qbz5n2kfra8p0\\Lib\\urllib\\request.py:496\u001b[0m, in \u001b[0;36mOpenerDirector._call_chain\u001b[1;34m(self, chain, kind, meth_name, *args)\u001b[0m\n\u001b[0;32m    495\u001b[0m func \u001b[39m=\u001b[39m \u001b[39mgetattr\u001b[39m(handler, meth_name)\n\u001b[1;32m--> 496\u001b[0m result \u001b[39m=\u001b[39m func(\u001b[39m*\u001b[39;49margs)\n\u001b[0;32m    497\u001b[0m \u001b[39mif\u001b[39;00m result \u001b[39mis\u001b[39;00m \u001b[39mnot\u001b[39;00m \u001b[39mNone\u001b[39;00m:\n",
      "File \u001b[1;32mC:\\Program Files\\WindowsApps\\PythonSoftwareFoundation.Python.3.11_3.11.1776.0_x64__qbz5n2kfra8p0\\Lib\\urllib\\request.py:643\u001b[0m, in \u001b[0;36mHTTPDefaultErrorHandler.http_error_default\u001b[1;34m(self, req, fp, code, msg, hdrs)\u001b[0m\n\u001b[0;32m    642\u001b[0m \u001b[39mdef\u001b[39;00m \u001b[39mhttp_error_default\u001b[39m(\u001b[39mself\u001b[39m, req, fp, code, msg, hdrs):\n\u001b[1;32m--> 643\u001b[0m     \u001b[39mraise\u001b[39;00m HTTPError(req\u001b[39m.\u001b[39mfull_url, code, msg, hdrs, fp)\n",
      "\u001b[1;31mHTTPError\u001b[0m: HTTP Error 403: Forbidden",
      "\nDuring handling of the above exception, another exception occurred:\n",
      "\u001b[1;31mISBNLibHTTPError\u001b[0m                          Traceback (most recent call last)",
      "\u001b[1;32mc:\\Users\\dre\\Documents\\Books-Python\\notebooks\\append_ean_to_isbn_bnf.ipynb Cell 12\u001b[0m line \u001b[0;36m1\n\u001b[1;32m----> <a href='vscode-notebook-cell:/c%3A/Users/dre/Documents/Books-Python/notebooks/append_ean_to_isbn_bnf.ipynb#X13sZmlsZQ%3D%3D?line=0'>1</a>\u001b[0m isbnlib\u001b[39m.\u001b[39;49mclassify(\u001b[39m\"\u001b[39;49m\u001b[39m9782012006041\u001b[39;49m\u001b[39m\"\u001b[39;49m)\n",
      "File \u001b[1;32m~\\AppData\\Local\\Packages\\PythonSoftwareFoundation.Python.3.11_qbz5n2kfra8p0\\LocalCache\\local-packages\\Python311\\site-packages\\isbnlib\\dev\\_decorators.py:27\u001b[0m, in \u001b[0;36mcache.<locals>.memoized_func\u001b[1;34m(*args, **kwargs)\u001b[0m\n\u001b[0;32m     25\u001b[0m     \u001b[39mreturn\u001b[39;00m cch[key]\n\u001b[0;32m     26\u001b[0m \u001b[39melse\u001b[39;00m:\n\u001b[1;32m---> 27\u001b[0m     value \u001b[39m=\u001b[39m func(\u001b[39m*\u001b[39;49margs, \u001b[39m*\u001b[39;49m\u001b[39m*\u001b[39;49mkwargs)\n\u001b[0;32m     28\u001b[0m     \u001b[39mif\u001b[39;00m value:\n\u001b[0;32m     29\u001b[0m         cch[key] \u001b[39m=\u001b[39m value\n",
      "File \u001b[1;32m~\\AppData\\Local\\Packages\\PythonSoftwareFoundation.Python.3.11_qbz5n2kfra8p0\\LocalCache\\local-packages\\Python311\\site-packages\\isbnlib\\_oclc.py:92\u001b[0m, in \u001b[0;36mquery_classify\u001b[1;34m(isbn)\u001b[0m\n\u001b[0;32m     89\u001b[0m \u001b[39m@cache\u001b[39m\n\u001b[0;32m     90\u001b[0m \u001b[39mdef\u001b[39;00m \u001b[39mquery_classify\u001b[39m(isbn):\n\u001b[0;32m     91\u001b[0m \u001b[39m    \u001b[39m\u001b[39m\"\"\"Query the classify.oclc service for classifiers.\"\"\"\u001b[39;00m\n\u001b[1;32m---> 92\u001b[0m     \u001b[39mreturn\u001b[39;00m (wquery(\n\u001b[0;32m     93\u001b[0m         SERVICE_URL\u001b[39m.\u001b[39;49mformat(isbn\u001b[39m=\u001b[39;49misbn),\n\u001b[0;32m     94\u001b[0m         user_agent\u001b[39m=\u001b[39;49mUA,\n\u001b[0;32m     95\u001b[0m         data_checker\u001b[39m=\u001b[39;49mdata_checker,\n\u001b[0;32m     96\u001b[0m         parser\u001b[39m=\u001b[39;49mparser,\n\u001b[0;32m     97\u001b[0m     ) \u001b[39mor\u001b[39;00m {})\n",
      "File \u001b[1;32m~\\AppData\\Local\\Packages\\PythonSoftwareFoundation.Python.3.11_qbz5n2kfra8p0\\LocalCache\\local-packages\\Python311\\site-packages\\isbnlib\\dev\\webquery.py:65\u001b[0m, in \u001b[0;36mquery\u001b[1;34m(url, user_agent, data_checker, parser, throttling)\u001b[0m\n\u001b[0;32m     57\u001b[0m \u001b[39mdef\u001b[39;00m \u001b[39mquery\u001b[39m(\n\u001b[0;32m     58\u001b[0m     url,\n\u001b[0;32m     59\u001b[0m     user_agent\u001b[39m=\u001b[39mUA,\n\u001b[1;32m   (...)\u001b[0m\n\u001b[0;32m     62\u001b[0m     throttling\u001b[39m=\u001b[39mTHROTTLING,\n\u001b[0;32m     63\u001b[0m ):\n\u001b[0;32m     64\u001b[0m \u001b[39m    \u001b[39m\u001b[39m\"\"\"Put call and return the data from the web service.\"\"\"\u001b[39;00m\n\u001b[1;32m---> 65\u001b[0m     wq \u001b[39m=\u001b[39m WEBQuery(url, user_agent, throttling)\n\u001b[0;32m     66\u001b[0m     \u001b[39mreturn\u001b[39;00m wq\u001b[39m.\u001b[39mparse_data(parser) \u001b[39mif\u001b[39;00m wq\u001b[39m.\u001b[39mcheck_data(data_checker) \u001b[39melse\u001b[39;00m {}\n",
      "File \u001b[1;32m~\\AppData\\Local\\Packages\\PythonSoftwareFoundation.Python.3.11_qbz5n2kfra8p0\\LocalCache\\local-packages\\Python311\\site-packages\\isbnlib\\dev\\webquery.py:32\u001b[0m, in \u001b[0;36mWEBQuery.__init__\u001b[1;34m(self, service_url, ua, throttling)\u001b[0m\n\u001b[0;32m     30\u001b[0m sleep(wait)\n\u001b[0;32m     31\u001b[0m \u001b[39mself\u001b[39m\u001b[39m.\u001b[39murl \u001b[39m=\u001b[39m service_url\n\u001b[1;32m---> 32\u001b[0m \u001b[39mself\u001b[39m\u001b[39m.\u001b[39mdata \u001b[39m=\u001b[39m webservice\u001b[39m.\u001b[39;49mquery(service_url, ua)\n\u001b[0;32m     33\u001b[0m WEBQuery\u001b[39m.\u001b[39mT[srv] \u001b[39m=\u001b[39m timestamp()\n",
      "File \u001b[1;32m~\\AppData\\Local\\Packages\\PythonSoftwareFoundation.Python.3.11_qbz5n2kfra8p0\\LocalCache\\local-packages\\Python311\\site-packages\\isbnlib\\dev\\_decorators.py:47\u001b[0m, in \u001b[0;36mimcache.<locals>.memoized_func\u001b[1;34m(*args, **kwargs)\u001b[0m\n\u001b[0;32m     45\u001b[0m     \u001b[39mreturn\u001b[39;00m cch[key]\n\u001b[0;32m     46\u001b[0m \u001b[39melse\u001b[39;00m:\n\u001b[1;32m---> 47\u001b[0m     value \u001b[39m=\u001b[39m func(\u001b[39m*\u001b[39;49margs, \u001b[39m*\u001b[39;49m\u001b[39m*\u001b[39;49mkwargs)\n\u001b[0;32m     48\u001b[0m     \u001b[39mif\u001b[39;00m value:\n\u001b[0;32m     49\u001b[0m         cch[key] \u001b[39m=\u001b[39m value\n",
      "File \u001b[1;32m~\\AppData\\Local\\Packages\\PythonSoftwareFoundation.Python.3.11_qbz5n2kfra8p0\\LocalCache\\local-packages\\Python311\\site-packages\\isbnlib\\dev\\webservice.py:113\u001b[0m, in \u001b[0;36mquery\u001b[1;34m(url, user_agent, values, appheaders)\u001b[0m\n\u001b[0;32m    106\u001b[0m \u001b[39m\u001b[39m\u001b[39m\"\"\"Query to a web service.\"\"\"\u001b[39;00m\n\u001b[0;32m    107\u001b[0m service \u001b[39m=\u001b[39m WEBService(\n\u001b[0;32m    108\u001b[0m     url,\n\u001b[0;32m    109\u001b[0m     user_agent\u001b[39m=\u001b[39muser_agent,\n\u001b[0;32m    110\u001b[0m     values\u001b[39m=\u001b[39mvalues,\n\u001b[0;32m    111\u001b[0m     appheaders\u001b[39m=\u001b[39mappheaders,\n\u001b[0;32m    112\u001b[0m )\n\u001b[1;32m--> 113\u001b[0m data \u001b[39m=\u001b[39m service\u001b[39m.\u001b[39;49mdata()\n\u001b[0;32m    114\u001b[0m LOGGER\u001b[39m.\u001b[39mdebug(\u001b[39m'\u001b[39m\u001b[39mRaw data from service:\u001b[39m\u001b[39m\\n\u001b[39;00m\u001b[39m%s\u001b[39;00m\u001b[39m'\u001b[39m, data)\n\u001b[0;32m    115\u001b[0m \u001b[39mreturn\u001b[39;00m data\n",
      "File \u001b[1;32m~\\AppData\\Local\\Packages\\PythonSoftwareFoundation.Python.3.11_qbz5n2kfra8p0\\LocalCache\\local-packages\\Python311\\site-packages\\isbnlib\\dev\\webservice.py:93\u001b[0m, in \u001b[0;36mWEBService.data\u001b[1;34m(self)\u001b[0m\n\u001b[0;32m     91\u001b[0m \u001b[39mdef\u001b[39;00m \u001b[39mdata\u001b[39m(\u001b[39mself\u001b[39m):\n\u001b[0;32m     92\u001b[0m \u001b[39m    \u001b[39m\u001b[39m\"\"\"Return the uncompressed data.\"\"\"\u001b[39;00m\n\u001b[1;32m---> 93\u001b[0m     res \u001b[39m=\u001b[39m \u001b[39mself\u001b[39;49m\u001b[39m.\u001b[39;49mresponse()\n\u001b[0;32m     94\u001b[0m     LOGGER\u001b[39m.\u001b[39mdebug(\u001b[39m'\u001b[39m\u001b[39mResponse headers:\u001b[39m\u001b[39m\\n\u001b[39;00m\u001b[39m%s\u001b[39;00m\u001b[39m'\u001b[39m, res\u001b[39m.\u001b[39minfo())\n\u001b[0;32m     95\u001b[0m     \u001b[39mif\u001b[39;00m res\u001b[39m.\u001b[39minfo()\u001b[39m.\u001b[39mget(\u001b[39m'\u001b[39m\u001b[39mContent-Encoding\u001b[39m\u001b[39m'\u001b[39m) \u001b[39m==\u001b[39m \u001b[39m'\u001b[39m\u001b[39mgzip\u001b[39m\u001b[39m'\u001b[39m:\n",
      "File \u001b[1;32m~\\AppData\\Local\\Packages\\PythonSoftwareFoundation.Python.3.11_qbz5n2kfra8p0\\LocalCache\\local-packages\\Python311\\site-packages\\isbnlib\\dev\\webservice.py:69\u001b[0m, in \u001b[0;36mWEBService.response\u001b[1;34m(self)\u001b[0m\n\u001b[0;32m     62\u001b[0m LOGGER\u001b[39m.\u001b[39mcritical(\n\u001b[0;32m     63\u001b[0m     \u001b[39m'\u001b[39m\u001b[39mISBNLibHTTPError for \u001b[39m\u001b[39m%s\u001b[39;00m\u001b[39m with code \u001b[39m\u001b[39m%s\u001b[39;00m\u001b[39m [\u001b[39m\u001b[39m%s\u001b[39;00m\u001b[39m]\u001b[39m\u001b[39m'\u001b[39m,\n\u001b[0;32m     64\u001b[0m     \u001b[39mself\u001b[39m\u001b[39m.\u001b[39m_url,\n\u001b[0;32m     65\u001b[0m     e\u001b[39m.\u001b[39mcode,\n\u001b[0;32m     66\u001b[0m     e\u001b[39m.\u001b[39mmsg,\n\u001b[0;32m     67\u001b[0m )\n\u001b[0;32m     68\u001b[0m \u001b[39mif\u001b[39;00m e\u001b[39m.\u001b[39mcode \u001b[39min\u001b[39;00m (\u001b[39m401\u001b[39m, \u001b[39m403\u001b[39m, \u001b[39m429\u001b[39m):\n\u001b[1;32m---> 69\u001b[0m     \u001b[39mraise\u001b[39;00m ISBNLibHTTPError(\u001b[39m'\u001b[39m\u001b[39m%s\u001b[39;00m\u001b[39m Are you making many requests?\u001b[39m\u001b[39m'\u001b[39m \u001b[39m%\u001b[39m\n\u001b[0;32m     70\u001b[0m                            e\u001b[39m.\u001b[39mcode)\n\u001b[0;32m     71\u001b[0m \u001b[39mif\u001b[39;00m e\u001b[39m.\u001b[39mcode \u001b[39min\u001b[39;00m (\u001b[39m502\u001b[39m, \u001b[39m504\u001b[39m):\n\u001b[0;32m     72\u001b[0m     \u001b[39mraise\u001b[39;00m ISBNLibHTTPError(\u001b[39m'\u001b[39m\u001b[39m%s\u001b[39;00m\u001b[39m Service temporarily unavailable!\u001b[39m\u001b[39m'\u001b[39m \u001b[39m%\u001b[39m\n\u001b[0;32m     73\u001b[0m                            e\u001b[39m.\u001b[39mcode)\n",
      "\u001b[1;31mISBNLibHTTPError\u001b[0m: an HTTP error has ocurred (403 Are you making many requests?)"
     ]
    }
   ],
   "source": [
    "isbnlib.classify(\"9782012006041\")"
   ]
  },
  {
   "cell_type": "code",
   "execution_count": 40,
   "metadata": {},
   "outputs": [
    {
     "data": {
      "text/plain": [
       "{}"
      ]
     },
     "execution_count": 40,
     "metadata": {},
     "output_type": "execute_result"
    }
   ],
   "source": [
    "isbnlib.cover(\"2748501721\")"
   ]
  },
  {
   "cell_type": "code",
   "execution_count": 41,
   "metadata": {},
   "outputs": [
    {
     "ename": "ISBNLibHTTPError",
     "evalue": "an HTTP error has ocurred ((404) Not Found)",
     "output_type": "error",
     "traceback": [
      "\u001b[1;31m---------------------------------------------------------------------------\u001b[0m",
      "\u001b[1;31mHTTPError\u001b[0m                                 Traceback (most recent call last)",
      "File \u001b[1;32m~\\AppData\\Local\\Packages\\PythonSoftwareFoundation.Python.3.11_qbz5n2kfra8p0\\LocalCache\\local-packages\\Python311\\site-packages\\isbnlib\\dev\\webservice.py:56\u001b[0m, in \u001b[0;36mWEBService.response\u001b[1;34m(self)\u001b[0m\n\u001b[0;32m     55\u001b[0m \u001b[39mtry\u001b[39;00m:\n\u001b[1;32m---> 56\u001b[0m     response \u001b[39m=\u001b[39m urlopen(\n\u001b[0;32m     57\u001b[0m         \u001b[39mself\u001b[39;49m\u001b[39m.\u001b[39;49m_request,\n\u001b[0;32m     58\u001b[0m         timeout\u001b[39m=\u001b[39;49moptions\u001b[39m.\u001b[39;49mget(\u001b[39m'\u001b[39;49m\u001b[39mURLOPEN_TIMEOUT\u001b[39;49m\u001b[39m'\u001b[39;49m),\n\u001b[0;32m     59\u001b[0m     )\n\u001b[0;32m     60\u001b[0m     LOGGER\u001b[39m.\u001b[39mdebug(\u001b[39m'\u001b[39m\u001b[39mRequest headers:\u001b[39m\u001b[39m\\n\u001b[39;00m\u001b[39m%s\u001b[39;00m\u001b[39m'\u001b[39m, \u001b[39mself\u001b[39m\u001b[39m.\u001b[39m_request\u001b[39m.\u001b[39mheader_items())\n",
      "File \u001b[1;32mC:\\Program Files\\WindowsApps\\PythonSoftwareFoundation.Python.3.11_3.11.1776.0_x64__qbz5n2kfra8p0\\Lib\\urllib\\request.py:216\u001b[0m, in \u001b[0;36murlopen\u001b[1;34m(url, data, timeout, cafile, capath, cadefault, context)\u001b[0m\n\u001b[0;32m    215\u001b[0m     opener \u001b[39m=\u001b[39m _opener\n\u001b[1;32m--> 216\u001b[0m \u001b[39mreturn\u001b[39;00m opener\u001b[39m.\u001b[39;49mopen(url, data, timeout)\n",
      "File \u001b[1;32mC:\\Program Files\\WindowsApps\\PythonSoftwareFoundation.Python.3.11_3.11.1776.0_x64__qbz5n2kfra8p0\\Lib\\urllib\\request.py:525\u001b[0m, in \u001b[0;36mOpenerDirector.open\u001b[1;34m(self, fullurl, data, timeout)\u001b[0m\n\u001b[0;32m    524\u001b[0m     meth \u001b[39m=\u001b[39m \u001b[39mgetattr\u001b[39m(processor, meth_name)\n\u001b[1;32m--> 525\u001b[0m     response \u001b[39m=\u001b[39m meth(req, response)\n\u001b[0;32m    527\u001b[0m \u001b[39mreturn\u001b[39;00m response\n",
      "File \u001b[1;32mC:\\Program Files\\WindowsApps\\PythonSoftwareFoundation.Python.3.11_3.11.1776.0_x64__qbz5n2kfra8p0\\Lib\\urllib\\request.py:634\u001b[0m, in \u001b[0;36mHTTPErrorProcessor.http_response\u001b[1;34m(self, request, response)\u001b[0m\n\u001b[0;32m    633\u001b[0m \u001b[39mif\u001b[39;00m \u001b[39mnot\u001b[39;00m (\u001b[39m200\u001b[39m \u001b[39m<\u001b[39m\u001b[39m=\u001b[39m code \u001b[39m<\u001b[39m \u001b[39m300\u001b[39m):\n\u001b[1;32m--> 634\u001b[0m     response \u001b[39m=\u001b[39m \u001b[39mself\u001b[39;49m\u001b[39m.\u001b[39;49mparent\u001b[39m.\u001b[39;49merror(\n\u001b[0;32m    635\u001b[0m         \u001b[39m'\u001b[39;49m\u001b[39mhttp\u001b[39;49m\u001b[39m'\u001b[39;49m, request, response, code, msg, hdrs)\n\u001b[0;32m    637\u001b[0m \u001b[39mreturn\u001b[39;00m response\n",
      "File \u001b[1;32mC:\\Program Files\\WindowsApps\\PythonSoftwareFoundation.Python.3.11_3.11.1776.0_x64__qbz5n2kfra8p0\\Lib\\urllib\\request.py:557\u001b[0m, in \u001b[0;36mOpenerDirector.error\u001b[1;34m(self, proto, *args)\u001b[0m\n\u001b[0;32m    556\u001b[0m args \u001b[39m=\u001b[39m (\u001b[39mdict\u001b[39m, proto, meth_name) \u001b[39m+\u001b[39m args\n\u001b[1;32m--> 557\u001b[0m result \u001b[39m=\u001b[39m \u001b[39mself\u001b[39;49m\u001b[39m.\u001b[39;49m_call_chain(\u001b[39m*\u001b[39;49margs)\n\u001b[0;32m    558\u001b[0m \u001b[39mif\u001b[39;00m result:\n",
      "File \u001b[1;32mC:\\Program Files\\WindowsApps\\PythonSoftwareFoundation.Python.3.11_3.11.1776.0_x64__qbz5n2kfra8p0\\Lib\\urllib\\request.py:496\u001b[0m, in \u001b[0;36mOpenerDirector._call_chain\u001b[1;34m(self, chain, kind, meth_name, *args)\u001b[0m\n\u001b[0;32m    495\u001b[0m func \u001b[39m=\u001b[39m \u001b[39mgetattr\u001b[39m(handler, meth_name)\n\u001b[1;32m--> 496\u001b[0m result \u001b[39m=\u001b[39m func(\u001b[39m*\u001b[39;49margs)\n\u001b[0;32m    497\u001b[0m \u001b[39mif\u001b[39;00m result \u001b[39mis\u001b[39;00m \u001b[39mnot\u001b[39;00m \u001b[39mNone\u001b[39;00m:\n",
      "File \u001b[1;32mC:\\Program Files\\WindowsApps\\PythonSoftwareFoundation.Python.3.11_3.11.1776.0_x64__qbz5n2kfra8p0\\Lib\\urllib\\request.py:749\u001b[0m, in \u001b[0;36mHTTPRedirectHandler.http_error_302\u001b[1;34m(self, req, fp, code, msg, headers)\u001b[0m\n\u001b[0;32m    747\u001b[0m fp\u001b[39m.\u001b[39mclose()\n\u001b[1;32m--> 749\u001b[0m \u001b[39mreturn\u001b[39;00m \u001b[39mself\u001b[39;49m\u001b[39m.\u001b[39;49mparent\u001b[39m.\u001b[39;49mopen(new, timeout\u001b[39m=\u001b[39;49mreq\u001b[39m.\u001b[39;49mtimeout)\n",
      "File \u001b[1;32mC:\\Program Files\\WindowsApps\\PythonSoftwareFoundation.Python.3.11_3.11.1776.0_x64__qbz5n2kfra8p0\\Lib\\urllib\\request.py:525\u001b[0m, in \u001b[0;36mOpenerDirector.open\u001b[1;34m(self, fullurl, data, timeout)\u001b[0m\n\u001b[0;32m    524\u001b[0m     meth \u001b[39m=\u001b[39m \u001b[39mgetattr\u001b[39m(processor, meth_name)\n\u001b[1;32m--> 525\u001b[0m     response \u001b[39m=\u001b[39m meth(req, response)\n\u001b[0;32m    527\u001b[0m \u001b[39mreturn\u001b[39;00m response\n",
      "File \u001b[1;32mC:\\Program Files\\WindowsApps\\PythonSoftwareFoundation.Python.3.11_3.11.1776.0_x64__qbz5n2kfra8p0\\Lib\\urllib\\request.py:634\u001b[0m, in \u001b[0;36mHTTPErrorProcessor.http_response\u001b[1;34m(self, request, response)\u001b[0m\n\u001b[0;32m    633\u001b[0m \u001b[39mif\u001b[39;00m \u001b[39mnot\u001b[39;00m (\u001b[39m200\u001b[39m \u001b[39m<\u001b[39m\u001b[39m=\u001b[39m code \u001b[39m<\u001b[39m \u001b[39m300\u001b[39m):\n\u001b[1;32m--> 634\u001b[0m     response \u001b[39m=\u001b[39m \u001b[39mself\u001b[39;49m\u001b[39m.\u001b[39;49mparent\u001b[39m.\u001b[39;49merror(\n\u001b[0;32m    635\u001b[0m         \u001b[39m'\u001b[39;49m\u001b[39mhttp\u001b[39;49m\u001b[39m'\u001b[39;49m, request, response, code, msg, hdrs)\n\u001b[0;32m    637\u001b[0m \u001b[39mreturn\u001b[39;00m response\n",
      "File \u001b[1;32mC:\\Program Files\\WindowsApps\\PythonSoftwareFoundation.Python.3.11_3.11.1776.0_x64__qbz5n2kfra8p0\\Lib\\urllib\\request.py:563\u001b[0m, in \u001b[0;36mOpenerDirector.error\u001b[1;34m(self, proto, *args)\u001b[0m\n\u001b[0;32m    562\u001b[0m args \u001b[39m=\u001b[39m (\u001b[39mdict\u001b[39m, \u001b[39m'\u001b[39m\u001b[39mdefault\u001b[39m\u001b[39m'\u001b[39m, \u001b[39m'\u001b[39m\u001b[39mhttp_error_default\u001b[39m\u001b[39m'\u001b[39m) \u001b[39m+\u001b[39m orig_args\n\u001b[1;32m--> 563\u001b[0m \u001b[39mreturn\u001b[39;00m \u001b[39mself\u001b[39;49m\u001b[39m.\u001b[39;49m_call_chain(\u001b[39m*\u001b[39;49margs)\n",
      "File \u001b[1;32mC:\\Program Files\\WindowsApps\\PythonSoftwareFoundation.Python.3.11_3.11.1776.0_x64__qbz5n2kfra8p0\\Lib\\urllib\\request.py:496\u001b[0m, in \u001b[0;36mOpenerDirector._call_chain\u001b[1;34m(self, chain, kind, meth_name, *args)\u001b[0m\n\u001b[0;32m    495\u001b[0m func \u001b[39m=\u001b[39m \u001b[39mgetattr\u001b[39m(handler, meth_name)\n\u001b[1;32m--> 496\u001b[0m result \u001b[39m=\u001b[39m func(\u001b[39m*\u001b[39;49margs)\n\u001b[0;32m    497\u001b[0m \u001b[39mif\u001b[39;00m result \u001b[39mis\u001b[39;00m \u001b[39mnot\u001b[39;00m \u001b[39mNone\u001b[39;00m:\n",
      "File \u001b[1;32mC:\\Program Files\\WindowsApps\\PythonSoftwareFoundation.Python.3.11_3.11.1776.0_x64__qbz5n2kfra8p0\\Lib\\urllib\\request.py:643\u001b[0m, in \u001b[0;36mHTTPDefaultErrorHandler.http_error_default\u001b[1;34m(self, req, fp, code, msg, hdrs)\u001b[0m\n\u001b[0;32m    642\u001b[0m \u001b[39mdef\u001b[39;00m \u001b[39mhttp_error_default\u001b[39m(\u001b[39mself\u001b[39m, req, fp, code, msg, hdrs):\n\u001b[1;32m--> 643\u001b[0m     \u001b[39mraise\u001b[39;00m HTTPError(req\u001b[39m.\u001b[39mfull_url, code, msg, hdrs, fp)\n",
      "\u001b[1;31mHTTPError\u001b[0m: HTTP Error 404: Not Found",
      "\nDuring handling of the above exception, another exception occurred:\n",
      "\u001b[1;31mISBNLibHTTPError\u001b[0m                          Traceback (most recent call last)",
      "\u001b[1;32mc:\\Users\\dre\\Documents\\Books-Python\\notebooks\\append_ean_to_isbn_bnf.ipynb Cell 15\u001b[0m line \u001b[0;36m1\n\u001b[1;32m----> <a href='vscode-notebook-cell:/c%3A/Users/dre/Documents/Books-Python/notebooks/append_ean_to_isbn_bnf.ipynb#X22sZmlsZQ%3D%3D?line=0'>1</a>\u001b[0m isbnlib\u001b[39m.\u001b[39;49mdoi2tex(\u001b[39m\"\u001b[39;49m\u001b[39m2748501721\u001b[39;49m\u001b[39m\"\u001b[39;49m)\n",
      "File \u001b[1;32m~\\AppData\\Local\\Packages\\PythonSoftwareFoundation.Python.3.11_qbz5n2kfra8p0\\LocalCache\\local-packages\\Python311\\site-packages\\isbnlib\\dev\\_decorators.py:27\u001b[0m, in \u001b[0;36mcache.<locals>.memoized_func\u001b[1;34m(*args, **kwargs)\u001b[0m\n\u001b[0;32m     25\u001b[0m     \u001b[39mreturn\u001b[39;00m cch[key]\n\u001b[0;32m     26\u001b[0m \u001b[39melse\u001b[39;00m:\n\u001b[1;32m---> 27\u001b[0m     value \u001b[39m=\u001b[39m func(\u001b[39m*\u001b[39;49margs, \u001b[39m*\u001b[39;49m\u001b[39m*\u001b[39;49mkwargs)\n\u001b[0;32m     28\u001b[0m     \u001b[39mif\u001b[39;00m value:\n\u001b[0;32m     29\u001b[0m         cch[key] \u001b[39m=\u001b[39m value\n",
      "File \u001b[1;32m~\\AppData\\Local\\Packages\\PythonSoftwareFoundation.Python.3.11_qbz5n2kfra8p0\\LocalCache\\local-packages\\Python311\\site-packages\\isbnlib\\_doitotex.py:18\u001b[0m, in \u001b[0;36mdoi2tex\u001b[1;34m(doi)\u001b[0m\n\u001b[0;32m     15\u001b[0m \u001b[39m@cache\u001b[39m\n\u001b[0;32m     16\u001b[0m \u001b[39mdef\u001b[39;00m \u001b[39mdoi2tex\u001b[39m(doi):\n\u001b[0;32m     17\u001b[0m \u001b[39m    \u001b[39m\u001b[39m\"\"\"Get the bibtex ref for doi.\"\"\"\u001b[39;00m\n\u001b[1;32m---> 18\u001b[0m     data \u001b[39m=\u001b[39m query(\n\u001b[0;32m     19\u001b[0m         URL\u001b[39m.\u001b[39;49mformat(DOI\u001b[39m=\u001b[39;49mdoi),\n\u001b[0;32m     20\u001b[0m         user_agent\u001b[39m=\u001b[39;49mUA,\n\u001b[0;32m     21\u001b[0m         appheaders\u001b[39m=\u001b[39;49m{\n\u001b[0;32m     22\u001b[0m             \u001b[39m'\u001b[39;49m\u001b[39mAccept\u001b[39;49m\u001b[39m'\u001b[39;49m: \u001b[39m'\u001b[39;49m\u001b[39mapplication/x-bibtex; charset=utf-8\u001b[39;49m\u001b[39m'\u001b[39;49m,\n\u001b[0;32m     23\u001b[0m         },\n\u001b[0;32m     24\u001b[0m     )  \u001b[39m# noqa  pragma: no cover\u001b[39;00m\n\u001b[0;32m     25\u001b[0m     \u001b[39mif\u001b[39;00m \u001b[39mnot\u001b[39;00m data:  \u001b[39m# pragma: no cover\u001b[39;00m\n\u001b[0;32m     26\u001b[0m         LOGGER\u001b[39m.\u001b[39mwarning(\u001b[39m'\u001b[39m\u001b[39mno data return for doi: \u001b[39m\u001b[39m%s\u001b[39;00m\u001b[39m'\u001b[39m, doi)\n",
      "File \u001b[1;32m~\\AppData\\Local\\Packages\\PythonSoftwareFoundation.Python.3.11_qbz5n2kfra8p0\\LocalCache\\local-packages\\Python311\\site-packages\\isbnlib\\dev\\_decorators.py:47\u001b[0m, in \u001b[0;36mimcache.<locals>.memoized_func\u001b[1;34m(*args, **kwargs)\u001b[0m\n\u001b[0;32m     45\u001b[0m     \u001b[39mreturn\u001b[39;00m cch[key]\n\u001b[0;32m     46\u001b[0m \u001b[39melse\u001b[39;00m:\n\u001b[1;32m---> 47\u001b[0m     value \u001b[39m=\u001b[39m func(\u001b[39m*\u001b[39;49margs, \u001b[39m*\u001b[39;49m\u001b[39m*\u001b[39;49mkwargs)\n\u001b[0;32m     48\u001b[0m     \u001b[39mif\u001b[39;00m value:\n\u001b[0;32m     49\u001b[0m         cch[key] \u001b[39m=\u001b[39m value\n",
      "File \u001b[1;32m~\\AppData\\Local\\Packages\\PythonSoftwareFoundation.Python.3.11_qbz5n2kfra8p0\\LocalCache\\local-packages\\Python311\\site-packages\\isbnlib\\dev\\webservice.py:113\u001b[0m, in \u001b[0;36mquery\u001b[1;34m(url, user_agent, values, appheaders)\u001b[0m\n\u001b[0;32m    106\u001b[0m \u001b[39m\u001b[39m\u001b[39m\"\"\"Query to a web service.\"\"\"\u001b[39;00m\n\u001b[0;32m    107\u001b[0m service \u001b[39m=\u001b[39m WEBService(\n\u001b[0;32m    108\u001b[0m     url,\n\u001b[0;32m    109\u001b[0m     user_agent\u001b[39m=\u001b[39muser_agent,\n\u001b[0;32m    110\u001b[0m     values\u001b[39m=\u001b[39mvalues,\n\u001b[0;32m    111\u001b[0m     appheaders\u001b[39m=\u001b[39mappheaders,\n\u001b[0;32m    112\u001b[0m )\n\u001b[1;32m--> 113\u001b[0m data \u001b[39m=\u001b[39m service\u001b[39m.\u001b[39;49mdata()\n\u001b[0;32m    114\u001b[0m LOGGER\u001b[39m.\u001b[39mdebug(\u001b[39m'\u001b[39m\u001b[39mRaw data from service:\u001b[39m\u001b[39m\\n\u001b[39;00m\u001b[39m%s\u001b[39;00m\u001b[39m'\u001b[39m, data)\n\u001b[0;32m    115\u001b[0m \u001b[39mreturn\u001b[39;00m data\n",
      "File \u001b[1;32m~\\AppData\\Local\\Packages\\PythonSoftwareFoundation.Python.3.11_qbz5n2kfra8p0\\LocalCache\\local-packages\\Python311\\site-packages\\isbnlib\\dev\\webservice.py:93\u001b[0m, in \u001b[0;36mWEBService.data\u001b[1;34m(self)\u001b[0m\n\u001b[0;32m     91\u001b[0m \u001b[39mdef\u001b[39;00m \u001b[39mdata\u001b[39m(\u001b[39mself\u001b[39m):\n\u001b[0;32m     92\u001b[0m \u001b[39m    \u001b[39m\u001b[39m\"\"\"Return the uncompressed data.\"\"\"\u001b[39;00m\n\u001b[1;32m---> 93\u001b[0m     res \u001b[39m=\u001b[39m \u001b[39mself\u001b[39;49m\u001b[39m.\u001b[39;49mresponse()\n\u001b[0;32m     94\u001b[0m     LOGGER\u001b[39m.\u001b[39mdebug(\u001b[39m'\u001b[39m\u001b[39mResponse headers:\u001b[39m\u001b[39m\\n\u001b[39;00m\u001b[39m%s\u001b[39;00m\u001b[39m'\u001b[39m, res\u001b[39m.\u001b[39minfo())\n\u001b[0;32m     95\u001b[0m     \u001b[39mif\u001b[39;00m res\u001b[39m.\u001b[39minfo()\u001b[39m.\u001b[39mget(\u001b[39m'\u001b[39m\u001b[39mContent-Encoding\u001b[39m\u001b[39m'\u001b[39m) \u001b[39m==\u001b[39m \u001b[39m'\u001b[39m\u001b[39mgzip\u001b[39m\u001b[39m'\u001b[39m:\n",
      "File \u001b[1;32m~\\AppData\\Local\\Packages\\PythonSoftwareFoundation.Python.3.11_qbz5n2kfra8p0\\LocalCache\\local-packages\\Python311\\site-packages\\isbnlib\\dev\\webservice.py:74\u001b[0m, in \u001b[0;36mWEBService.response\u001b[1;34m(self)\u001b[0m\n\u001b[0;32m     71\u001b[0m     \u001b[39mif\u001b[39;00m e\u001b[39m.\u001b[39mcode \u001b[39min\u001b[39;00m (\u001b[39m502\u001b[39m, \u001b[39m504\u001b[39m):\n\u001b[0;32m     72\u001b[0m         \u001b[39mraise\u001b[39;00m ISBNLibHTTPError(\u001b[39m'\u001b[39m\u001b[39m%s\u001b[39;00m\u001b[39m Service temporarily unavailable!\u001b[39m\u001b[39m'\u001b[39m \u001b[39m%\u001b[39m\n\u001b[0;32m     73\u001b[0m                                e\u001b[39m.\u001b[39mcode)\n\u001b[1;32m---> 74\u001b[0m     \u001b[39mraise\u001b[39;00m ISBNLibHTTPError(\u001b[39m'\u001b[39m\u001b[39m(\u001b[39m\u001b[39m%s\u001b[39;00m\u001b[39m) \u001b[39m\u001b[39m%s\u001b[39;00m\u001b[39m'\u001b[39m \u001b[39m%\u001b[39m (e\u001b[39m.\u001b[39mcode, e\u001b[39m.\u001b[39mmsg))\n\u001b[0;32m     75\u001b[0m \u001b[39mexcept\u001b[39;00m URLError \u001b[39mas\u001b[39;00m e:  \u001b[39m# pragma: no cover\u001b[39;00m\n\u001b[0;32m     76\u001b[0m     LOGGER\u001b[39m.\u001b[39mcritical(\n\u001b[0;32m     77\u001b[0m         \u001b[39m'\u001b[39m\u001b[39mISBNLibURLError for \u001b[39m\u001b[39m%s\u001b[39;00m\u001b[39m with reason \u001b[39m\u001b[39m%s\u001b[39;00m\u001b[39m'\u001b[39m,\n\u001b[0;32m     78\u001b[0m         \u001b[39mself\u001b[39m\u001b[39m.\u001b[39m_url,\n\u001b[0;32m     79\u001b[0m         e\u001b[39m.\u001b[39mreason,\n\u001b[0;32m     80\u001b[0m     )\n",
      "\u001b[1;31mISBNLibHTTPError\u001b[0m: an HTTP error has ocurred ((404) Not Found)"
     ]
    }
   ],
   "source": [
    "isbnlib.doi2tex(\"2748501721\")"
   ]
  },
  {
   "cell_type": "code",
   "execution_count": 22,
   "metadata": {},
   "outputs": [
    {
     "data": {
      "text/plain": [
       "'9782740415153'"
      ]
     },
     "execution_count": 22,
     "metadata": {},
     "output_type": "execute_result"
    }
   ],
   "source": [
    "isbn10_to_isbn13(\"274041515X\")"
   ]
  },
  {
   "cell_type": "code",
   "execution_count": null,
   "metadata": {},
   "outputs": [],
   "source": []
  },
  {
   "cell_type": "markdown",
   "metadata": {},
   "source": [
    "# isbn 9/10 to isbn 13 (not used, coded for educational purpose)"
   ]
  },
  {
   "cell_type": "code",
   "execution_count": 57,
   "metadata": {},
   "outputs": [
    {
     "data": {
      "text/plain": [
       "'6'"
      ]
     },
     "execution_count": 57,
     "metadata": {},
     "output_type": "execute_result"
    }
   ],
   "source": [
    "def compute_isbn10_checksum(isbn10):\n",
    "    checksum = 0\n",
    "    for i in range(9):\n",
    "        digit = int(isbn10[i])\n",
    "        checksum += digit *(i+1)\n",
    "    checksum = checksum % 11\n",
    "    if checksum == 10:\n",
    "        checksum = 'X'\n",
    "    return str(checksum)\n",
    "\n",
    "compute_isbn10_checksum(\"2910635685\")"
   ]
  },
  {
   "cell_type": "code",
   "execution_count": 56,
   "metadata": {},
   "outputs": [
    {
     "data": {
      "text/plain": [
       "'1'"
      ]
     },
     "execution_count": 56,
     "metadata": {},
     "output_type": "execute_result"
    }
   ],
   "source": [
    "compute_isbn10_checksum(\"2748501721\")"
   ]
  },
  {
   "cell_type": "code",
   "execution_count": 8,
   "metadata": {},
   "outputs": [],
   "source": [
    "\n",
    "\n",
    "def compute_isbn13_checksum(isbn13):\n",
    "    checksum = 0\n",
    "    for i in range(12):\n",
    "        digit = int(isbn13[i])\n",
    "        if i % 2 == 0:\n",
    "            checksum += digit\n",
    "        else:\n",
    "            checksum += 3 * digit\n",
    "    checksum = 10 - (checksum % 10)\n",
    "    if checksum == 10:\n",
    "        checksum = 0\n",
    "    return str(checksum)\n",
    "\n",
    "def sbn_to_isbn10(sbn):\n",
    "    # Check if the input is a valid SBN string\n",
    "    if len(sbn) != 9 or not sbn.isdigit():\n",
    "        return \"Invalid SBN string\"\n",
    "\n",
    "    isbn10 = \"0\" + sbn\n",
    "    return isbn10\n",
    "\n",
    "def is_isbn10_format_correct(isbn10):\n",
    "   # Check if the input is a valid ISBN-10 string\n",
    "    if len(isbn10) != 10 :\n",
    "        return False\n",
    "    if (isbn10[:-1].isdigit() or \n",
    "        isbn10[-1] != 'X' and not isbn10[-1].isdigit()):\n",
    "        return False\n",
    "\n",
    "def is_isbn13_format_correct(isbn13):\n",
    "    if len(isbn13) != 13:\n",
    "        return False\n",
    "    if not isbn13.isdigit():\n",
    "        return False\n",
    "    if compute_isbn13_checksum(isbn13) != int(isbn13[12]):\n",
    "        return False\n",
    "    return True\n",
    "\n",
    "def is_sbn_format_correct(sbn):\n",
    "    if len(sbn) == 9 and sbn.isdigit():\n",
    "        return True\n",
    "    else: \n",
    "        return False\n",
    "\n",
    "    \n",
    "def isbn10_to_isbn13(isbn10):\n",
    "    isbn13_prefix = \"978\"\n",
    "    isbn10_without_checksum = isbn10[:-1]\n",
    "    isbn13_without_checksum = isbn13_prefix + isbn10_without_checksum\n",
    "    isbn13 = isbn13_without_checksum + checksum\n",
    "    return isbn13"
   ]
  },
  {
   "cell_type": "code",
   "execution_count": 26,
   "metadata": {},
   "outputs": [
    {
     "name": "stdout",
     "output_type": "stream",
     "text": [
      "True\n",
      "False\n",
      "9780746048313\n"
     ]
    }
   ],
   "source": [
    "print(isbnlib.is_isbn10(\"0746048319\"))\n",
    "print(isbnlib.is_isbn13(\"0746048319\"))\n",
    "print(isbnlib.to_isbn13(\"0746048319\"))"
   ]
  },
  {
   "cell_type": "code",
   "execution_count": 30,
   "metadata": {},
   "outputs": [
    {
     "name": "stdout",
     "output_type": "stream",
     "text": [
      "9782748501728\n"
     ]
    }
   ],
   "source": [
    "print(isbnlib.to_isbn13(\"2748501721\"))"
   ]
  },
  {
   "cell_type": "code",
   "execution_count": null,
   "metadata": {},
   "outputs": [],
   "source": []
  }
 ],
 "metadata": {
  "kernelspec": {
   "display_name": "Python 3",
   "language": "python",
   "name": "python3"
  },
  "language_info": {
   "codemirror_mode": {
    "name": "ipython",
    "version": 3
   },
   "file_extension": ".py",
   "mimetype": "text/x-python",
   "name": "python",
   "nbconvert_exporter": "python",
   "pygments_lexer": "ipython3",
   "version": "3.11.7"
  }
 },
 "nbformat": 4,
 "nbformat_minor": 2
}
